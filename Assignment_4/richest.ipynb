{
 "cells": [
  {
   "cell_type": "code",
   "execution_count": 1,
   "id": "dabf48d7",
   "metadata": {},
   "outputs": [],
   "source": [
    "import pandas as pd\n"
   ]
  },
  {
   "cell_type": "code",
   "execution_count": 2,
   "id": "83515d2e",
   "metadata": {},
   "outputs": [],
   "source": [
    "#read the excel sheet\n",
    "df= pd.read_excel('fictional_richest_people.xlsx')"
   ]
  },
  {
   "cell_type": "code",
   "execution_count": 3,
   "id": "6efc8c20",
   "metadata": {},
   "outputs": [
    {
     "data": {
      "text/html": [
       "<div>\n",
       "<style scoped>\n",
       "    .dataframe tbody tr th:only-of-type {\n",
       "        vertical-align: middle;\n",
       "    }\n",
       "\n",
       "    .dataframe tbody tr th {\n",
       "        vertical-align: top;\n",
       "    }\n",
       "\n",
       "    .dataframe thead th {\n",
       "        text-align: right;\n",
       "    }\n",
       "</style>\n",
       "<table border=\"1\" class=\"dataframe\">\n",
       "  <thead>\n",
       "    <tr style=\"text-align: right;\">\n",
       "      <th></th>\n",
       "      <th>Name</th>\n",
       "      <th>Email</th>\n",
       "      <th>Website</th>\n",
       "      <th>Phone Number</th>\n",
       "      <th>Net Worth</th>\n",
       "    </tr>\n",
       "  </thead>\n",
       "  <tbody>\n",
       "    <tr>\n",
       "      <th>30</th>\n",
       "      <td>Amber Mercer</td>\n",
       "      <td>NaN</td>\n",
       "      <td>http://flowers-osborne.info/</td>\n",
       "      <td>001-342-957-9788x124</td>\n",
       "      <td>$46 billion</td>\n",
       "    </tr>\n",
       "    <tr>\n",
       "      <th>28</th>\n",
       "      <td>ì˜¤ëª…ìˆ™</td>\n",
       "      <td>hyeonjun22@hotmail.com</td>\n",
       "      <td>https://angimo.com/</td>\n",
       "      <td>NaN</td>\n",
       "      <td>$34 billion</td>\n",
       "    </tr>\n",
       "    <tr>\n",
       "      <th>35</th>\n",
       "      <td>éˆ´æœ¨ çŸ¥å®Ÿ</td>\n",
       "      <td>NaN</td>\n",
       "      <td>http://kondo.com/</td>\n",
       "      <td>070-8335-7090</td>\n",
       "      <td>$196 billion</td>\n",
       "    </tr>\n",
       "    <tr>\n",
       "      <th>38</th>\n",
       "      <td>Andrea Thorsen</td>\n",
       "      <td>alfhaugland@yahoo.com</td>\n",
       "      <td>http://solheim.net/</td>\n",
       "      <td>69916701</td>\n",
       "      <td>$12 billion</td>\n",
       "    </tr>\n",
       "    <tr>\n",
       "      <th>45</th>\n",
       "      <td>é™ˆæ¡‚è£</td>\n",
       "      <td>NaN</td>\n",
       "      <td>http://uy.cn/</td>\n",
       "      <td>14599804438</td>\n",
       "      <td>$151 billion</td>\n",
       "    </tr>\n",
       "    <tr>\n",
       "      <th>22</th>\n",
       "      <td>ì˜¤ìˆ˜ë¹ˆ</td>\n",
       "      <td>jiyeonggim@hanmail.net</td>\n",
       "      <td>http://ju.com/</td>\n",
       "      <td>033-427-6616</td>\n",
       "      <td>$151 billion</td>\n",
       "    </tr>\n",
       "    <tr>\n",
       "      <th>36</th>\n",
       "      <td>Nicole Collier</td>\n",
       "      <td>georgemorris@gmail.com</td>\n",
       "      <td>https://www.johnson.biz/</td>\n",
       "      <td>NaN</td>\n",
       "      <td>$165 billion</td>\n",
       "    </tr>\n",
       "    <tr>\n",
       "      <th>40</th>\n",
       "      <td>ë°°ì€ì •</td>\n",
       "      <td>NaN</td>\n",
       "      <td>https://www.igim.com/</td>\n",
       "      <td>NaN</td>\n",
       "      <td>$99 billion</td>\n",
       "    </tr>\n",
       "    <tr>\n",
       "      <th>17</th>\n",
       "      <td>è¥¿æ‘ æ¡ƒå­</td>\n",
       "      <td>takumanakajima@yahoo.com</td>\n",
       "      <td>http://www.kato.net/</td>\n",
       "      <td>84-5006-8140</td>\n",
       "      <td>$92 billion</td>\n",
       "    </tr>\n",
       "    <tr>\n",
       "      <th>48</th>\n",
       "      <td>Maria Contreras</td>\n",
       "      <td>daniel01@gmail.com</td>\n",
       "      <td>https://www.green-hanna.com/</td>\n",
       "      <td>NaN</td>\n",
       "      <td>$2 billion</td>\n",
       "    </tr>\n",
       "  </tbody>\n",
       "</table>\n",
       "</div>"
      ],
      "text/plain": [
       "               Name                     Email                       Website  \\\n",
       "30     Amber Mercer                       NaN  http://flowers-osborne.info/   \n",
       "28        ì˜¤ëª…ìˆ™    hyeonjun22@hotmail.com           https://angimo.com/   \n",
       "35    éˆ´æœ¨ çŸ¥å®Ÿ                       NaN             http://kondo.com/   \n",
       "38   Andrea Thorsen     alfhaugland@yahoo.com           http://solheim.net/   \n",
       "45        é™ˆæ¡‚è£                       NaN                 http://uy.cn/   \n",
       "22        ì˜¤ìˆ˜ë¹ˆ    jiyeonggim@hanmail.net                http://ju.com/   \n",
       "36   Nicole Collier    georgemorris@gmail.com      https://www.johnson.biz/   \n",
       "40        ë°°ì€ì •                       NaN         https://www.igim.com/   \n",
       "17    è¥¿æ‘ æ¡ƒå­  takumanakajima@yahoo.com          http://www.kato.net/   \n",
       "48  Maria Contreras        daniel01@gmail.com  https://www.green-hanna.com/   \n",
       "\n",
       "            Phone Number     Net Worth  \n",
       "30  001-342-957-9788x124   $46 billion  \n",
       "28                   NaN   $34 billion  \n",
       "35         070-8335-7090  $196 billion  \n",
       "38              69916701   $12 billion  \n",
       "45           14599804438  $151 billion  \n",
       "22          033-427-6616  $151 billion  \n",
       "36                   NaN  $165 billion  \n",
       "40                   NaN   $99 billion  \n",
       "17          84-5006-8140   $92 billion  \n",
       "48                   NaN    $2 billion  "
      ]
     },
     "execution_count": 3,
     "metadata": {},
     "output_type": "execute_result"
    }
   ],
   "source": [
    "#print out 10 random samples of the dataframe\n",
    "df.sample(10)"
   ]
  },
  {
   "cell_type": "code",
   "execution_count": 4,
   "id": "c824fb0f",
   "metadata": {},
   "outputs": [
    {
     "name": "stdout",
     "output_type": "stream",
     "text": [
      "<class 'pandas.core.frame.DataFrame'>\n",
      "RangeIndex: 50 entries, 0 to 49\n",
      "Data columns (total 5 columns):\n",
      " #   Column        Non-Null Count  Dtype \n",
      "---  ------        --------------  ----- \n",
      " 0   Name          50 non-null     object\n",
      " 1   Email         40 non-null     object\n",
      " 2   Website       50 non-null     object\n",
      " 3   Phone Number  37 non-null     object\n",
      " 4   Net Worth     50 non-null     object\n",
      "dtypes: object(5)\n",
      "memory usage: 2.1+ KB\n"
     ]
    }
   ],
   "source": [
    "#check the datatype of each coloumn\n",
    "df.info()"
   ]
  },
  {
   "cell_type": "code",
   "execution_count": 18,
   "id": "6d9b3419",
   "metadata": {},
   "outputs": [],
   "source": [
    "#Who is the richest in this list?"
   ]
  },
  {
   "cell_type": "code",
   "execution_count": 19,
   "id": "979c6aed",
   "metadata": {},
   "outputs": [
    {
     "name": "stdout",
     "output_type": "stream",
     "text": [
      "Extracted numbers:\n",
      "0      74\n",
      "1      66\n",
      "2      74\n",
      "3     123\n",
      "4     126\n",
      "5     144\n",
      "6      90\n",
      "7     148\n",
      "8      42\n",
      "9      56\n",
      "10    171\n",
      "11    189\n",
      "12     17\n",
      "13    175\n",
      "14     11\n",
      "15    123\n",
      "16    184\n",
      "17     92\n",
      "18    112\n",
      "19    183\n",
      "20     82\n",
      "21    108\n",
      "22    151\n",
      "23    163\n",
      "24     15\n",
      "25     69\n",
      "26     46\n",
      "27     24\n",
      "28     34\n",
      "29      2\n",
      "30     46\n",
      "31    168\n",
      "32    123\n",
      "33    155\n",
      "34    125\n",
      "35    196\n",
      "36    165\n",
      "37     18\n",
      "38     12\n",
      "39     25\n",
      "40     99\n",
      "41    143\n",
      "42     11\n",
      "43     69\n",
      "44    100\n",
      "45    151\n",
      "46    185\n",
      "47    186\n",
      "48      2\n",
      "49     15\n",
      "Name: Net Worth, dtype: int64\n"
     ]
    }
   ],
   "source": [
    "# Convert the 'Net Worth' column to string dtype\n",
    "df['Net Worth'] = df['Net Worth'].astype(str)\n",
    "\n",
    "# Define the regular expression pattern\n",
    "pattern = r'(\\d+)'\n",
    "\n",
    "# Extract the number from each string using the regular expression\n",
    "extracted_number = df['Net Worth'].str.extract(pattern, expand=False)\n",
    "\n",
    "# Convert the extracted numbers from strings to integers or floats if needed\n",
    "extracted_number = pd.to_numeric(extracted_number)\n",
    "\n",
    "print(\"Extracted numbers:\")\n",
    "print(extracted_number)"
   ]
  },
  {
   "cell_type": "code",
   "execution_count": 10,
   "id": "9b14bfaf",
   "metadata": {},
   "outputs": [
    {
     "name": "stdout",
     "output_type": "stream",
     "text": [
      "Name of the person with the maximum net worth: éˆ´æœ¨ çŸ¥å®Ÿ\n"
     ]
    }
   ],
   "source": [
    "# Find the index of the row where the maximum net worth occurs\n",
    "max_index = extracted_number.idxmax()\n",
    "\n",
    "# Access the name of the person at the corresponding index\n",
    "person_name = df.loc[max_index, 'Name']\n",
    "\n",
    "print(\"Name of the person with the maximum net worth:\", person_name)"
   ]
  },
  {
   "cell_type": "code",
   "execution_count": 14,
   "id": "a0c73f6d",
   "metadata": {},
   "outputs": [],
   "source": [
    "#How many people are without an email?"
   ]
  },
  {
   "cell_type": "code",
   "execution_count": 15,
   "id": "0ee9d750",
   "metadata": {},
   "outputs": [
    {
     "name": "stdout",
     "output_type": "stream",
     "text": [
      "Number of people without an email: 10\n"
     ]
    }
   ],
   "source": [
    "num_people_without_email = df['Email'].isnull().sum()\n",
    "\n",
    "print(\"Number of people without an email:\", num_people_without_email)"
   ]
  },
  {
   "cell_type": "code",
   "execution_count": 16,
   "id": "d98d3977",
   "metadata": {},
   "outputs": [],
   "source": [
    "#How many people are without phone numbers?"
   ]
  },
  {
   "cell_type": "code",
   "execution_count": 17,
   "id": "f6a8956d",
   "metadata": {},
   "outputs": [
    {
     "name": "stdout",
     "output_type": "stream",
     "text": [
      "Number of people without contact: 13\n"
     ]
    }
   ],
   "source": [
    "num_people_without_ph = df['Phone Number'].isnull().sum()\n",
    "\n",
    "print(\"Number of people without contact:\", num_people_without_ph)"
   ]
  },
  {
   "cell_type": "code",
   "execution_count": null,
   "id": "521e8afc",
   "metadata": {},
   "outputs": [],
   "source": []
  }
 ],
 "metadata": {
  "kernelspec": {
   "display_name": "Python 3 (ipykernel)",
   "language": "python",
   "name": "python3"
  },
  "language_info": {
   "codemirror_mode": {
    "name": "ipython",
    "version": 3
   },
   "file_extension": ".py",
   "mimetype": "text/x-python",
   "name": "python",
   "nbconvert_exporter": "python",
   "pygments_lexer": "ipython3",
   "version": "3.11.5"
  }
 },
 "nbformat": 4,
 "nbformat_minor": 5
}
