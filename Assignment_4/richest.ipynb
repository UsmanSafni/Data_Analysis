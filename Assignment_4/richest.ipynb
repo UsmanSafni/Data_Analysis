{
 "cells": [
  {
   "cell_type": "code",
   "execution_count": 1,
   "id": "dabf48d7",
   "metadata": {},
   "outputs": [],
   "source": [
    "import pandas as pd\n"
   ]
  },
  {
   "cell_type": "code",
   "execution_count": 2,
   "id": "83515d2e",
   "metadata": {},
   "outputs": [],
   "source": [
    "#read the excel sheet\n",
    "df= pd.read_excel('fictional_richest_people.xlsx')"
   ]
  },
  {
   "cell_type": "code",
   "execution_count": 3,
   "id": "6efc8c20",
   "metadata": {},
   "outputs": [
    {
     "data": {
      "text/html": [
       "<div>\n",
       "<style scoped>\n",
       "    .dataframe tbody tr th:only-of-type {\n",
       "        vertical-align: middle;\n",
       "    }\n",
       "\n",
       "    .dataframe tbody tr th {\n",
       "        vertical-align: top;\n",
       "    }\n",
       "\n",
       "    .dataframe thead th {\n",
       "        text-align: right;\n",
       "    }\n",
       "</style>\n",
       "<table border=\"1\" class=\"dataframe\">\n",
       "  <thead>\n",
       "    <tr style=\"text-align: right;\">\n",
       "      <th></th>\n",
       "      <th>Name</th>\n",
       "      <th>Email</th>\n",
       "      <th>Website</th>\n",
       "      <th>Phone Number</th>\n",
       "      <th>Net Worth</th>\n",
       "    </tr>\n",
       "  </thead>\n",
       "  <tbody>\n",
       "    <tr>\n",
       "      <th>24</th>\n",
       "      <td>Stephen Browning</td>\n",
       "      <td>andrew92@hotmail.com</td>\n",
       "      <td>https://www.delacruz-cobb.com/</td>\n",
       "      <td>NaN</td>\n",
       "      <td>$15 billion</td>\n",
       "    </tr>\n",
       "    <tr>\n",
       "      <th>35</th>\n",
       "      <td>éˆ´æœ¨ çŸ¥å®Ÿ</td>\n",
       "      <td>NaN</td>\n",
       "      <td>http://kondo.com/</td>\n",
       "      <td>070-8335-7090</td>\n",
       "      <td>$196 billion</td>\n",
       "    </tr>\n",
       "    <tr>\n",
       "      <th>6</th>\n",
       "      <td>Deanna Bender</td>\n",
       "      <td>rvasquez@gmail.com</td>\n",
       "      <td>https://arnold.net/</td>\n",
       "      <td>4839936016</td>\n",
       "      <td>$90 billion</td>\n",
       "    </tr>\n",
       "    <tr>\n",
       "      <th>5</th>\n",
       "      <td>ç”°ä¸­ é‡Œä½³</td>\n",
       "      <td>NaN</td>\n",
       "      <td>https://tanaka.net/</td>\n",
       "      <td>070-8821-2415</td>\n",
       "      <td>$144 billion</td>\n",
       "    </tr>\n",
       "    <tr>\n",
       "      <th>44</th>\n",
       "      <td>Eirik-Erling Moe</td>\n",
       "      <td>larsenlaila@hotmail.com</td>\n",
       "      <td>https://aas.no/</td>\n",
       "      <td>NaN</td>\n",
       "      <td>$100 billion</td>\n",
       "    </tr>\n",
       "    <tr>\n",
       "      <th>28</th>\n",
       "      <td>ì˜¤ëª…ìˆ™</td>\n",
       "      <td>hyeonjun22@hotmail.com</td>\n",
       "      <td>https://angimo.com/</td>\n",
       "      <td>NaN</td>\n",
       "      <td>$34 billion</td>\n",
       "    </tr>\n",
       "    <tr>\n",
       "      <th>3</th>\n",
       "      <td>çŽ‹è¶…</td>\n",
       "      <td>hgu@gmail.com</td>\n",
       "      <td>http://www.73.net/</td>\n",
       "      <td>18099330306</td>\n",
       "      <td>$123 billion</td>\n",
       "    </tr>\n",
       "    <tr>\n",
       "      <th>49</th>\n",
       "      <td>Advik Sahni</td>\n",
       "      <td>oarya@gmail.com</td>\n",
       "      <td>http://vasa.biz/</td>\n",
       "      <td>439778837</td>\n",
       "      <td>$15 billion</td>\n",
       "    </tr>\n",
       "    <tr>\n",
       "      <th>11</th>\n",
       "      <td>ä½ã€…æœ¨ ç›´å­</td>\n",
       "      <td>takumasuzuki@yahoo.com</td>\n",
       "      <td>http://fujiwara.com/</td>\n",
       "      <td>080-4699-4757</td>\n",
       "      <td>$189 billion</td>\n",
       "    </tr>\n",
       "    <tr>\n",
       "      <th>38</th>\n",
       "      <td>Andrea Thorsen</td>\n",
       "      <td>alfhaugland@yahoo.com</td>\n",
       "      <td>http://solheim.net/</td>\n",
       "      <td>69916701</td>\n",
       "      <td>$12 billion</td>\n",
       "    </tr>\n",
       "  </tbody>\n",
       "</table>\n",
       "</div>"
      ],
      "text/plain": [
       "                Name                    Email                         Website  \\\n",
       "24  Stephen Browning     andrew92@hotmail.com  https://www.delacruz-cobb.com/   \n",
       "35     éˆ´æœ¨ çŸ¥å®Ÿ                      NaN               http://kondo.com/   \n",
       "6      Deanna Bender       rvasquez@gmail.com             https://arnold.net/   \n",
       "5      ç”°ä¸­ é‡Œä½³                      NaN             https://tanaka.net/   \n",
       "44  Eirik-Erling Moe  larsenlaila@hotmail.com                 https://aas.no/   \n",
       "28         ì˜¤ëª…ìˆ™   hyeonjun22@hotmail.com             https://angimo.com/   \n",
       "3             çŽ‹è¶…            hgu@gmail.com              http://www.73.net/   \n",
       "49       Advik Sahni          oarya@gmail.com                http://vasa.biz/   \n",
       "11  ä½ã€…æœ¨ ç›´å­   takumasuzuki@yahoo.com            http://fujiwara.com/   \n",
       "38    Andrea Thorsen    alfhaugland@yahoo.com             http://solheim.net/   \n",
       "\n",
       "     Phone Number     Net Worth  \n",
       "24            NaN   $15 billion  \n",
       "35  070-8335-7090  $196 billion  \n",
       "6      4839936016   $90 billion  \n",
       "5   070-8821-2415  $144 billion  \n",
       "44            NaN  $100 billion  \n",
       "28            NaN   $34 billion  \n",
       "3     18099330306  $123 billion  \n",
       "49      439778837   $15 billion  \n",
       "11  080-4699-4757  $189 billion  \n",
       "38       69916701   $12 billion  "
      ]
     },
     "execution_count": 3,
     "metadata": {},
     "output_type": "execute_result"
    }
   ],
   "source": [
    "#print out 10 random samples of the dataframe\n",
    "df.sample(10)"
   ]
  },
  {
   "cell_type": "code",
   "execution_count": 4,
   "id": "c824fb0f",
   "metadata": {},
   "outputs": [
    {
     "name": "stdout",
     "output_type": "stream",
     "text": [
      "<class 'pandas.core.frame.DataFrame'>\n",
      "RangeIndex: 50 entries, 0 to 49\n",
      "Data columns (total 5 columns):\n",
      " #   Column        Non-Null Count  Dtype \n",
      "---  ------        --------------  ----- \n",
      " 0   Name          50 non-null     object\n",
      " 1   Email         40 non-null     object\n",
      " 2   Website       50 non-null     object\n",
      " 3   Phone Number  37 non-null     object\n",
      " 4   Net Worth     50 non-null     object\n",
      "dtypes: object(5)\n",
      "memory usage: 2.1+ KB\n"
     ]
    }
   ],
   "source": [
    "#check the datatype of each coloumn\n",
    "df.info()"
   ]
  },
  {
   "cell_type": "code",
   "execution_count": null,
   "id": "6d9b3419",
   "metadata": {},
   "outputs": [],
   "source": [
    "1. Who is the richest in this list?"
   ]
  },
  {
   "cell_type": "code",
   "execution_count": 58,
   "id": "9b14bfaf",
   "metadata": {},
   "outputs": [
    {
     "name": "stdout",
     "output_type": "stream",
     "text": [
      "Name of the person with the maximum net worth: éˆ´æœ¨ çŸ¥å®Ÿ\n"
     ]
    }
   ],
   "source": [
    "# Find the index of the row where the maximum net worth occurs\n",
    "max_index = extracted_number.idxmax()\n",
    "\n",
    "# Access the name of the person at the corresponding index\n",
    "person_name = df.loc[max_index, 'Name']\n",
    "\n",
    "print(\"Name of the person with the maximum net worth:\", person_name)"
   ]
  },
  {
   "cell_type": "code",
   "execution_count": null,
   "id": "a0c73f6d",
   "metadata": {},
   "outputs": [],
   "source": [
    "2. How many people are without an email?"
   ]
  },
  {
   "cell_type": "code",
   "execution_count": 35,
   "id": "0ee9d750",
   "metadata": {},
   "outputs": [
    {
     "name": "stdout",
     "output_type": "stream",
     "text": [
      "Number of people without an email: 10\n"
     ]
    }
   ],
   "source": [
    "num_people_without_email = df['Email'].isnull().sum()\n",
    "\n",
    "print(\"Number of people without an email:\", num_people_without_email)"
   ]
  },
  {
   "cell_type": "code",
   "execution_count": null,
   "id": "d98d3977",
   "metadata": {},
   "outputs": [],
   "source": [
    "3. How many people are without phone numbers?"
   ]
  },
  {
   "cell_type": "code",
   "execution_count": 37,
   "id": "f6a8956d",
   "metadata": {},
   "outputs": [
    {
     "name": "stdout",
     "output_type": "stream",
     "text": [
      "Number of people without contact: 13\n"
     ]
    }
   ],
   "source": [
    "num_people_without_ph = df['Phone Number'].isnull().sum()\n",
    "\n",
    "print(\"Number of people without contact:\", num_people_without_ph)"
   ]
  }
 ],
 "metadata": {
  "kernelspec": {
   "display_name": "Python 3 (ipykernel)",
   "language": "python",
   "name": "python3"
  },
  "language_info": {
   "codemirror_mode": {
    "name": "ipython",
    "version": 3
   },
   "file_extension": ".py",
   "mimetype": "text/x-python",
   "name": "python",
   "nbconvert_exporter": "python",
   "pygments_lexer": "ipython3",
   "version": "3.11.5"
  }
 },
 "nbformat": 4,
 "nbformat_minor": 5
}
