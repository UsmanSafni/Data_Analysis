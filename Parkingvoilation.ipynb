{
  "nbformat": 4,
  "nbformat_minor": 0,
  "metadata": {
    "colab": {
      "provenance": [],
      "gpuType": "T4",
      "include_colab_link": true
    },
    "kernelspec": {
      "name": "python3",
      "display_name": "Python 3"
    },
    "language_info": {
      "name": "python"
    },
    "accelerator": "GPU"
  },
  "cells": [
    {
      "cell_type": "markdown",
      "metadata": {
        "id": "view-in-github",
        "colab_type": "text"
      },
      "source": [
        "<a href=\"https://colab.research.google.com/github/UsmanSafni/Data_Analysis/blob/main/Parkingvoilation.ipynb\" target=\"_parent\"><img src=\"https://colab.research.google.com/assets/colab-badge.svg\" alt=\"Open In Colab\"/></a>"
      ]
    },
    {
      "cell_type": "markdown",
      "source": [],
      "metadata": {
        "id": "Khd5-C508vex"
      }
    },
    {
      "cell_type": "code",
      "execution_count": 1,
      "metadata": {
        "id": "UN1VYOTx8lnT"
      },
      "outputs": [],
      "source": [
        "import pandas as pd"
      ]
    },
    {
      "cell_type": "code",
      "source": [
        "!wget https://data.rapids.ai/datasets/nyc_parking/nyc_parking_violations_2022.parquet -O /tmp/nyc_parking_violations_2022.parquet"
      ],
      "metadata": {
        "id": "jq6dIhDtIpbF",
        "outputId": "6f11e5cc-a78a-4a3d-b562-28e8776aa227",
        "colab": {
          "base_uri": "https://localhost:8080/"
        }
      },
      "execution_count": 2,
      "outputs": [
        {
          "output_type": "stream",
          "name": "stdout",
          "text": [
            "--2024-05-31 04:02:39--  https://data.rapids.ai/datasets/nyc_parking/nyc_parking_violations_2022.parquet\n",
            "Resolving data.rapids.ai (data.rapids.ai)... 13.225.4.33, 13.225.4.58, 13.225.4.53, ...\n",
            "Connecting to data.rapids.ai (data.rapids.ai)|13.225.4.33|:443... connected.\n",
            "HTTP request sent, awaiting response... 200 OK\n",
            "Length: 474211285 (452M) [binary/octet-stream]\n",
            "Saving to: ‘/tmp/nyc_parking_violations_2022.parquet’\n",
            "\n",
            "/tmp/nyc_parking_vi 100%[===================>] 452.24M  76.2MB/s    in 5.9s    \n",
            "\n",
            "2024-05-31 04:02:46 (77.2 MB/s) - ‘/tmp/nyc_parking_violations_2022.parquet’ saved [474211285/474211285]\n",
            "\n"
          ]
        }
      ]
    },
    {
      "cell_type": "code",
      "source": [
        "# read 5 columns data:\n",
        "df = pd.read_parquet(\n",
        "    \"/tmp/nyc_parking_violations_2022.parquet\",\n",
        "    columns=[\"Registration State\", \"Violation Description\", \"Vehicle Body Type\", \"Issue Date\", \"Summons Number\"]\n",
        ")\n",
        "\n",
        "# view a random sample of 10 rows:\n",
        "df.sample(10)"
      ],
      "metadata": {
        "id": "ESVet81X8pjS",
        "outputId": "bfd19363-73cb-422b-be40-068fd8ea5322",
        "colab": {
          "base_uri": "https://localhost:8080/",
          "height": 363
        }
      },
      "execution_count": 3,
      "outputs": [
        {
          "output_type": "execute_result",
          "data": {
            "text/plain": [
              "         Registration State           Violation Description Vehicle Body Type  \\\n",
              "7150370                  FL  PHTO SCHOOL ZN SPEED VIOLATION                UT   \n",
              "5297356                  NY  38-Failure to Dsplay Meter Rec              SUBN   \n",
              "13779693                 NY        74-Missing Display Plate              2DSD   \n",
              "14721178                 NY  PHTO SCHOOL ZN SPEED VIOLATION              SUBN   \n",
              "5847535                  NY              BUS LANE VIOLATION              4DSD   \n",
              "3307241                  PA  PHTO SCHOOL ZN SPEED VIOLATION                SW   \n",
              "12969334                 NY  71A-Insp Sticker Expired (NYS)              4DSD   \n",
              "748435                   IN                    50-Crosswalk              TRAC   \n",
              "12978080                 NY                 40-Fire Hydrant              SUBN   \n",
              "8194173                  NY                  14-No Standing              4DSD   \n",
              "\n",
              "          Issue Date  Summons Number  \n",
              "7150370   12/03/2021      4759299890  \n",
              "5297356   10/19/2021      8978077894  \n",
              "13779693  05/13/2022      8883493266  \n",
              "14721178  06/16/2022      4783856930  \n",
              "5847535   11/10/2021      4020782349  \n",
              "3307241   08/26/2021      4746722079  \n",
              "12969334  04/28/2022      8876771098  \n",
              "748435    07/17/2021      8945179689  \n",
              "12978080  05/07/2022      8883727071  \n",
              "8194173   01/26/2022      8913173372  "
            ],
            "text/html": [
              "\n",
              "  <div id=\"df-09a6cf4f-4a41-4854-acfc-56d3efb03850\" class=\"colab-df-container\">\n",
              "    <div>\n",
              "<style scoped>\n",
              "    .dataframe tbody tr th:only-of-type {\n",
              "        vertical-align: middle;\n",
              "    }\n",
              "\n",
              "    .dataframe tbody tr th {\n",
              "        vertical-align: top;\n",
              "    }\n",
              "\n",
              "    .dataframe thead th {\n",
              "        text-align: right;\n",
              "    }\n",
              "</style>\n",
              "<table border=\"1\" class=\"dataframe\">\n",
              "  <thead>\n",
              "    <tr style=\"text-align: right;\">\n",
              "      <th></th>\n",
              "      <th>Registration State</th>\n",
              "      <th>Violation Description</th>\n",
              "      <th>Vehicle Body Type</th>\n",
              "      <th>Issue Date</th>\n",
              "      <th>Summons Number</th>\n",
              "    </tr>\n",
              "  </thead>\n",
              "  <tbody>\n",
              "    <tr>\n",
              "      <th>7150370</th>\n",
              "      <td>FL</td>\n",
              "      <td>PHTO SCHOOL ZN SPEED VIOLATION</td>\n",
              "      <td>UT</td>\n",
              "      <td>12/03/2021</td>\n",
              "      <td>4759299890</td>\n",
              "    </tr>\n",
              "    <tr>\n",
              "      <th>5297356</th>\n",
              "      <td>NY</td>\n",
              "      <td>38-Failure to Dsplay Meter Rec</td>\n",
              "      <td>SUBN</td>\n",
              "      <td>10/19/2021</td>\n",
              "      <td>8978077894</td>\n",
              "    </tr>\n",
              "    <tr>\n",
              "      <th>13779693</th>\n",
              "      <td>NY</td>\n",
              "      <td>74-Missing Display Plate</td>\n",
              "      <td>2DSD</td>\n",
              "      <td>05/13/2022</td>\n",
              "      <td>8883493266</td>\n",
              "    </tr>\n",
              "    <tr>\n",
              "      <th>14721178</th>\n",
              "      <td>NY</td>\n",
              "      <td>PHTO SCHOOL ZN SPEED VIOLATION</td>\n",
              "      <td>SUBN</td>\n",
              "      <td>06/16/2022</td>\n",
              "      <td>4783856930</td>\n",
              "    </tr>\n",
              "    <tr>\n",
              "      <th>5847535</th>\n",
              "      <td>NY</td>\n",
              "      <td>BUS LANE VIOLATION</td>\n",
              "      <td>4DSD</td>\n",
              "      <td>11/10/2021</td>\n",
              "      <td>4020782349</td>\n",
              "    </tr>\n",
              "    <tr>\n",
              "      <th>3307241</th>\n",
              "      <td>PA</td>\n",
              "      <td>PHTO SCHOOL ZN SPEED VIOLATION</td>\n",
              "      <td>SW</td>\n",
              "      <td>08/26/2021</td>\n",
              "      <td>4746722079</td>\n",
              "    </tr>\n",
              "    <tr>\n",
              "      <th>12969334</th>\n",
              "      <td>NY</td>\n",
              "      <td>71A-Insp Sticker Expired (NYS)</td>\n",
              "      <td>4DSD</td>\n",
              "      <td>04/28/2022</td>\n",
              "      <td>8876771098</td>\n",
              "    </tr>\n",
              "    <tr>\n",
              "      <th>748435</th>\n",
              "      <td>IN</td>\n",
              "      <td>50-Crosswalk</td>\n",
              "      <td>TRAC</td>\n",
              "      <td>07/17/2021</td>\n",
              "      <td>8945179689</td>\n",
              "    </tr>\n",
              "    <tr>\n",
              "      <th>12978080</th>\n",
              "      <td>NY</td>\n",
              "      <td>40-Fire Hydrant</td>\n",
              "      <td>SUBN</td>\n",
              "      <td>05/07/2022</td>\n",
              "      <td>8883727071</td>\n",
              "    </tr>\n",
              "    <tr>\n",
              "      <th>8194173</th>\n",
              "      <td>NY</td>\n",
              "      <td>14-No Standing</td>\n",
              "      <td>4DSD</td>\n",
              "      <td>01/26/2022</td>\n",
              "      <td>8913173372</td>\n",
              "    </tr>\n",
              "  </tbody>\n",
              "</table>\n",
              "</div>\n",
              "    <div class=\"colab-df-buttons\">\n",
              "\n",
              "  <div class=\"colab-df-container\">\n",
              "    <button class=\"colab-df-convert\" onclick=\"convertToInteractive('df-09a6cf4f-4a41-4854-acfc-56d3efb03850')\"\n",
              "            title=\"Convert this dataframe to an interactive table.\"\n",
              "            style=\"display:none;\">\n",
              "\n",
              "  <svg xmlns=\"http://www.w3.org/2000/svg\" height=\"24px\" viewBox=\"0 -960 960 960\">\n",
              "    <path d=\"M120-120v-720h720v720H120Zm60-500h600v-160H180v160Zm220 220h160v-160H400v160Zm0 220h160v-160H400v160ZM180-400h160v-160H180v160Zm440 0h160v-160H620v160ZM180-180h160v-160H180v160Zm440 0h160v-160H620v160Z\"/>\n",
              "  </svg>\n",
              "    </button>\n",
              "\n",
              "  <style>\n",
              "    .colab-df-container {\n",
              "      display:flex;\n",
              "      gap: 12px;\n",
              "    }\n",
              "\n",
              "    .colab-df-convert {\n",
              "      background-color: #E8F0FE;\n",
              "      border: none;\n",
              "      border-radius: 50%;\n",
              "      cursor: pointer;\n",
              "      display: none;\n",
              "      fill: #1967D2;\n",
              "      height: 32px;\n",
              "      padding: 0 0 0 0;\n",
              "      width: 32px;\n",
              "    }\n",
              "\n",
              "    .colab-df-convert:hover {\n",
              "      background-color: #E2EBFA;\n",
              "      box-shadow: 0px 1px 2px rgba(60, 64, 67, 0.3), 0px 1px 3px 1px rgba(60, 64, 67, 0.15);\n",
              "      fill: #174EA6;\n",
              "    }\n",
              "\n",
              "    .colab-df-buttons div {\n",
              "      margin-bottom: 4px;\n",
              "    }\n",
              "\n",
              "    [theme=dark] .colab-df-convert {\n",
              "      background-color: #3B4455;\n",
              "      fill: #D2E3FC;\n",
              "    }\n",
              "\n",
              "    [theme=dark] .colab-df-convert:hover {\n",
              "      background-color: #434B5C;\n",
              "      box-shadow: 0px 1px 3px 1px rgba(0, 0, 0, 0.15);\n",
              "      filter: drop-shadow(0px 1px 2px rgba(0, 0, 0, 0.3));\n",
              "      fill: #FFFFFF;\n",
              "    }\n",
              "  </style>\n",
              "\n",
              "    <script>\n",
              "      const buttonEl =\n",
              "        document.querySelector('#df-09a6cf4f-4a41-4854-acfc-56d3efb03850 button.colab-df-convert');\n",
              "      buttonEl.style.display =\n",
              "        google.colab.kernel.accessAllowed ? 'block' : 'none';\n",
              "\n",
              "      async function convertToInteractive(key) {\n",
              "        const element = document.querySelector('#df-09a6cf4f-4a41-4854-acfc-56d3efb03850');\n",
              "        const dataTable =\n",
              "          await google.colab.kernel.invokeFunction('convertToInteractive',\n",
              "                                                    [key], {});\n",
              "        if (!dataTable) return;\n",
              "\n",
              "        const docLinkHtml = 'Like what you see? Visit the ' +\n",
              "          '<a target=\"_blank\" href=https://colab.research.google.com/notebooks/data_table.ipynb>data table notebook</a>'\n",
              "          + ' to learn more about interactive tables.';\n",
              "        element.innerHTML = '';\n",
              "        dataTable['output_type'] = 'display_data';\n",
              "        await google.colab.output.renderOutput(dataTable, element);\n",
              "        const docLink = document.createElement('div');\n",
              "        docLink.innerHTML = docLinkHtml;\n",
              "        element.appendChild(docLink);\n",
              "      }\n",
              "    </script>\n",
              "  </div>\n",
              "\n",
              "\n",
              "<div id=\"df-71b67c49-363a-4b40-9eaa-39d2caab4b35\">\n",
              "  <button class=\"colab-df-quickchart\" onclick=\"quickchart('df-71b67c49-363a-4b40-9eaa-39d2caab4b35')\"\n",
              "            title=\"Suggest charts\"\n",
              "            style=\"display:none;\">\n",
              "\n",
              "<svg xmlns=\"http://www.w3.org/2000/svg\" height=\"24px\"viewBox=\"0 0 24 24\"\n",
              "     width=\"24px\">\n",
              "    <g>\n",
              "        <path d=\"M19 3H5c-1.1 0-2 .9-2 2v14c0 1.1.9 2 2 2h14c1.1 0 2-.9 2-2V5c0-1.1-.9-2-2-2zM9 17H7v-7h2v7zm4 0h-2V7h2v10zm4 0h-2v-4h2v4z\"/>\n",
              "    </g>\n",
              "</svg>\n",
              "  </button>\n",
              "\n",
              "<style>\n",
              "  .colab-df-quickchart {\n",
              "      --bg-color: #E8F0FE;\n",
              "      --fill-color: #1967D2;\n",
              "      --hover-bg-color: #E2EBFA;\n",
              "      --hover-fill-color: #174EA6;\n",
              "      --disabled-fill-color: #AAA;\n",
              "      --disabled-bg-color: #DDD;\n",
              "  }\n",
              "\n",
              "  [theme=dark] .colab-df-quickchart {\n",
              "      --bg-color: #3B4455;\n",
              "      --fill-color: #D2E3FC;\n",
              "      --hover-bg-color: #434B5C;\n",
              "      --hover-fill-color: #FFFFFF;\n",
              "      --disabled-bg-color: #3B4455;\n",
              "      --disabled-fill-color: #666;\n",
              "  }\n",
              "\n",
              "  .colab-df-quickchart {\n",
              "    background-color: var(--bg-color);\n",
              "    border: none;\n",
              "    border-radius: 50%;\n",
              "    cursor: pointer;\n",
              "    display: none;\n",
              "    fill: var(--fill-color);\n",
              "    height: 32px;\n",
              "    padding: 0;\n",
              "    width: 32px;\n",
              "  }\n",
              "\n",
              "  .colab-df-quickchart:hover {\n",
              "    background-color: var(--hover-bg-color);\n",
              "    box-shadow: 0 1px 2px rgba(60, 64, 67, 0.3), 0 1px 3px 1px rgba(60, 64, 67, 0.15);\n",
              "    fill: var(--button-hover-fill-color);\n",
              "  }\n",
              "\n",
              "  .colab-df-quickchart-complete:disabled,\n",
              "  .colab-df-quickchart-complete:disabled:hover {\n",
              "    background-color: var(--disabled-bg-color);\n",
              "    fill: var(--disabled-fill-color);\n",
              "    box-shadow: none;\n",
              "  }\n",
              "\n",
              "  .colab-df-spinner {\n",
              "    border: 2px solid var(--fill-color);\n",
              "    border-color: transparent;\n",
              "    border-bottom-color: var(--fill-color);\n",
              "    animation:\n",
              "      spin 1s steps(1) infinite;\n",
              "  }\n",
              "\n",
              "  @keyframes spin {\n",
              "    0% {\n",
              "      border-color: transparent;\n",
              "      border-bottom-color: var(--fill-color);\n",
              "      border-left-color: var(--fill-color);\n",
              "    }\n",
              "    20% {\n",
              "      border-color: transparent;\n",
              "      border-left-color: var(--fill-color);\n",
              "      border-top-color: var(--fill-color);\n",
              "    }\n",
              "    30% {\n",
              "      border-color: transparent;\n",
              "      border-left-color: var(--fill-color);\n",
              "      border-top-color: var(--fill-color);\n",
              "      border-right-color: var(--fill-color);\n",
              "    }\n",
              "    40% {\n",
              "      border-color: transparent;\n",
              "      border-right-color: var(--fill-color);\n",
              "      border-top-color: var(--fill-color);\n",
              "    }\n",
              "    60% {\n",
              "      border-color: transparent;\n",
              "      border-right-color: var(--fill-color);\n",
              "    }\n",
              "    80% {\n",
              "      border-color: transparent;\n",
              "      border-right-color: var(--fill-color);\n",
              "      border-bottom-color: var(--fill-color);\n",
              "    }\n",
              "    90% {\n",
              "      border-color: transparent;\n",
              "      border-bottom-color: var(--fill-color);\n",
              "    }\n",
              "  }\n",
              "</style>\n",
              "\n",
              "  <script>\n",
              "    async function quickchart(key) {\n",
              "      const quickchartButtonEl =\n",
              "        document.querySelector('#' + key + ' button');\n",
              "      quickchartButtonEl.disabled = true;  // To prevent multiple clicks.\n",
              "      quickchartButtonEl.classList.add('colab-df-spinner');\n",
              "      try {\n",
              "        const charts = await google.colab.kernel.invokeFunction(\n",
              "            'suggestCharts', [key], {});\n",
              "      } catch (error) {\n",
              "        console.error('Error during call to suggestCharts:', error);\n",
              "      }\n",
              "      quickchartButtonEl.classList.remove('colab-df-spinner');\n",
              "      quickchartButtonEl.classList.add('colab-df-quickchart-complete');\n",
              "    }\n",
              "    (() => {\n",
              "      let quickchartButtonEl =\n",
              "        document.querySelector('#df-71b67c49-363a-4b40-9eaa-39d2caab4b35 button');\n",
              "      quickchartButtonEl.style.display =\n",
              "        google.colab.kernel.accessAllowed ? 'block' : 'none';\n",
              "    })();\n",
              "  </script>\n",
              "</div>\n",
              "\n",
              "    </div>\n",
              "  </div>\n"
            ],
            "application/vnd.google.colaboratory.intrinsic+json": {
              "type": "dataframe",
              "repr_error": "0"
            }
          },
          "metadata": {},
          "execution_count": 3
        }
      ]
    },
    {
      "cell_type": "code",
      "source": [
        "#check the datatypes of each column\n",
        "df.info()"
      ],
      "metadata": {
        "colab": {
          "base_uri": "https://localhost:8080/"
        },
        "id": "4g7U0Jiq1Ku9",
        "outputId": "6b798163-f6b7-45c4-ace2-10a1455d43d8"
      },
      "execution_count": 4,
      "outputs": [
        {
          "output_type": "stream",
          "name": "stdout",
          "text": [
            "<class 'pandas.core.frame.DataFrame'>\n",
            "RangeIndex: 15435607 entries, 0 to 15435606\n",
            "Data columns (total 5 columns):\n",
            " #   Column                 Dtype \n",
            "---  ------                 ----- \n",
            " 0   Registration State     object\n",
            " 1   Violation Description  object\n",
            " 2   Vehicle Body Type      object\n",
            " 3   Issue Date             object\n",
            " 4   Summons Number         int64 \n",
            "dtypes: int64(1), object(4)\n",
            "memory usage: 588.8+ MB\n"
          ]
        }
      ]
    },
    {
      "cell_type": "markdown",
      "source": [
        "### **Data Understanding**\n",
        "\n",
        "    "
      ],
      "metadata": {
        "id": "NhV95NtqgS-V"
      }
    },
    {
      "cell_type": "markdown",
      "source": [
        "1. **What is the time range of the dataset?**\n",
        "    - Identify the earliest and latest dates in the dataset to understand the time span covered."
      ],
      "metadata": {
        "id": "VIaSCePigdSr"
      }
    },
    {
      "cell_type": "code",
      "source": [
        "change_datetime=pd.to_datetime(df[\"Issue Date\"])\n",
        "\n",
        "earliest=change_datetime.sort_values().head(1)\n",
        "latest=change_datetime.sort_values().tail(1)\n",
        "print(f\"earliest Date is {earliest.to_string(index=False)}\")\n",
        "print(f\"latest Date is {latest.to_string(index=False)}\")"
      ],
      "metadata": {
        "colab": {
          "base_uri": "https://localhost:8080/"
        },
        "id": "7nZEcPiIgqFI",
        "outputId": "4d8cae07-61df-4e7e-da09-4f5c37efa5b1"
      },
      "execution_count": 11,
      "outputs": [
        {
          "output_type": "stream",
          "name": "stdout",
          "text": [
            "earliest Date is 1973-09-24\n",
            "latest Date is 2067-11-28\n"
          ]
        }
      ]
    },
    {
      "cell_type": "markdown",
      "source": [
        "2. **What are the different violation codes and their descriptions?**\n",
        "    - List the various violation codes and what each code represents."
      ],
      "metadata": {
        "id": "hl0d8cmxgizo"
      }
    },
    {
      "cell_type": "code",
      "source": [
        "df1 = pd.read_parquet(\n",
        "    \"/tmp/nyc_parking_violations_2022.parquet\",\n",
        "    columns=[\"Violation Code\", \"Violation Description\"]\n",
        ")\n",
        "df1.sample(10)"
      ],
      "metadata": {
        "colab": {
          "base_uri": "https://localhost:8080/",
          "height": 363
        },
        "id": "Is4eTRLu478v",
        "outputId": "7f375317-1146-46c3-da46-2ec9929b81e8"
      },
      "execution_count": 14,
      "outputs": [
        {
          "output_type": "execute_result",
          "data": {
            "text/plain": [
              "          Violation Code           Violation Description\n",
              "14969192              74        74-Missing Display Plate\n",
              "7592354               40                 40-Fire Hydrant\n",
              "2346489               69  69-Fail to Dsp Prking Mtr Rcpt\n",
              "5385003               36  PHTO SCHOOL ZN SPEED VIOLATION\n",
              "9937395               46    46A-Double Parking (Non-COM)\n",
              "8345490               36  PHTO SCHOOL ZN SPEED VIOLATION\n",
              "14097307              36  PHTO SCHOOL ZN SPEED VIOLATION\n",
              "11355327              21    21-No Parking (street clean)\n",
              "11439484               5              BUS LANE VIOLATION\n",
              "10068058              36  PHTO SCHOOL ZN SPEED VIOLATION"
            ],
            "text/html": [
              "\n",
              "  <div id=\"df-e552d327-783a-460c-9b46-c5e1c6bdb9e7\" class=\"colab-df-container\">\n",
              "    <div>\n",
              "<style scoped>\n",
              "    .dataframe tbody tr th:only-of-type {\n",
              "        vertical-align: middle;\n",
              "    }\n",
              "\n",
              "    .dataframe tbody tr th {\n",
              "        vertical-align: top;\n",
              "    }\n",
              "\n",
              "    .dataframe thead th {\n",
              "        text-align: right;\n",
              "    }\n",
              "</style>\n",
              "<table border=\"1\" class=\"dataframe\">\n",
              "  <thead>\n",
              "    <tr style=\"text-align: right;\">\n",
              "      <th></th>\n",
              "      <th>Violation Code</th>\n",
              "      <th>Violation Description</th>\n",
              "    </tr>\n",
              "  </thead>\n",
              "  <tbody>\n",
              "    <tr>\n",
              "      <th>14969192</th>\n",
              "      <td>74</td>\n",
              "      <td>74-Missing Display Plate</td>\n",
              "    </tr>\n",
              "    <tr>\n",
              "      <th>7592354</th>\n",
              "      <td>40</td>\n",
              "      <td>40-Fire Hydrant</td>\n",
              "    </tr>\n",
              "    <tr>\n",
              "      <th>2346489</th>\n",
              "      <td>69</td>\n",
              "      <td>69-Fail to Dsp Prking Mtr Rcpt</td>\n",
              "    </tr>\n",
              "    <tr>\n",
              "      <th>5385003</th>\n",
              "      <td>36</td>\n",
              "      <td>PHTO SCHOOL ZN SPEED VIOLATION</td>\n",
              "    </tr>\n",
              "    <tr>\n",
              "      <th>9937395</th>\n",
              "      <td>46</td>\n",
              "      <td>46A-Double Parking (Non-COM)</td>\n",
              "    </tr>\n",
              "    <tr>\n",
              "      <th>8345490</th>\n",
              "      <td>36</td>\n",
              "      <td>PHTO SCHOOL ZN SPEED VIOLATION</td>\n",
              "    </tr>\n",
              "    <tr>\n",
              "      <th>14097307</th>\n",
              "      <td>36</td>\n",
              "      <td>PHTO SCHOOL ZN SPEED VIOLATION</td>\n",
              "    </tr>\n",
              "    <tr>\n",
              "      <th>11355327</th>\n",
              "      <td>21</td>\n",
              "      <td>21-No Parking (street clean)</td>\n",
              "    </tr>\n",
              "    <tr>\n",
              "      <th>11439484</th>\n",
              "      <td>5</td>\n",
              "      <td>BUS LANE VIOLATION</td>\n",
              "    </tr>\n",
              "    <tr>\n",
              "      <th>10068058</th>\n",
              "      <td>36</td>\n",
              "      <td>PHTO SCHOOL ZN SPEED VIOLATION</td>\n",
              "    </tr>\n",
              "  </tbody>\n",
              "</table>\n",
              "</div>\n",
              "    <div class=\"colab-df-buttons\">\n",
              "\n",
              "  <div class=\"colab-df-container\">\n",
              "    <button class=\"colab-df-convert\" onclick=\"convertToInteractive('df-e552d327-783a-460c-9b46-c5e1c6bdb9e7')\"\n",
              "            title=\"Convert this dataframe to an interactive table.\"\n",
              "            style=\"display:none;\">\n",
              "\n",
              "  <svg xmlns=\"http://www.w3.org/2000/svg\" height=\"24px\" viewBox=\"0 -960 960 960\">\n",
              "    <path d=\"M120-120v-720h720v720H120Zm60-500h600v-160H180v160Zm220 220h160v-160H400v160Zm0 220h160v-160H400v160ZM180-400h160v-160H180v160Zm440 0h160v-160H620v160ZM180-180h160v-160H180v160Zm440 0h160v-160H620v160Z\"/>\n",
              "  </svg>\n",
              "    </button>\n",
              "\n",
              "  <style>\n",
              "    .colab-df-container {\n",
              "      display:flex;\n",
              "      gap: 12px;\n",
              "    }\n",
              "\n",
              "    .colab-df-convert {\n",
              "      background-color: #E8F0FE;\n",
              "      border: none;\n",
              "      border-radius: 50%;\n",
              "      cursor: pointer;\n",
              "      display: none;\n",
              "      fill: #1967D2;\n",
              "      height: 32px;\n",
              "      padding: 0 0 0 0;\n",
              "      width: 32px;\n",
              "    }\n",
              "\n",
              "    .colab-df-convert:hover {\n",
              "      background-color: #E2EBFA;\n",
              "      box-shadow: 0px 1px 2px rgba(60, 64, 67, 0.3), 0px 1px 3px 1px rgba(60, 64, 67, 0.15);\n",
              "      fill: #174EA6;\n",
              "    }\n",
              "\n",
              "    .colab-df-buttons div {\n",
              "      margin-bottom: 4px;\n",
              "    }\n",
              "\n",
              "    [theme=dark] .colab-df-convert {\n",
              "      background-color: #3B4455;\n",
              "      fill: #D2E3FC;\n",
              "    }\n",
              "\n",
              "    [theme=dark] .colab-df-convert:hover {\n",
              "      background-color: #434B5C;\n",
              "      box-shadow: 0px 1px 3px 1px rgba(0, 0, 0, 0.15);\n",
              "      filter: drop-shadow(0px 1px 2px rgba(0, 0, 0, 0.3));\n",
              "      fill: #FFFFFF;\n",
              "    }\n",
              "  </style>\n",
              "\n",
              "    <script>\n",
              "      const buttonEl =\n",
              "        document.querySelector('#df-e552d327-783a-460c-9b46-c5e1c6bdb9e7 button.colab-df-convert');\n",
              "      buttonEl.style.display =\n",
              "        google.colab.kernel.accessAllowed ? 'block' : 'none';\n",
              "\n",
              "      async function convertToInteractive(key) {\n",
              "        const element = document.querySelector('#df-e552d327-783a-460c-9b46-c5e1c6bdb9e7');\n",
              "        const dataTable =\n",
              "          await google.colab.kernel.invokeFunction('convertToInteractive',\n",
              "                                                    [key], {});\n",
              "        if (!dataTable) return;\n",
              "\n",
              "        const docLinkHtml = 'Like what you see? Visit the ' +\n",
              "          '<a target=\"_blank\" href=https://colab.research.google.com/notebooks/data_table.ipynb>data table notebook</a>'\n",
              "          + ' to learn more about interactive tables.';\n",
              "        element.innerHTML = '';\n",
              "        dataTable['output_type'] = 'display_data';\n",
              "        await google.colab.output.renderOutput(dataTable, element);\n",
              "        const docLink = document.createElement('div');\n",
              "        docLink.innerHTML = docLinkHtml;\n",
              "        element.appendChild(docLink);\n",
              "      }\n",
              "    </script>\n",
              "  </div>\n",
              "\n",
              "\n",
              "<div id=\"df-59a6de66-0d85-4435-83c6-3ef8c91f177a\">\n",
              "  <button class=\"colab-df-quickchart\" onclick=\"quickchart('df-59a6de66-0d85-4435-83c6-3ef8c91f177a')\"\n",
              "            title=\"Suggest charts\"\n",
              "            style=\"display:none;\">\n",
              "\n",
              "<svg xmlns=\"http://www.w3.org/2000/svg\" height=\"24px\"viewBox=\"0 0 24 24\"\n",
              "     width=\"24px\">\n",
              "    <g>\n",
              "        <path d=\"M19 3H5c-1.1 0-2 .9-2 2v14c0 1.1.9 2 2 2h14c1.1 0 2-.9 2-2V5c0-1.1-.9-2-2-2zM9 17H7v-7h2v7zm4 0h-2V7h2v10zm4 0h-2v-4h2v4z\"/>\n",
              "    </g>\n",
              "</svg>\n",
              "  </button>\n",
              "\n",
              "<style>\n",
              "  .colab-df-quickchart {\n",
              "      --bg-color: #E8F0FE;\n",
              "      --fill-color: #1967D2;\n",
              "      --hover-bg-color: #E2EBFA;\n",
              "      --hover-fill-color: #174EA6;\n",
              "      --disabled-fill-color: #AAA;\n",
              "      --disabled-bg-color: #DDD;\n",
              "  }\n",
              "\n",
              "  [theme=dark] .colab-df-quickchart {\n",
              "      --bg-color: #3B4455;\n",
              "      --fill-color: #D2E3FC;\n",
              "      --hover-bg-color: #434B5C;\n",
              "      --hover-fill-color: #FFFFFF;\n",
              "      --disabled-bg-color: #3B4455;\n",
              "      --disabled-fill-color: #666;\n",
              "  }\n",
              "\n",
              "  .colab-df-quickchart {\n",
              "    background-color: var(--bg-color);\n",
              "    border: none;\n",
              "    border-radius: 50%;\n",
              "    cursor: pointer;\n",
              "    display: none;\n",
              "    fill: var(--fill-color);\n",
              "    height: 32px;\n",
              "    padding: 0;\n",
              "    width: 32px;\n",
              "  }\n",
              "\n",
              "  .colab-df-quickchart:hover {\n",
              "    background-color: var(--hover-bg-color);\n",
              "    box-shadow: 0 1px 2px rgba(60, 64, 67, 0.3), 0 1px 3px 1px rgba(60, 64, 67, 0.15);\n",
              "    fill: var(--button-hover-fill-color);\n",
              "  }\n",
              "\n",
              "  .colab-df-quickchart-complete:disabled,\n",
              "  .colab-df-quickchart-complete:disabled:hover {\n",
              "    background-color: var(--disabled-bg-color);\n",
              "    fill: var(--disabled-fill-color);\n",
              "    box-shadow: none;\n",
              "  }\n",
              "\n",
              "  .colab-df-spinner {\n",
              "    border: 2px solid var(--fill-color);\n",
              "    border-color: transparent;\n",
              "    border-bottom-color: var(--fill-color);\n",
              "    animation:\n",
              "      spin 1s steps(1) infinite;\n",
              "  }\n",
              "\n",
              "  @keyframes spin {\n",
              "    0% {\n",
              "      border-color: transparent;\n",
              "      border-bottom-color: var(--fill-color);\n",
              "      border-left-color: var(--fill-color);\n",
              "    }\n",
              "    20% {\n",
              "      border-color: transparent;\n",
              "      border-left-color: var(--fill-color);\n",
              "      border-top-color: var(--fill-color);\n",
              "    }\n",
              "    30% {\n",
              "      border-color: transparent;\n",
              "      border-left-color: var(--fill-color);\n",
              "      border-top-color: var(--fill-color);\n",
              "      border-right-color: var(--fill-color);\n",
              "    }\n",
              "    40% {\n",
              "      border-color: transparent;\n",
              "      border-right-color: var(--fill-color);\n",
              "      border-top-color: var(--fill-color);\n",
              "    }\n",
              "    60% {\n",
              "      border-color: transparent;\n",
              "      border-right-color: var(--fill-color);\n",
              "    }\n",
              "    80% {\n",
              "      border-color: transparent;\n",
              "      border-right-color: var(--fill-color);\n",
              "      border-bottom-color: var(--fill-color);\n",
              "    }\n",
              "    90% {\n",
              "      border-color: transparent;\n",
              "      border-bottom-color: var(--fill-color);\n",
              "    }\n",
              "  }\n",
              "</style>\n",
              "\n",
              "  <script>\n",
              "    async function quickchart(key) {\n",
              "      const quickchartButtonEl =\n",
              "        document.querySelector('#' + key + ' button');\n",
              "      quickchartButtonEl.disabled = true;  // To prevent multiple clicks.\n",
              "      quickchartButtonEl.classList.add('colab-df-spinner');\n",
              "      try {\n",
              "        const charts = await google.colab.kernel.invokeFunction(\n",
              "            'suggestCharts', [key], {});\n",
              "      } catch (error) {\n",
              "        console.error('Error during call to suggestCharts:', error);\n",
              "      }\n",
              "      quickchartButtonEl.classList.remove('colab-df-spinner');\n",
              "      quickchartButtonEl.classList.add('colab-df-quickchart-complete');\n",
              "    }\n",
              "    (() => {\n",
              "      let quickchartButtonEl =\n",
              "        document.querySelector('#df-59a6de66-0d85-4435-83c6-3ef8c91f177a button');\n",
              "      quickchartButtonEl.style.display =\n",
              "        google.colab.kernel.accessAllowed ? 'block' : 'none';\n",
              "    })();\n",
              "  </script>\n",
              "</div>\n",
              "\n",
              "    </div>\n",
              "  </div>\n"
            ],
            "application/vnd.google.colaboratory.intrinsic+json": {
              "type": "dataframe",
              "summary": "{\n  \"name\": \"df1\",\n  \"rows\": 10,\n  \"fields\": [\n    {\n      \"column\": \"Violation Code\",\n      \"properties\": {\n        \"dtype\": \"number\",\n        \"std\": 20,\n        \"min\": 5,\n        \"max\": 74,\n        \"num_unique_values\": 7,\n        \"samples\": [\n          74,\n          40,\n          21\n        ],\n        \"semantic_type\": \"\",\n        \"description\": \"\"\n      }\n    },\n    {\n      \"column\": \"Violation Description\",\n      \"properties\": {\n        \"dtype\": \"string\",\n        \"num_unique_values\": 7,\n        \"samples\": [\n          \"74-Missing Display Plate\",\n          \"40-Fire Hydrant\",\n          \"21-No Parking (street clean)\"\n        ],\n        \"semantic_type\": \"\",\n        \"description\": \"\"\n      }\n    }\n  ]\n}"
            }
          },
          "metadata": {},
          "execution_count": 14
        }
      ]
    },
    {
      "cell_type": "markdown",
      "source": [
        "3. **How many records are there in the dataset?**\n",
        "    - Determine the total number of parking violation records.\n",
        "    "
      ],
      "metadata": {
        "id": "PyEyXEez5-ly"
      }
    },
    {
      "cell_type": "code",
      "source": [
        "len(df)"
      ],
      "metadata": {
        "colab": {
          "base_uri": "https://localhost:8080/"
        },
        "id": "v5hQW56g5_iH",
        "outputId": "92285c1e-e774-4dbd-a171-1a88dc0be0a7"
      },
      "execution_count": null,
      "outputs": [
        {
          "output_type": "execute_result",
          "data": {
            "text/plain": [
              "15435607"
            ]
          },
          "metadata": {},
          "execution_count": 18
        }
      ]
    },
    {
      "cell_type": "markdown",
      "source": [
        "### **Data Cleaning**\n"
      ],
      "metadata": {
        "id": "sqpUvmhL6Whe"
      }
    },
    {
      "cell_type": "markdown",
      "source": [
        "1. **Are there any missing or null values in the dataset?**\n",
        "    - Identify columns with missing data and describe how you handled them."
      ],
      "metadata": {
        "id": "X2Sz8R5P6oLC"
      }
    },
    {
      "cell_type": "code",
      "source": [
        "# Check for missing values\n",
        "missing_values = df.isna().sum()\n",
        "\n",
        "# Display columns with missing values\n",
        "numberof_columns_with_missing_values = missing_values[missing_values > 0]\n",
        "print(\"Columns with missing values:\")\n",
        "print(numberof_columns_with_missing_values)\n"
      ],
      "metadata": {
        "colab": {
          "base_uri": "https://localhost:8080/"
        },
        "id": "ssfuu4bj6pAm",
        "outputId": "c7d1f2da-3fe2-4ee4-a794-d33c5d8c4c5c"
      },
      "execution_count": 15,
      "outputs": [
        {
          "output_type": "stream",
          "name": "stdout",
          "text": [
            "Columns with missing values:\n",
            "Series([], dtype: int64)\n"
          ]
        }
      ]
    },
    {
      "cell_type": "markdown",
      "source": [
        "2. **Are there any duplicate records in the dataset?**\n",
        "    - Check for duplicates and describe the steps taken to remove them."
      ],
      "metadata": {
        "id": "wT7ya8H49hs2"
      }
    },
    {
      "cell_type": "code",
      "source": [
        "# Check for duplicate records\n",
        "duplicates = df.duplicated()\n",
        "\n",
        "# Display rows with duplicate records\n",
        "duplicate_rows = df[duplicates]\n",
        "print(\"Duplicate Rows:\")\n",
        "print(duplicate_rows)\n"
      ],
      "metadata": {
        "colab": {
          "base_uri": "https://localhost:8080/"
        },
        "id": "umhA3V-09ph3",
        "outputId": "46fb6495-8859-4c72-aad9-33a37be0e855"
      },
      "execution_count": null,
      "outputs": [
        {
          "output_type": "stream",
          "name": "stdout",
          "text": [
            "Duplicate Rows:\n",
            "Empty DataFrame\n",
            "Columns: [Registration State, Violation Description, Vehicle Body Type, Issue Date, Summons Number]\n",
            "Index: []\n"
          ]
        }
      ]
    },
    {
      "cell_type": "markdown",
      "source": [
        "3. **Are the data types of each column appropriate?**\n",
        "    - Verify and correct data types, especially for dates and numerical values."
      ],
      "metadata": {
        "id": "9tnEsVgdAJqy"
      }
    },
    {
      "cell_type": "code",
      "source": [
        "print(\"Data Types:\")\n",
        "print(df.dtypes)"
      ],
      "metadata": {
        "colab": {
          "base_uri": "https://localhost:8080/"
        },
        "id": "K4Er5fWXBwop",
        "outputId": "7c2f1e38-6c00-42a2-c4b8-624797011625"
      },
      "execution_count": null,
      "outputs": [
        {
          "output_type": "stream",
          "name": "stdout",
          "text": [
            "Data Types:\n",
            "Registration State       object\n",
            "Violation Description    object\n",
            "Vehicle Body Type        object\n",
            "Issue Date               object\n",
            "Summons Number            int64\n",
            "dtype: object\n"
          ]
        }
      ]
    },
    {
      "cell_type": "markdown",
      "source": [
        "1. Registration State, Violation Description, Vehicle Body Type: These columns are correctly identified as object data types, which typically represent string or categorical data.\n",
        "\n",
        "2. Issue Date: This column is currently identified as an object data type, which indicates that it's stored as a string. To work with dates efficiently, it's better to convert this column to a datetime data type.\n",
        "\n",
        "3. Summons Number: This column is correctly identified as an integer data type, which is appropriate for numerical identifiers."
      ],
      "metadata": {
        "id": "W85Z1B72CsK6"
      }
    },
    {
      "cell_type": "code",
      "source": [
        "# Convert 'Issue Date' to datetime\n",
        "df['Issue Date'] = pd.to_datetime(df['Issue Date'])\n",
        "print(df.dtypes)"
      ],
      "metadata": {
        "colab": {
          "base_uri": "https://localhost:8080/"
        },
        "id": "fd6wspK7C3E3",
        "outputId": "104b8381-0af1-431f-8db3-79631eeec0d3"
      },
      "execution_count": null,
      "outputs": [
        {
          "output_type": "stream",
          "name": "stdout",
          "text": [
            "Registration State               object\n",
            "Violation Description            object\n",
            "Vehicle Body Type                object\n",
            "Issue Date               datetime64[ns]\n",
            "Summons Number                    int64\n",
            "dtype: object\n"
          ]
        }
      ]
    },
    {
      "cell_type": "markdown",
      "source": [
        "### **Descriptive Analysis**\n"
      ],
      "metadata": {
        "id": "o2Ez-_dxx7sa"
      }
    },
    {
      "cell_type": "markdown",
      "source": [
        "1. **What are the most common types of parking violations?**\n",
        "    - Identify the top 10 most frequent violation codes and their counts."
      ],
      "metadata": {
        "id": "ciQnhCodyL-K"
      }
    },
    {
      "cell_type": "code",
      "source": [
        "# Counting the occurrences of each violation code\n",
        "violation_counts = df['Violation Description'].value_counts()\n",
        "\n",
        "# Getting the top 10 most frequent violation codes and their counts\n",
        "top_10_violations = violation_counts.head(10)\n",
        "#top_10_violations = violation_counts.head(10).reset_index(name=\"count\")\n",
        "print(\"Top 10 most frequent violation codes and their counts:\")\n",
        "print(top_10_violations)"
      ],
      "metadata": {
        "id": "5_wtTs1hyZE_",
        "outputId": "9602bfc7-b45e-4736-8545-79c69a839c37",
        "colab": {
          "base_uri": "https://localhost:8080/"
        }
      },
      "execution_count": null,
      "outputs": [
        {
          "output_type": "stream",
          "name": "stdout",
          "text": [
            "Top 10 most frequent violation codes and their counts:\n",
            "Violation Description\n",
            "PHTO SCHOOL ZN SPEED VIOLATION    4706069\n",
            "21-No Parking (street clean)      1246219\n",
            "38-Failure to Dsplay Meter Rec    1064969\n",
            "14-No Standing                     904944\n",
            "40-Fire Hydrant                    759820\n",
            "BUS LANE VIOLATION                 681897\n",
            "FAILURE TO STOP AT RED LIGHT       592554\n",
            "71A-Insp Sticker Expired (NYS)     588538\n",
            "20A-No Parking (Non-COM)           556402\n",
            "70A-Reg. Sticker Expired (NYS)     353457\n",
            "Name: count, dtype: int64\n"
          ]
        }
      ]
    },
    {
      "cell_type": "markdown",
      "source": [
        "2. **What are the descriptive statistics for numerical columns (e.g., fine amounts)?**\n",
        "    - Provide summary statistics such as mean, median, and standard deviation."
      ],
      "metadata": {
        "id": "rlaWIAt_1akI"
      }
    },
    {
      "cell_type": "code",
      "source": [
        "numerical_stats = df.describe()\n",
        "\n",
        "# Print the descriptive statistics\n",
        "print(\"Descriptive statistics for numerical columns:\")\n",
        "print(numerical_stats)"
      ],
      "metadata": {
        "id": "gYWj82yj1i2H",
        "outputId": "3f78d7df-ba69-4d86-b3f4-aabe121bd1c7",
        "colab": {
          "base_uri": "https://localhost:8080/"
        }
      },
      "execution_count": null,
      "outputs": [
        {
          "output_type": "stream",
          "name": "stdout",
          "text": [
            "Descriptive statistics for numerical columns:\n",
            "       Summons Number\n",
            "count    1.543561e+07\n",
            "mean     6.925359e+09\n",
            "std      2.304596e+09\n",
            "min      1.030415e+09\n",
            "25%      4.762182e+09\n",
            "50%      8.779595e+09\n",
            "75%      8.910182e+09\n",
            "max      9.000000e+09\n"
          ]
        }
      ]
    },
    {
      "cell_type": "markdown",
      "source": [
        "3. **How are violations distributed over time (e.g., monthly, yearly)?**\n",
        "    - Analyze the number of violations by month and year to identify trends."
      ],
      "metadata": {
        "id": "NmLs81hI2Blx"
      }
    },
    {
      "cell_type": "code",
      "source": [
        "\n",
        "# Convert 'Issue Date' column to datetime\n",
        "df['Issue Date'] = pd.to_datetime(df['Issue Date'])\n",
        "\n",
        "# Extract year and month from the 'Issue Date' column\n",
        "df['Year'] = df['Issue Date'].dt.year\n",
        "df['Month'] = df['Issue Date'].dt.month\n",
        "\n",
        "\n",
        "violations_by_year = df.groupby(['Year']).size().reset_index(name='Violation Count')\n",
        "# Print the resulting DataFrame\n",
        "\n",
        "print(violations_by_year)"
      ],
      "metadata": {
        "id": "G8HBdiBn2ENN",
        "outputId": "84215adc-f9b0-4bd3-bd51-1b544a627985",
        "colab": {
          "base_uri": "https://localhost:8080/"
        }
      },
      "execution_count": 19,
      "outputs": [
        {
          "output_type": "stream",
          "name": "stdout",
          "text": [
            "    Year  Violation Count\n",
            "0   1973                2\n",
            "1   2000               88\n",
            "2   2001                6\n",
            "3   2002                7\n",
            "4   2003                1\n",
            "5   2004                1\n",
            "6   2005                1\n",
            "7   2006                3\n",
            "8   2007                3\n",
            "9   2009                2\n",
            "10  2010                9\n",
            "11  2011               12\n",
            "12  2012               32\n",
            "13  2013                3\n",
            "14  2014                2\n",
            "15  2015                5\n",
            "16  2016                5\n",
            "17  2017                5\n",
            "18  2018                7\n",
            "19  2019               20\n",
            "20  2020              281\n",
            "21  2021          8063210\n",
            "22  2022          7371440\n",
            "23  2023              349\n",
            "24  2024               27\n",
            "25  2025               13\n",
            "26  2026                3\n",
            "27  2027               16\n",
            "28  2028                7\n",
            "29  2029                8\n",
            "30  2030               10\n",
            "31  2031               20\n",
            "32  2032                1\n",
            "33  2034                1\n",
            "34  2041                1\n",
            "35  2046                1\n",
            "36  2061                2\n",
            "37  2065                1\n",
            "38  2067                2\n"
          ]
        }
      ]
    },
    {
      "cell_type": "code",
      "source": [
        "violations_by_month = df.groupby(['Month']).size().reset_index(name='Violation Count2')\n",
        "print(violations_by_month)\n",
        "sorted_count = violations_by_month.sort_values(by='Violation Count2',ascending=False )\n",
        "print(\"sorted Count is\")\n",
        "print (sorted_count)"
      ],
      "metadata": {
        "id": "6A4niW6w83i_",
        "outputId": "b3e35f6c-705f-4e51-805f-14f77eb5f337",
        "colab": {
          "base_uri": "https://localhost:8080/"
        }
      },
      "execution_count": null,
      "outputs": [
        {
          "output_type": "stream",
          "name": "stdout",
          "text": [
            "    Month  Violation Count2\n",
            "0       1           1079322\n",
            "1       2           1097699\n",
            "2       3           1391323\n",
            "3       4           1331209\n",
            "4       5           1348415\n",
            "5       6           1376608\n",
            "6       7           1404474\n",
            "7       8           1419834\n",
            "8       9           1190965\n",
            "9      10           1346837\n",
            "10     11           1284580\n",
            "11     12           1164341\n",
            "sorted Count is\n",
            "    Month  Violation Count2\n",
            "7       8           1419834\n",
            "6       7           1404474\n",
            "2       3           1391323\n",
            "5       6           1376608\n",
            "4       5           1348415\n",
            "9      10           1346837\n",
            "3       4           1331209\n",
            "10     11           1284580\n",
            "8       9           1190965\n",
            "11     12           1164341\n",
            "1       2           1097699\n",
            "0       1           1079322\n"
          ]
        }
      ]
    },
    {
      "cell_type": "markdown",
      "source": [
        "### **Temporal Analysis**\n",
        "\n"
      ],
      "metadata": {
        "id": "20ZUhQFiL_Ra"
      }
    },
    {
      "cell_type": "markdown",
      "source": [
        "1. **What days of the week and times of day see the highest number of violations?**\n",
        "    - Determine if there are specific days or times when violations are more frequent."
      ],
      "metadata": {
        "id": "r8r4NDboMBQ6"
      }
    },
    {
      "cell_type": "markdown",
      "source": [],
      "metadata": {
        "id": "-776xuG2MKq9"
      }
    },
    {
      "cell_type": "code",
      "source": [
        "print(df[\"Issue Date\"])"
      ],
      "metadata": {
        "id": "OfoxvVFSMGcD",
        "outputId": "bbe9b31a-7b19-419e-f64c-41d4126c8b6b",
        "colab": {
          "base_uri": "https://localhost:8080/"
        }
      },
      "execution_count": null,
      "outputs": [
        {
          "output_type": "stream",
          "name": "stdout",
          "text": [
            "0          2021-06-25\n",
            "1          2021-06-25\n",
            "2          2021-06-17\n",
            "3          2021-06-16\n",
            "4          2021-07-04\n",
            "              ...    \n",
            "15435602   2022-06-07\n",
            "15435603   2022-06-07\n",
            "15435604   2022-06-07\n",
            "15435605   2022-06-07\n",
            "15435606   2022-06-07\n",
            "Name: Issue Date, Length: 15435607, dtype: datetime64[ns]\n"
          ]
        }
      ]
    },
    {
      "cell_type": "code",
      "source": [
        "print(df[\"Issue Date\"].dt.day_name())"
      ],
      "metadata": {
        "id": "5IGFNA8XMqTh",
        "outputId": "c77f0fff-88f1-4642-c8a8-e307e97619b4",
        "colab": {
          "base_uri": "https://localhost:8080/"
        }
      },
      "execution_count": null,
      "outputs": [
        {
          "output_type": "stream",
          "name": "stdout",
          "text": [
            "0              Friday\n",
            "1              Friday\n",
            "2            Thursday\n",
            "3           Wednesday\n",
            "4              Sunday\n",
            "              ...    \n",
            "15435602      Tuesday\n",
            "15435603      Tuesday\n",
            "15435604      Tuesday\n",
            "15435605      Tuesday\n",
            "15435606      Tuesday\n",
            "Name: Issue Date, Length: 15435607, dtype: object\n"
          ]
        }
      ]
    },
    {
      "cell_type": "code",
      "source": [
        "days = df[\"Issue Date\"].dt.day_name().value_counts()\n",
        "print(days)\n"
      ],
      "metadata": {
        "id": "W0XKMMB8M-z3",
        "outputId": "9d1f63b3-e36b-4d4a-86bf-deeb371e8eb2",
        "colab": {
          "base_uri": "https://localhost:8080/"
        }
      },
      "execution_count": null,
      "outputs": [
        {
          "output_type": "stream",
          "name": "stdout",
          "text": [
            "Issue Date\n",
            "Thursday     2913951\n",
            "Friday       2891679\n",
            "Tuesday      2809949\n",
            "Wednesday    2760088\n",
            "Monday       2488563\n",
            "Saturday     1108385\n",
            "Sunday        462992\n",
            "Name: count, dtype: int64\n"
          ]
        }
      ]
    },
    {
      "cell_type": "markdown",
      "source": [
        "On weekdays, violations are more"
      ],
      "metadata": {
        "id": "DspW6Acc-CIq"
      }
    },
    {
      "cell_type": "markdown",
      "source": [
        "2. **Are there any noticeable trends over the years?**\n",
        "    - Examine if the number of violations has increased or decreased over the years."
      ],
      "metadata": {
        "id": "jHcrryPoNh1J"
      }
    },
    {
      "cell_type": "code",
      "source": [
        "yearly_records = df[\"Issue Date\"].dt.year.value_counts() # sorts the values;\n",
        "sorted = yearly_records.sort_index() #sorts the year;alternatively we can also use sort_values() to sort count\n",
        "print(sorted)"
      ],
      "metadata": {
        "id": "gGWslUccNizd",
        "outputId": "e9707d80-3212-427c-ea19-4e1bed79287c",
        "colab": {
          "base_uri": "https://localhost:8080/"
        }
      },
      "execution_count": null,
      "outputs": [
        {
          "output_type": "stream",
          "name": "stdout",
          "text": [
            "Issue Date\n",
            "1973          2\n",
            "2000         88\n",
            "2001          6\n",
            "2002          7\n",
            "2003          1\n",
            "2004          1\n",
            "2005          1\n",
            "2006          3\n",
            "2007          3\n",
            "2009          2\n",
            "2010          9\n",
            "2011         12\n",
            "2012         32\n",
            "2013          3\n",
            "2014          2\n",
            "2015          5\n",
            "2016          5\n",
            "2017          5\n",
            "2018          7\n",
            "2019         20\n",
            "2020        281\n",
            "2021    8063210\n",
            "2022    7371440\n",
            "2023        349\n",
            "2024         27\n",
            "2025         13\n",
            "2026          3\n",
            "2027         16\n",
            "2028          7\n",
            "2029          8\n",
            "2030         10\n",
            "2031         20\n",
            "2032          1\n",
            "2034          1\n",
            "2041          1\n",
            "2046          1\n",
            "2061          2\n",
            "2065          1\n",
            "2067          2\n",
            "Name: count, dtype: int64\n"
          ]
        }
      ]
    },
    {
      "cell_type": "markdown",
      "source": [
        "### **Geospatial Analysis**\n"
      ],
      "metadata": {
        "id": "NUChb4x6PmXr"
      }
    },
    {
      "cell_type": "markdown",
      "source": [
        "1. **Which areas or neighborhoods have the highest number of parking violations?**\n",
        "    - Identify hotspots using geospatial analysis."
      ],
      "metadata": {
        "id": "OEIr54I9P8-q"
      }
    },
    {
      "cell_type": "code",
      "source": [
        "hotspots=df[\"Registration State\"].value_counts().head(10).reset_index(name=\"Count\")\n",
        "print(hotspots)\n"
      ],
      "metadata": {
        "id": "6--03r3lP_hK",
        "colab": {
          "base_uri": "https://localhost:8080/"
        },
        "outputId": "dbd8d919-f820-4f49-bc53-f07e0ff45a90"
      },
      "execution_count": 20,
      "outputs": [
        {
          "output_type": "stream",
          "name": "stdout",
          "text": [
            "  Registration State     Count\n",
            "0                 NY  11636477\n",
            "1                 NJ   1412002\n",
            "2                 PA    492026\n",
            "3                 FL    305769\n",
            "4                 CT    239417\n",
            "5                 TX    178467\n",
            "6                 IN    123649\n",
            "7                 MA    104415\n",
            "8                 VA     99976\n",
            "9                 NC     89092\n"
          ]
        }
      ]
    },
    {
      "cell_type": "markdown",
      "source": [
        "2. **Are there specific streets or intersections with a high frequency of violations?**\n",
        "    - Drill down to more granular locations within the city."
      ],
      "metadata": {
        "id": "74Qwnj-d6ZwD"
      }
    },
    {
      "cell_type": "code",
      "source": [
        "# high frequency violations\n",
        "high_freq = df[\"Violation Description\"].value_counts().head(5)\n",
        "print(high_freq)\n"
      ],
      "metadata": {
        "colab": {
          "base_uri": "https://localhost:8080/"
        },
        "id": "qtYz3GBf6bQ7",
        "outputId": "2063fd04-095e-41f5-9a36-6c33d3005275"
      },
      "execution_count": null,
      "outputs": [
        {
          "output_type": "stream",
          "name": "stdout",
          "text": [
            "Violation Description\n",
            "PHTO SCHOOL ZN SPEED VIOLATION    4706069\n",
            "21-No Parking (street clean)      1246219\n",
            "38-Failure to Dsplay Meter Rec    1064969\n",
            "14-No Standing                     904944\n",
            "40-Fire Hydrant                    759820\n",
            "Name: count, dtype: int64\n"
          ]
        }
      ]
    },
    {
      "cell_type": "code",
      "source": [
        "\n",
        "\n",
        "# Filter the DataFrame to include only rows with the specified violation\n",
        "violation_df = df[df['Violation Description'].str.contains(\"PHTO SCHOOL ZN SPEED VIOLATION\")]\n",
        "\n",
        "# Group by 'Registration State' and count the occurrences of each state\n",
        "states_with_counts = violation_df['Registration State'].value_counts().reset_index(name=\"Count\")\n",
        "#states_with_counts.columns = ['Registration State', 'Count']\n",
        "\n",
        "# Print the states along with their associated counts\n",
        "print(\"States with 'PHTO SCHOOL ZN SPEED VIOLATION' and their associated counts:\")\n",
        "print(states_with_counts.head(10))"
      ],
      "metadata": {
        "colab": {
          "base_uri": "https://localhost:8080/"
        },
        "id": "bj0ryM-8_Cvy",
        "outputId": "53e97103-f6ec-4f16-ace1-4605448f9fef"
      },
      "execution_count": null,
      "outputs": [
        {
          "output_type": "stream",
          "name": "stdout",
          "text": [
            "States with 'PHTO SCHOOL ZN SPEED VIOLATION' and their associated counts:\n",
            "  Registration State    Count\n",
            "0                 NY  3743378\n",
            "1                 NJ   356436\n",
            "2                 PA   149773\n",
            "3                 FL   115622\n",
            "4                 CT    68645\n",
            "5                 NC    31102\n",
            "6                 VA    29413\n",
            "7                 MA    25595\n",
            "8                 MD    23526\n",
            "9                 GA    22331\n"
          ]
        }
      ]
    },
    {
      "cell_type": "markdown",
      "source": [
        "### **Policy and Enforcement Analysis**\n",
        "\n"
      ],
      "metadata": {
        "id": "EbSCWs2gCxM-"
      }
    },
    {
      "cell_type": "markdown",
      "source": [
        "1. **What are the common reasons for issuing parking violations?**\n",
        "    - Analyze the description or nature of the most common violations."
      ],
      "metadata": {
        "id": "ZlRaiW7uC8Ab"
      }
    },
    {
      "cell_type": "code",
      "source": [
        "common_violations = df[\"Violation Description\"].value_counts().head(10).reset_index(name=\"count\")\n",
        "print(common_violations)"
      ],
      "metadata": {
        "colab": {
          "base_uri": "https://localhost:8080/"
        },
        "id": "F0dkMeAKDfHR",
        "outputId": "58a33c8a-b5a1-4dd5-c14c-ea555095535f"
      },
      "execution_count": null,
      "outputs": [
        {
          "output_type": "stream",
          "name": "stdout",
          "text": [
            "            Violation Description    count\n",
            "0  PHTO SCHOOL ZN SPEED VIOLATION  4706069\n",
            "1    21-No Parking (street clean)  1246219\n",
            "2  38-Failure to Dsplay Meter Rec  1064969\n",
            "3                  14-No Standing   904944\n",
            "4                 40-Fire Hydrant   759820\n",
            "5              BUS LANE VIOLATION   681897\n",
            "6    FAILURE TO STOP AT RED LIGHT   592554\n",
            "7  71A-Insp Sticker Expired (NYS)   588538\n",
            "8        20A-No Parking (Non-COM)   556402\n",
            "9  70A-Reg. Sticker Expired (NYS)   353457\n"
          ]
        }
      ]
    },
    {
      "cell_type": "markdown",
      "source": [
        "2. **How effective are current parking policies based on violation data?**\n",
        "    - Discuss any patterns that suggest the need for policy changes."
      ],
      "metadata": {
        "id": "nP0e_CQhD_QF"
      }
    },
    {
      "cell_type": "markdown",
      "source": [
        "Policies are not effective enough to reduce the following Violations as they are high in numbers.\n",
        "1. PHTO SCHOOL ZN SPEED VIOLATION\n",
        "2. 21-No Parking (street clean)\n",
        "3. 38-Failure to Dsplay Meter Rec"
      ],
      "metadata": {
        "id": "viD_4AAxEjyN"
      }
    },
    {
      "cell_type": "markdown",
      "source": [
        "3. **Can any correlations be found between violation types and locations?**\n",
        "    - Explore if certain types of violations are more common in specific areas."
      ],
      "metadata": {
        "id": "IcmrcqaxECdC"
      }
    },
    {
      "cell_type": "code",
      "source": [
        "#common violation in the state NY\n",
        "violations_ny_df= df[df[\"Registration State\"].str.contains(\"NY\")]\n",
        "(violations_ny_df[[\"Registration State\",\"Violation Description\"]]\n",
        " .value_counts()\n",
        " .groupby([\"Registration State\"])\n",
        " .head(10)\n",
        ")"
      ],
      "metadata": {
        "colab": {
          "base_uri": "https://localhost:8080/"
        },
        "id": "ICNfw-QTMSR8",
        "outputId": "9e69c9c9-e810-4415-92a1-5ab0830c71d2"
      },
      "execution_count": 22,
      "outputs": [
        {
          "output_type": "execute_result",
          "data": {
            "text/plain": [
              "Registration State  Violation Description         \n",
              "NY                  PHTO SCHOOL ZN SPEED VIOLATION    3743378\n",
              "                    21-No Parking (street clean)       898128\n",
              "                    38-Failure to Dsplay Meter Rec     791603\n",
              "                    14-No Standing                     602382\n",
              "                    71A-Insp Sticker Expired (NYS)     588441\n",
              "                    BUS LANE VIOLATION                 519177\n",
              "                    FAILURE TO STOP AT RED LIGHT       465106\n",
              "                    40-Fire Hydrant                    463623\n",
              "                    20A-No Parking (Non-COM)           368581\n",
              "                    70A-Reg. Sticker Expired (NYS)     353433\n",
              "Name: count, dtype: int64"
            ]
          },
          "metadata": {},
          "execution_count": 22
        }
      ]
    },
    {
      "cell_type": "code",
      "source": [
        "#common violations in the states\n",
        "(df[[\"Registration State\",\"Violation Description\"]]\n",
        " .value_counts()\n",
        " .groupby(\"Registration State\")\n",
        "\n",
        " .head(3)\n",
        " .sort_index()\n",
        " .reset_index()\n",
        "\n",
        ")"
      ],
      "metadata": {
        "colab": {
          "base_uri": "https://localhost:8080/",
          "height": 423
        },
        "id": "GRQRsyl_YcqA",
        "outputId": "c0f3a0cb-b5fb-419f-c432-43e121939a97"
      },
      "execution_count": 21,
      "outputs": [
        {
          "output_type": "execute_result",
          "data": {
            "text/plain": [
              "    Registration State           Violation Description  count\n",
              "0                   99                     51-Sidewalk    266\n",
              "1                   99        74-Missing Display Plate    835\n",
              "2                   99                            <NA>  17550\n",
              "3                   AB                  14-No Standing     22\n",
              "4                   AB                 40-Fire Hydrant     21\n",
              "..                 ...                             ...    ...\n",
              "192                 WV                 40-Fire Hydrant    503\n",
              "193                 WV  PHTO SCHOOL ZN SPEED VIOLATION   1185\n",
              "194                 WY    21-No Parking (street clean)    138\n",
              "195                 WY  38-Failure to Dsplay Meter Rec    109\n",
              "196                 WY  PHTO SCHOOL ZN SPEED VIOLATION    116\n",
              "\n",
              "[197 rows x 3 columns]"
            ],
            "text/html": [
              "\n",
              "  <div id=\"df-c86f9862-8dd4-41ed-83c6-ec0dfd191ee2\" class=\"colab-df-container\">\n",
              "    <div>\n",
              "<style scoped>\n",
              "    .dataframe tbody tr th:only-of-type {\n",
              "        vertical-align: middle;\n",
              "    }\n",
              "\n",
              "    .dataframe tbody tr th {\n",
              "        vertical-align: top;\n",
              "    }\n",
              "\n",
              "    .dataframe thead th {\n",
              "        text-align: right;\n",
              "    }\n",
              "</style>\n",
              "<table border=\"1\" class=\"dataframe\">\n",
              "  <thead>\n",
              "    <tr style=\"text-align: right;\">\n",
              "      <th></th>\n",
              "      <th>Registration State</th>\n",
              "      <th>Violation Description</th>\n",
              "      <th>count</th>\n",
              "    </tr>\n",
              "  </thead>\n",
              "  <tbody>\n",
              "    <tr>\n",
              "      <th>0</th>\n",
              "      <td>99</td>\n",
              "      <td>51-Sidewalk</td>\n",
              "      <td>266</td>\n",
              "    </tr>\n",
              "    <tr>\n",
              "      <th>1</th>\n",
              "      <td>99</td>\n",
              "      <td>74-Missing Display Plate</td>\n",
              "      <td>835</td>\n",
              "    </tr>\n",
              "    <tr>\n",
              "      <th>2</th>\n",
              "      <td>99</td>\n",
              "      <td>&lt;NA&gt;</td>\n",
              "      <td>17550</td>\n",
              "    </tr>\n",
              "    <tr>\n",
              "      <th>3</th>\n",
              "      <td>AB</td>\n",
              "      <td>14-No Standing</td>\n",
              "      <td>22</td>\n",
              "    </tr>\n",
              "    <tr>\n",
              "      <th>4</th>\n",
              "      <td>AB</td>\n",
              "      <td>40-Fire Hydrant</td>\n",
              "      <td>21</td>\n",
              "    </tr>\n",
              "    <tr>\n",
              "      <th>...</th>\n",
              "      <td>...</td>\n",
              "      <td>...</td>\n",
              "      <td>...</td>\n",
              "    </tr>\n",
              "    <tr>\n",
              "      <th>192</th>\n",
              "      <td>WV</td>\n",
              "      <td>40-Fire Hydrant</td>\n",
              "      <td>503</td>\n",
              "    </tr>\n",
              "    <tr>\n",
              "      <th>193</th>\n",
              "      <td>WV</td>\n",
              "      <td>PHTO SCHOOL ZN SPEED VIOLATION</td>\n",
              "      <td>1185</td>\n",
              "    </tr>\n",
              "    <tr>\n",
              "      <th>194</th>\n",
              "      <td>WY</td>\n",
              "      <td>21-No Parking (street clean)</td>\n",
              "      <td>138</td>\n",
              "    </tr>\n",
              "    <tr>\n",
              "      <th>195</th>\n",
              "      <td>WY</td>\n",
              "      <td>38-Failure to Dsplay Meter Rec</td>\n",
              "      <td>109</td>\n",
              "    </tr>\n",
              "    <tr>\n",
              "      <th>196</th>\n",
              "      <td>WY</td>\n",
              "      <td>PHTO SCHOOL ZN SPEED VIOLATION</td>\n",
              "      <td>116</td>\n",
              "    </tr>\n",
              "  </tbody>\n",
              "</table>\n",
              "<p>197 rows × 3 columns</p>\n",
              "</div>\n",
              "    <div class=\"colab-df-buttons\">\n",
              "\n",
              "  <div class=\"colab-df-container\">\n",
              "    <button class=\"colab-df-convert\" onclick=\"convertToInteractive('df-c86f9862-8dd4-41ed-83c6-ec0dfd191ee2')\"\n",
              "            title=\"Convert this dataframe to an interactive table.\"\n",
              "            style=\"display:none;\">\n",
              "\n",
              "  <svg xmlns=\"http://www.w3.org/2000/svg\" height=\"24px\" viewBox=\"0 -960 960 960\">\n",
              "    <path d=\"M120-120v-720h720v720H120Zm60-500h600v-160H180v160Zm220 220h160v-160H400v160Zm0 220h160v-160H400v160ZM180-400h160v-160H180v160Zm440 0h160v-160H620v160ZM180-180h160v-160H180v160Zm440 0h160v-160H620v160Z\"/>\n",
              "  </svg>\n",
              "    </button>\n",
              "\n",
              "  <style>\n",
              "    .colab-df-container {\n",
              "      display:flex;\n",
              "      gap: 12px;\n",
              "    }\n",
              "\n",
              "    .colab-df-convert {\n",
              "      background-color: #E8F0FE;\n",
              "      border: none;\n",
              "      border-radius: 50%;\n",
              "      cursor: pointer;\n",
              "      display: none;\n",
              "      fill: #1967D2;\n",
              "      height: 32px;\n",
              "      padding: 0 0 0 0;\n",
              "      width: 32px;\n",
              "    }\n",
              "\n",
              "    .colab-df-convert:hover {\n",
              "      background-color: #E2EBFA;\n",
              "      box-shadow: 0px 1px 2px rgba(60, 64, 67, 0.3), 0px 1px 3px 1px rgba(60, 64, 67, 0.15);\n",
              "      fill: #174EA6;\n",
              "    }\n",
              "\n",
              "    .colab-df-buttons div {\n",
              "      margin-bottom: 4px;\n",
              "    }\n",
              "\n",
              "    [theme=dark] .colab-df-convert {\n",
              "      background-color: #3B4455;\n",
              "      fill: #D2E3FC;\n",
              "    }\n",
              "\n",
              "    [theme=dark] .colab-df-convert:hover {\n",
              "      background-color: #434B5C;\n",
              "      box-shadow: 0px 1px 3px 1px rgba(0, 0, 0, 0.15);\n",
              "      filter: drop-shadow(0px 1px 2px rgba(0, 0, 0, 0.3));\n",
              "      fill: #FFFFFF;\n",
              "    }\n",
              "  </style>\n",
              "\n",
              "    <script>\n",
              "      const buttonEl =\n",
              "        document.querySelector('#df-c86f9862-8dd4-41ed-83c6-ec0dfd191ee2 button.colab-df-convert');\n",
              "      buttonEl.style.display =\n",
              "        google.colab.kernel.accessAllowed ? 'block' : 'none';\n",
              "\n",
              "      async function convertToInteractive(key) {\n",
              "        const element = document.querySelector('#df-c86f9862-8dd4-41ed-83c6-ec0dfd191ee2');\n",
              "        const dataTable =\n",
              "          await google.colab.kernel.invokeFunction('convertToInteractive',\n",
              "                                                    [key], {});\n",
              "        if (!dataTable) return;\n",
              "\n",
              "        const docLinkHtml = 'Like what you see? Visit the ' +\n",
              "          '<a target=\"_blank\" href=https://colab.research.google.com/notebooks/data_table.ipynb>data table notebook</a>'\n",
              "          + ' to learn more about interactive tables.';\n",
              "        element.innerHTML = '';\n",
              "        dataTable['output_type'] = 'display_data';\n",
              "        await google.colab.output.renderOutput(dataTable, element);\n",
              "        const docLink = document.createElement('div');\n",
              "        docLink.innerHTML = docLinkHtml;\n",
              "        element.appendChild(docLink);\n",
              "      }\n",
              "    </script>\n",
              "  </div>\n",
              "\n",
              "\n",
              "<div id=\"df-9e4042fc-247b-4923-b255-11c5258dcd4a\">\n",
              "  <button class=\"colab-df-quickchart\" onclick=\"quickchart('df-9e4042fc-247b-4923-b255-11c5258dcd4a')\"\n",
              "            title=\"Suggest charts\"\n",
              "            style=\"display:none;\">\n",
              "\n",
              "<svg xmlns=\"http://www.w3.org/2000/svg\" height=\"24px\"viewBox=\"0 0 24 24\"\n",
              "     width=\"24px\">\n",
              "    <g>\n",
              "        <path d=\"M19 3H5c-1.1 0-2 .9-2 2v14c0 1.1.9 2 2 2h14c1.1 0 2-.9 2-2V5c0-1.1-.9-2-2-2zM9 17H7v-7h2v7zm4 0h-2V7h2v10zm4 0h-2v-4h2v4z\"/>\n",
              "    </g>\n",
              "</svg>\n",
              "  </button>\n",
              "\n",
              "<style>\n",
              "  .colab-df-quickchart {\n",
              "      --bg-color: #E8F0FE;\n",
              "      --fill-color: #1967D2;\n",
              "      --hover-bg-color: #E2EBFA;\n",
              "      --hover-fill-color: #174EA6;\n",
              "      --disabled-fill-color: #AAA;\n",
              "      --disabled-bg-color: #DDD;\n",
              "  }\n",
              "\n",
              "  [theme=dark] .colab-df-quickchart {\n",
              "      --bg-color: #3B4455;\n",
              "      --fill-color: #D2E3FC;\n",
              "      --hover-bg-color: #434B5C;\n",
              "      --hover-fill-color: #FFFFFF;\n",
              "      --disabled-bg-color: #3B4455;\n",
              "      --disabled-fill-color: #666;\n",
              "  }\n",
              "\n",
              "  .colab-df-quickchart {\n",
              "    background-color: var(--bg-color);\n",
              "    border: none;\n",
              "    border-radius: 50%;\n",
              "    cursor: pointer;\n",
              "    display: none;\n",
              "    fill: var(--fill-color);\n",
              "    height: 32px;\n",
              "    padding: 0;\n",
              "    width: 32px;\n",
              "  }\n",
              "\n",
              "  .colab-df-quickchart:hover {\n",
              "    background-color: var(--hover-bg-color);\n",
              "    box-shadow: 0 1px 2px rgba(60, 64, 67, 0.3), 0 1px 3px 1px rgba(60, 64, 67, 0.15);\n",
              "    fill: var(--button-hover-fill-color);\n",
              "  }\n",
              "\n",
              "  .colab-df-quickchart-complete:disabled,\n",
              "  .colab-df-quickchart-complete:disabled:hover {\n",
              "    background-color: var(--disabled-bg-color);\n",
              "    fill: var(--disabled-fill-color);\n",
              "    box-shadow: none;\n",
              "  }\n",
              "\n",
              "  .colab-df-spinner {\n",
              "    border: 2px solid var(--fill-color);\n",
              "    border-color: transparent;\n",
              "    border-bottom-color: var(--fill-color);\n",
              "    animation:\n",
              "      spin 1s steps(1) infinite;\n",
              "  }\n",
              "\n",
              "  @keyframes spin {\n",
              "    0% {\n",
              "      border-color: transparent;\n",
              "      border-bottom-color: var(--fill-color);\n",
              "      border-left-color: var(--fill-color);\n",
              "    }\n",
              "    20% {\n",
              "      border-color: transparent;\n",
              "      border-left-color: var(--fill-color);\n",
              "      border-top-color: var(--fill-color);\n",
              "    }\n",
              "    30% {\n",
              "      border-color: transparent;\n",
              "      border-left-color: var(--fill-color);\n",
              "      border-top-color: var(--fill-color);\n",
              "      border-right-color: var(--fill-color);\n",
              "    }\n",
              "    40% {\n",
              "      border-color: transparent;\n",
              "      border-right-color: var(--fill-color);\n",
              "      border-top-color: var(--fill-color);\n",
              "    }\n",
              "    60% {\n",
              "      border-color: transparent;\n",
              "      border-right-color: var(--fill-color);\n",
              "    }\n",
              "    80% {\n",
              "      border-color: transparent;\n",
              "      border-right-color: var(--fill-color);\n",
              "      border-bottom-color: var(--fill-color);\n",
              "    }\n",
              "    90% {\n",
              "      border-color: transparent;\n",
              "      border-bottom-color: var(--fill-color);\n",
              "    }\n",
              "  }\n",
              "</style>\n",
              "\n",
              "  <script>\n",
              "    async function quickchart(key) {\n",
              "      const quickchartButtonEl =\n",
              "        document.querySelector('#' + key + ' button');\n",
              "      quickchartButtonEl.disabled = true;  // To prevent multiple clicks.\n",
              "      quickchartButtonEl.classList.add('colab-df-spinner');\n",
              "      try {\n",
              "        const charts = await google.colab.kernel.invokeFunction(\n",
              "            'suggestCharts', [key], {});\n",
              "      } catch (error) {\n",
              "        console.error('Error during call to suggestCharts:', error);\n",
              "      }\n",
              "      quickchartButtonEl.classList.remove('colab-df-spinner');\n",
              "      quickchartButtonEl.classList.add('colab-df-quickchart-complete');\n",
              "    }\n",
              "    (() => {\n",
              "      let quickchartButtonEl =\n",
              "        document.querySelector('#df-9e4042fc-247b-4923-b255-11c5258dcd4a button');\n",
              "      quickchartButtonEl.style.display =\n",
              "        google.colab.kernel.accessAllowed ? 'block' : 'none';\n",
              "    })();\n",
              "  </script>\n",
              "</div>\n",
              "\n",
              "    </div>\n",
              "  </div>\n"
            ],
            "application/vnd.google.colaboratory.intrinsic+json": {
              "type": "dataframe",
              "summary": "{\n  \"name\": \")\",\n  \"rows\": 197,\n  \"fields\": [\n    {\n      \"column\": \"Registration State\",\n      \"properties\": {\n        \"dtype\": \"category\",\n        \"num_unique_values\": 67,\n        \"samples\": [\n          \"NC\",\n          \"GV\",\n          \"AR\"\n        ],\n        \"semantic_type\": \"\",\n        \"description\": \"\"\n      }\n    },\n    {\n      \"column\": \"Violation Description\",\n      \"properties\": {\n        \"dtype\": \"category\",\n        \"num_unique_values\": 17,\n        \"samples\": [\n          \"51-Sidewalk\",\n          \"74-Missing Display Plate\",\n          \"PHTO SCHOOL ZN SPEED VIOLATION\"\n        ],\n        \"semantic_type\": \"\",\n        \"description\": \"\"\n      }\n    },\n    {\n      \"column\": \"count\",\n      \"properties\": {\n        \"dtype\": \"number\",\n        \"std\": 280263,\n        \"min\": 1,\n        \"max\": 3743378,\n        \"num_unique_values\": 188,\n        \"samples\": [\n          536,\n          2784,\n          13\n        ],\n        \"semantic_type\": \"\",\n        \"description\": \"\"\n      }\n    }\n  ]\n}"
            }
          },
          "metadata": {},
          "execution_count": 21
        }
      ]
    },
    {
      "cell_type": "markdown",
      "source": [
        "### **Insights and Recommendations**\n",
        "\n"
      ],
      "metadata": {
        "id": "EkoQPiCNdp5V"
      }
    },
    {
      "cell_type": "markdown",
      "source": [
        "1. **What are the peak hours for parking violations?**\n",
        "    - Provide insights on the time of day when violations are most frequent."
      ],
      "metadata": {
        "id": "hVqJ7PR3iDys"
      }
    },
    {
      "cell_type": "markdown",
      "source": [
        "Time of the day not given"
      ],
      "metadata": {
        "id": "iUYKWr_l7ATj"
      }
    },
    {
      "cell_type": "markdown",
      "source": [
        "2. **What are the top recommendations to reduce parking violations based on your findings?**\n",
        "    - Suggest actionable steps or policy changes to mitigate parking violations."
      ],
      "metadata": {
        "id": "nKEx523SiHDd"
      }
    },
    {
      "cell_type": "markdown",
      "source": [
        "Strict parking regulations need to be implemented and actions must be taken accordingly."
      ],
      "metadata": {
        "id": "ow7A9Hs77EYg"
      }
    },
    {
      "cell_type": "markdown",
      "source": [
        "3. **How might seasonal changes affect parking violations?**\n",
        "    - Consider if there are any seasonal patterns in the data."
      ],
      "metadata": {
        "id": "-Sd0jfpg60hN"
      }
    },
    {
      "cell_type": "markdown",
      "source": [
        "July and August have the highest no of violations"
      ],
      "metadata": {
        "id": "hpm3k2rI8Vmy"
      }
    },
    {
      "cell_type": "markdown",
      "source": [
        "4. **Are there any outlier events or anomalies in the data?**\n",
        "    - Identify and explain any unusual spikes or drops in the number of violations."
      ],
      "metadata": {
        "id": "_IvJQM6l63Zd"
      }
    },
    {
      "cell_type": "markdown",
      "source": [
        "No unusual spikes."
      ],
      "metadata": {
        "id": "U40AA82J8f2m"
      }
    },
    {
      "cell_type": "markdown",
      "source": [
        "### **Additional Questions for Advanced Analysis**\n",
        "\n"
      ],
      "metadata": {
        "id": "Ch--iY8d80ZM"
      }
    },
    {
      "cell_type": "markdown",
      "source": [
        "1. **What is the financial impact of parking violations on the city?**\n",
        "    - Estimate the total revenue generated from parking fines."
      ],
      "metadata": {
        "id": "bLWuE0_Y83YZ"
      }
    },
    {
      "cell_type": "markdown",
      "source": [
        "Revenue not given."
      ],
      "metadata": {
        "id": "Uhs5u1xYFzZk"
      }
    },
    {
      "cell_type": "markdown",
      "source": [
        "2. **How do parking violations correlate with traffic congestion?**\n",
        "    - Analyze if areas with high violations also experience significant traffic issues."
      ],
      "metadata": {
        "id": "Df7ACBHh85_M"
      }
    },
    {
      "cell_type": "markdown",
      "source": [
        "traffic congestion details are not given."
      ],
      "metadata": {
        "id": "WzUQT2QTF5Fh"
      }
    },
    {
      "cell_type": "markdown",
      "source": [
        "3. **What demographic factors, if any, influence parking violations?**\n",
        "    - Explore any demographic data available to see if there are correlations with violation rates."
      ],
      "metadata": {
        "id": "7YCmiBBp88Gv"
      }
    },
    {
      "cell_type": "markdown",
      "source": [
        "NY has the highest amount of Violations"
      ],
      "metadata": {
        "id": "jQNRnoxH9Miq"
      }
    },
    {
      "cell_type": "markdown",
      "source": [
        "4. **How do weather conditions affect the number of parking violations?**\n",
        "    - Investigate if there is a relationship between weather patterns and violation frequency."
      ],
      "metadata": {
        "id": "uG4M8MIa8-wJ"
      }
    },
    {
      "cell_type": "markdown",
      "source": [
        "Violations have high number of occurences on July and August(Summer time)"
      ],
      "metadata": {
        "id": "XRGkjiaG9Xr0"
      }
    }
  ]
}