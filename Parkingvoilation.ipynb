{
  "nbformat": 4,
  "nbformat_minor": 0,
  "metadata": {
    "colab": {
      "provenance": [],
      "include_colab_link": true
    },
    "kernelspec": {
      "name": "python3",
      "display_name": "Python 3"
    },
    "language_info": {
      "name": "python"
    }
  },
  "cells": [
    {
      "cell_type": "markdown",
      "metadata": {
        "id": "view-in-github",
        "colab_type": "text"
      },
      "source": [
        "<a href=\"https://colab.research.google.com/github/UsmanSafni/Python_Assignmnets/blob/main/Parkingvoilation.ipynb\" target=\"_parent\"><img src=\"https://colab.research.google.com/assets/colab-badge.svg\" alt=\"Open In Colab\"/></a>"
      ]
    },
    {
      "cell_type": "markdown",
      "source": [],
      "metadata": {
        "id": "Khd5-C508vex"
      }
    },
    {
      "cell_type": "code",
      "execution_count": 1,
      "metadata": {
        "id": "UN1VYOTx8lnT"
      },
      "outputs": [],
      "source": [
        "import pandas as pd"
      ]
    },
    {
      "cell_type": "code",
      "source": [
        "!wget https://data.rapids.ai/datasets/nyc_parking/nyc_parking_violations_2022.parquet -O /tmp/nyc_parking_violations_2022.parquet"
      ],
      "metadata": {
        "id": "jq6dIhDtIpbF",
        "outputId": "aff7895d-db4b-4165-f93d-bffb8b155c1b",
        "colab": {
          "base_uri": "https://localhost:8080/"
        }
      },
      "execution_count": 2,
      "outputs": [
        {
          "output_type": "stream",
          "name": "stdout",
          "text": [
            "--2024-05-28 18:38:34--  https://data.rapids.ai/datasets/nyc_parking/nyc_parking_violations_2022.parquet\n",
            "Resolving data.rapids.ai (data.rapids.ai)... 18.238.80.114, 18.238.80.37, 18.238.80.55, ...\n",
            "Connecting to data.rapids.ai (data.rapids.ai)|18.238.80.114|:443... connected.\n",
            "HTTP request sent, awaiting response... 200 OK\n",
            "Length: 474211285 (452M) [binary/octet-stream]\n",
            "Saving to: ‘/tmp/nyc_parking_violations_2022.parquet’\n",
            "\n",
            "/tmp/nyc_parking_vi 100%[===================>] 452.24M  49.2MB/s    in 6.8s    \n",
            "\n",
            "2024-05-28 18:38:41 (66.3 MB/s) - ‘/tmp/nyc_parking_violations_2022.parquet’ saved [474211285/474211285]\n",
            "\n"
          ]
        }
      ]
    },
    {
      "cell_type": "code",
      "source": [
        "# read 5 columns data:\n",
        "df = pd.read_parquet(\n",
        "    \"/tmp/nyc_parking_violations_2022.parquet\",\n",
        "    columns=[\"Registration State\", \"Violation Description\", \"Vehicle Body Type\", \"Issue Date\", \"Summons Number\"]\n",
        ")\n",
        "\n",
        "# view a random sample of 10 rows:\n",
        "df.sample(10)"
      ],
      "metadata": {
        "id": "ESVet81X8pjS",
        "outputId": "b8b28715-d1f7-4209-eff9-ddf7483a81d0",
        "colab": {
          "base_uri": "https://localhost:8080/",
          "height": 363
        }
      },
      "execution_count": 7,
      "outputs": [
        {
          "output_type": "execute_result",
          "data": {
            "text/plain": [
              "         Registration State           Violation Description Vehicle Body Type  \\\n",
              "18165                    ME                Detached Trailer              TRLR   \n",
              "8428216                  NY  PHTO SCHOOL ZN SPEED VIOLATION              CONV   \n",
              "12185878                 PA                  14-No Standing               VAN   \n",
              "13411752                 FL        37-Expired Parking Meter              SUBN   \n",
              "14284425                 NY        20A-No Parking (Non-COM)              PICK   \n",
              "8022205                  NY  PHTO SCHOOL ZN SPEED VIOLATION              4DSD   \n",
              "5749352                  NY                    50-Crosswalk              SUBN   \n",
              "1602860                  NY  71A-Insp Sticker Expired (NYS)              4DSD   \n",
              "8278351                  MA              BUS LANE VIOLATION                UT   \n",
              "9552390                  CT  PHTO SCHOOL ZN SPEED VIOLATION                SD   \n",
              "\n",
              "          Issue Date  Summons Number  \n",
              "18165     07/05/2021      2001826229  \n",
              "8428216   01/05/2022      4763637137  \n",
              "12185878  04/02/2022      8956403582  \n",
              "13411752  05/12/2022      8567791376  \n",
              "14284425  06/08/2022      8633088848  \n",
              "8022205   01/24/2022      4765854747  \n",
              "5749352   11/05/2021      8989530805  \n",
              "1602860   08/12/2021      8843549571  \n",
              "8278351   12/15/2021      4021584432  \n",
              "9552390   02/21/2022      4768816629  "
            ],
            "text/html": [
              "\n",
              "  <div id=\"df-19c28b66-d425-4f1e-990b-b5328f084b2c\" class=\"colab-df-container\">\n",
              "    <div>\n",
              "<style scoped>\n",
              "    .dataframe tbody tr th:only-of-type {\n",
              "        vertical-align: middle;\n",
              "    }\n",
              "\n",
              "    .dataframe tbody tr th {\n",
              "        vertical-align: top;\n",
              "    }\n",
              "\n",
              "    .dataframe thead th {\n",
              "        text-align: right;\n",
              "    }\n",
              "</style>\n",
              "<table border=\"1\" class=\"dataframe\">\n",
              "  <thead>\n",
              "    <tr style=\"text-align: right;\">\n",
              "      <th></th>\n",
              "      <th>Registration State</th>\n",
              "      <th>Violation Description</th>\n",
              "      <th>Vehicle Body Type</th>\n",
              "      <th>Issue Date</th>\n",
              "      <th>Summons Number</th>\n",
              "    </tr>\n",
              "  </thead>\n",
              "  <tbody>\n",
              "    <tr>\n",
              "      <th>18165</th>\n",
              "      <td>ME</td>\n",
              "      <td>Detached Trailer</td>\n",
              "      <td>TRLR</td>\n",
              "      <td>07/05/2021</td>\n",
              "      <td>2001826229</td>\n",
              "    </tr>\n",
              "    <tr>\n",
              "      <th>8428216</th>\n",
              "      <td>NY</td>\n",
              "      <td>PHTO SCHOOL ZN SPEED VIOLATION</td>\n",
              "      <td>CONV</td>\n",
              "      <td>01/05/2022</td>\n",
              "      <td>4763637137</td>\n",
              "    </tr>\n",
              "    <tr>\n",
              "      <th>12185878</th>\n",
              "      <td>PA</td>\n",
              "      <td>14-No Standing</td>\n",
              "      <td>VAN</td>\n",
              "      <td>04/02/2022</td>\n",
              "      <td>8956403582</td>\n",
              "    </tr>\n",
              "    <tr>\n",
              "      <th>13411752</th>\n",
              "      <td>FL</td>\n",
              "      <td>37-Expired Parking Meter</td>\n",
              "      <td>SUBN</td>\n",
              "      <td>05/12/2022</td>\n",
              "      <td>8567791376</td>\n",
              "    </tr>\n",
              "    <tr>\n",
              "      <th>14284425</th>\n",
              "      <td>NY</td>\n",
              "      <td>20A-No Parking (Non-COM)</td>\n",
              "      <td>PICK</td>\n",
              "      <td>06/08/2022</td>\n",
              "      <td>8633088848</td>\n",
              "    </tr>\n",
              "    <tr>\n",
              "      <th>8022205</th>\n",
              "      <td>NY</td>\n",
              "      <td>PHTO SCHOOL ZN SPEED VIOLATION</td>\n",
              "      <td>4DSD</td>\n",
              "      <td>01/24/2022</td>\n",
              "      <td>4765854747</td>\n",
              "    </tr>\n",
              "    <tr>\n",
              "      <th>5749352</th>\n",
              "      <td>NY</td>\n",
              "      <td>50-Crosswalk</td>\n",
              "      <td>SUBN</td>\n",
              "      <td>11/05/2021</td>\n",
              "      <td>8989530805</td>\n",
              "    </tr>\n",
              "    <tr>\n",
              "      <th>1602860</th>\n",
              "      <td>NY</td>\n",
              "      <td>71A-Insp Sticker Expired (NYS)</td>\n",
              "      <td>4DSD</td>\n",
              "      <td>08/12/2021</td>\n",
              "      <td>8843549571</td>\n",
              "    </tr>\n",
              "    <tr>\n",
              "      <th>8278351</th>\n",
              "      <td>MA</td>\n",
              "      <td>BUS LANE VIOLATION</td>\n",
              "      <td>UT</td>\n",
              "      <td>12/15/2021</td>\n",
              "      <td>4021584432</td>\n",
              "    </tr>\n",
              "    <tr>\n",
              "      <th>9552390</th>\n",
              "      <td>CT</td>\n",
              "      <td>PHTO SCHOOL ZN SPEED VIOLATION</td>\n",
              "      <td>SD</td>\n",
              "      <td>02/21/2022</td>\n",
              "      <td>4768816629</td>\n",
              "    </tr>\n",
              "  </tbody>\n",
              "</table>\n",
              "</div>\n",
              "    <div class=\"colab-df-buttons\">\n",
              "\n",
              "  <div class=\"colab-df-container\">\n",
              "    <button class=\"colab-df-convert\" onclick=\"convertToInteractive('df-19c28b66-d425-4f1e-990b-b5328f084b2c')\"\n",
              "            title=\"Convert this dataframe to an interactive table.\"\n",
              "            style=\"display:none;\">\n",
              "\n",
              "  <svg xmlns=\"http://www.w3.org/2000/svg\" height=\"24px\" viewBox=\"0 -960 960 960\">\n",
              "    <path d=\"M120-120v-720h720v720H120Zm60-500h600v-160H180v160Zm220 220h160v-160H400v160Zm0 220h160v-160H400v160ZM180-400h160v-160H180v160Zm440 0h160v-160H620v160ZM180-180h160v-160H180v160Zm440 0h160v-160H620v160Z\"/>\n",
              "  </svg>\n",
              "    </button>\n",
              "\n",
              "  <style>\n",
              "    .colab-df-container {\n",
              "      display:flex;\n",
              "      gap: 12px;\n",
              "    }\n",
              "\n",
              "    .colab-df-convert {\n",
              "      background-color: #E8F0FE;\n",
              "      border: none;\n",
              "      border-radius: 50%;\n",
              "      cursor: pointer;\n",
              "      display: none;\n",
              "      fill: #1967D2;\n",
              "      height: 32px;\n",
              "      padding: 0 0 0 0;\n",
              "      width: 32px;\n",
              "    }\n",
              "\n",
              "    .colab-df-convert:hover {\n",
              "      background-color: #E2EBFA;\n",
              "      box-shadow: 0px 1px 2px rgba(60, 64, 67, 0.3), 0px 1px 3px 1px rgba(60, 64, 67, 0.15);\n",
              "      fill: #174EA6;\n",
              "    }\n",
              "\n",
              "    .colab-df-buttons div {\n",
              "      margin-bottom: 4px;\n",
              "    }\n",
              "\n",
              "    [theme=dark] .colab-df-convert {\n",
              "      background-color: #3B4455;\n",
              "      fill: #D2E3FC;\n",
              "    }\n",
              "\n",
              "    [theme=dark] .colab-df-convert:hover {\n",
              "      background-color: #434B5C;\n",
              "      box-shadow: 0px 1px 3px 1px rgba(0, 0, 0, 0.15);\n",
              "      filter: drop-shadow(0px 1px 2px rgba(0, 0, 0, 0.3));\n",
              "      fill: #FFFFFF;\n",
              "    }\n",
              "  </style>\n",
              "\n",
              "    <script>\n",
              "      const buttonEl =\n",
              "        document.querySelector('#df-19c28b66-d425-4f1e-990b-b5328f084b2c button.colab-df-convert');\n",
              "      buttonEl.style.display =\n",
              "        google.colab.kernel.accessAllowed ? 'block' : 'none';\n",
              "\n",
              "      async function convertToInteractive(key) {\n",
              "        const element = document.querySelector('#df-19c28b66-d425-4f1e-990b-b5328f084b2c');\n",
              "        const dataTable =\n",
              "          await google.colab.kernel.invokeFunction('convertToInteractive',\n",
              "                                                    [key], {});\n",
              "        if (!dataTable) return;\n",
              "\n",
              "        const docLinkHtml = 'Like what you see? Visit the ' +\n",
              "          '<a target=\"_blank\" href=https://colab.research.google.com/notebooks/data_table.ipynb>data table notebook</a>'\n",
              "          + ' to learn more about interactive tables.';\n",
              "        element.innerHTML = '';\n",
              "        dataTable['output_type'] = 'display_data';\n",
              "        await google.colab.output.renderOutput(dataTable, element);\n",
              "        const docLink = document.createElement('div');\n",
              "        docLink.innerHTML = docLinkHtml;\n",
              "        element.appendChild(docLink);\n",
              "      }\n",
              "    </script>\n",
              "  </div>\n",
              "\n",
              "\n",
              "<div id=\"df-1545908e-eea3-48c1-89e8-126a9275eab1\">\n",
              "  <button class=\"colab-df-quickchart\" onclick=\"quickchart('df-1545908e-eea3-48c1-89e8-126a9275eab1')\"\n",
              "            title=\"Suggest charts\"\n",
              "            style=\"display:none;\">\n",
              "\n",
              "<svg xmlns=\"http://www.w3.org/2000/svg\" height=\"24px\"viewBox=\"0 0 24 24\"\n",
              "     width=\"24px\">\n",
              "    <g>\n",
              "        <path d=\"M19 3H5c-1.1 0-2 .9-2 2v14c0 1.1.9 2 2 2h14c1.1 0 2-.9 2-2V5c0-1.1-.9-2-2-2zM9 17H7v-7h2v7zm4 0h-2V7h2v10zm4 0h-2v-4h2v4z\"/>\n",
              "    </g>\n",
              "</svg>\n",
              "  </button>\n",
              "\n",
              "<style>\n",
              "  .colab-df-quickchart {\n",
              "      --bg-color: #E8F0FE;\n",
              "      --fill-color: #1967D2;\n",
              "      --hover-bg-color: #E2EBFA;\n",
              "      --hover-fill-color: #174EA6;\n",
              "      --disabled-fill-color: #AAA;\n",
              "      --disabled-bg-color: #DDD;\n",
              "  }\n",
              "\n",
              "  [theme=dark] .colab-df-quickchart {\n",
              "      --bg-color: #3B4455;\n",
              "      --fill-color: #D2E3FC;\n",
              "      --hover-bg-color: #434B5C;\n",
              "      --hover-fill-color: #FFFFFF;\n",
              "      --disabled-bg-color: #3B4455;\n",
              "      --disabled-fill-color: #666;\n",
              "  }\n",
              "\n",
              "  .colab-df-quickchart {\n",
              "    background-color: var(--bg-color);\n",
              "    border: none;\n",
              "    border-radius: 50%;\n",
              "    cursor: pointer;\n",
              "    display: none;\n",
              "    fill: var(--fill-color);\n",
              "    height: 32px;\n",
              "    padding: 0;\n",
              "    width: 32px;\n",
              "  }\n",
              "\n",
              "  .colab-df-quickchart:hover {\n",
              "    background-color: var(--hover-bg-color);\n",
              "    box-shadow: 0 1px 2px rgba(60, 64, 67, 0.3), 0 1px 3px 1px rgba(60, 64, 67, 0.15);\n",
              "    fill: var(--button-hover-fill-color);\n",
              "  }\n",
              "\n",
              "  .colab-df-quickchart-complete:disabled,\n",
              "  .colab-df-quickchart-complete:disabled:hover {\n",
              "    background-color: var(--disabled-bg-color);\n",
              "    fill: var(--disabled-fill-color);\n",
              "    box-shadow: none;\n",
              "  }\n",
              "\n",
              "  .colab-df-spinner {\n",
              "    border: 2px solid var(--fill-color);\n",
              "    border-color: transparent;\n",
              "    border-bottom-color: var(--fill-color);\n",
              "    animation:\n",
              "      spin 1s steps(1) infinite;\n",
              "  }\n",
              "\n",
              "  @keyframes spin {\n",
              "    0% {\n",
              "      border-color: transparent;\n",
              "      border-bottom-color: var(--fill-color);\n",
              "      border-left-color: var(--fill-color);\n",
              "    }\n",
              "    20% {\n",
              "      border-color: transparent;\n",
              "      border-left-color: var(--fill-color);\n",
              "      border-top-color: var(--fill-color);\n",
              "    }\n",
              "    30% {\n",
              "      border-color: transparent;\n",
              "      border-left-color: var(--fill-color);\n",
              "      border-top-color: var(--fill-color);\n",
              "      border-right-color: var(--fill-color);\n",
              "    }\n",
              "    40% {\n",
              "      border-color: transparent;\n",
              "      border-right-color: var(--fill-color);\n",
              "      border-top-color: var(--fill-color);\n",
              "    }\n",
              "    60% {\n",
              "      border-color: transparent;\n",
              "      border-right-color: var(--fill-color);\n",
              "    }\n",
              "    80% {\n",
              "      border-color: transparent;\n",
              "      border-right-color: var(--fill-color);\n",
              "      border-bottom-color: var(--fill-color);\n",
              "    }\n",
              "    90% {\n",
              "      border-color: transparent;\n",
              "      border-bottom-color: var(--fill-color);\n",
              "    }\n",
              "  }\n",
              "</style>\n",
              "\n",
              "  <script>\n",
              "    async function quickchart(key) {\n",
              "      const quickchartButtonEl =\n",
              "        document.querySelector('#' + key + ' button');\n",
              "      quickchartButtonEl.disabled = true;  // To prevent multiple clicks.\n",
              "      quickchartButtonEl.classList.add('colab-df-spinner');\n",
              "      try {\n",
              "        const charts = await google.colab.kernel.invokeFunction(\n",
              "            'suggestCharts', [key], {});\n",
              "      } catch (error) {\n",
              "        console.error('Error during call to suggestCharts:', error);\n",
              "      }\n",
              "      quickchartButtonEl.classList.remove('colab-df-spinner');\n",
              "      quickchartButtonEl.classList.add('colab-df-quickchart-complete');\n",
              "    }\n",
              "    (() => {\n",
              "      let quickchartButtonEl =\n",
              "        document.querySelector('#df-1545908e-eea3-48c1-89e8-126a9275eab1 button');\n",
              "      quickchartButtonEl.style.display =\n",
              "        google.colab.kernel.accessAllowed ? 'block' : 'none';\n",
              "    })();\n",
              "  </script>\n",
              "</div>\n",
              "\n",
              "    </div>\n",
              "  </div>\n"
            ],
            "application/vnd.google.colaboratory.intrinsic+json": {
              "type": "dataframe",
              "repr_error": "0"
            }
          },
          "metadata": {},
          "execution_count": 7
        }
      ]
    },
    {
      "cell_type": "markdown",
      "source": [
        "### **Data Understanding**\n",
        "\n",
        "1. **What is the time range of the dataset?**\n",
        "    - Identify the earliest and latest dates in the dataset to understand the time span covered.\n",
        "2. **What are the different violation codes and their descriptions?**\n",
        "    - List the various violation codes and what each code represents.\n",
        "3. **How many records are there in the dataset?**\n",
        "    - Determine the total number of parking violation records.\n",
        "    "
      ],
      "metadata": {
        "id": "NhV95NtqgS-V"
      }
    },
    {
      "cell_type": "markdown",
      "source": [
        "What is the time range of the dataset?\n",
        "Identify the earliest and latest dates in the dataset to understand the time span covered."
      ],
      "metadata": {
        "id": "VIaSCePigdSr"
      }
    },
    {
      "cell_type": "code",
      "source": [
        "sorted_df = df.sort_values(by='Issue Date')\n",
        "first_entry = sorted_df.head(1)['Issue Date']\n",
        "last_entry = sorted_df.tail(1)['Issue Date']\n",
        "\n",
        "print(\"First Entry:\")\n",
        "print(first_entry)\n",
        "\n",
        "print(\"\\nLast Entry:\")\n",
        "print(last_entry)"
      ],
      "metadata": {
        "colab": {
          "base_uri": "https://localhost:8080/"
        },
        "id": "7nZEcPiIgqFI",
        "outputId": "e6b7d4d7-73b0-4c2f-b290-906d63830581"
      },
      "execution_count": 13,
      "outputs": [
        {
          "output_type": "stream",
          "name": "stdout",
          "text": [
            "First Entry:\n",
            "8245481    01/01/2021\n",
            "Name: Issue Date, dtype: object\n",
            "\n",
            "Last Entry:\n",
            "7848593    12/31/2031\n",
            "Name: Issue Date, dtype: object\n"
          ]
        }
      ]
    },
    {
      "cell_type": "markdown",
      "source": [
        "2. **What are the different violation codes and their descriptions?**\n",
        "    - List the various violation codes and what each code represents."
      ],
      "metadata": {
        "id": "hl0d8cmxgizo"
      }
    },
    {
      "cell_type": "code",
      "source": [
        "df1 = pd.read_parquet(\n",
        "    \"/tmp/nyc_parking_violations_2022.parquet\",\n",
        "    columns=[\"Violation Code\", \"Violation Description\"]\n",
        ")\n",
        "df1.sample(10)"
      ],
      "metadata": {
        "colab": {
          "base_uri": "https://localhost:8080/",
          "height": 363
        },
        "id": "Is4eTRLu478v",
        "outputId": "20d81e5a-85e2-4318-efa2-1fbc47e4837e"
      },
      "execution_count": 17,
      "outputs": [
        {
          "output_type": "execute_result",
          "data": {
            "text/plain": [
              "          Violation Code           Violation Description\n",
              "9483330               36  PHTO SCHOOL ZN SPEED VIOLATION\n",
              "2008486               36  PHTO SCHOOL ZN SPEED VIOLATION\n",
              "1628047               62          62-Beyond Marked Space\n",
              "2089707               36  PHTO SCHOOL ZN SPEED VIOLATION\n",
              "6557875               71   71-Insp. Sticker Missing (NYS\n",
              "6695899               36  PHTO SCHOOL ZN SPEED VIOLATION\n",
              "8379728               36  PHTO SCHOOL ZN SPEED VIOLATION\n",
              "5929436               36  PHTO SCHOOL ZN SPEED VIOLATION\n",
              "11525975              36  PHTO SCHOOL ZN SPEED VIOLATION\n",
              "12041761              84  84-Platform lifts in low posit"
            ],
            "text/html": [
              "\n",
              "  <div id=\"df-9112fa9a-4a96-428c-98d0-b0cb881bb52b\" class=\"colab-df-container\">\n",
              "    <div>\n",
              "<style scoped>\n",
              "    .dataframe tbody tr th:only-of-type {\n",
              "        vertical-align: middle;\n",
              "    }\n",
              "\n",
              "    .dataframe tbody tr th {\n",
              "        vertical-align: top;\n",
              "    }\n",
              "\n",
              "    .dataframe thead th {\n",
              "        text-align: right;\n",
              "    }\n",
              "</style>\n",
              "<table border=\"1\" class=\"dataframe\">\n",
              "  <thead>\n",
              "    <tr style=\"text-align: right;\">\n",
              "      <th></th>\n",
              "      <th>Violation Code</th>\n",
              "      <th>Violation Description</th>\n",
              "    </tr>\n",
              "  </thead>\n",
              "  <tbody>\n",
              "    <tr>\n",
              "      <th>9483330</th>\n",
              "      <td>36</td>\n",
              "      <td>PHTO SCHOOL ZN SPEED VIOLATION</td>\n",
              "    </tr>\n",
              "    <tr>\n",
              "      <th>2008486</th>\n",
              "      <td>36</td>\n",
              "      <td>PHTO SCHOOL ZN SPEED VIOLATION</td>\n",
              "    </tr>\n",
              "    <tr>\n",
              "      <th>1628047</th>\n",
              "      <td>62</td>\n",
              "      <td>62-Beyond Marked Space</td>\n",
              "    </tr>\n",
              "    <tr>\n",
              "      <th>2089707</th>\n",
              "      <td>36</td>\n",
              "      <td>PHTO SCHOOL ZN SPEED VIOLATION</td>\n",
              "    </tr>\n",
              "    <tr>\n",
              "      <th>6557875</th>\n",
              "      <td>71</td>\n",
              "      <td>71-Insp. Sticker Missing (NYS</td>\n",
              "    </tr>\n",
              "    <tr>\n",
              "      <th>6695899</th>\n",
              "      <td>36</td>\n",
              "      <td>PHTO SCHOOL ZN SPEED VIOLATION</td>\n",
              "    </tr>\n",
              "    <tr>\n",
              "      <th>8379728</th>\n",
              "      <td>36</td>\n",
              "      <td>PHTO SCHOOL ZN SPEED VIOLATION</td>\n",
              "    </tr>\n",
              "    <tr>\n",
              "      <th>5929436</th>\n",
              "      <td>36</td>\n",
              "      <td>PHTO SCHOOL ZN SPEED VIOLATION</td>\n",
              "    </tr>\n",
              "    <tr>\n",
              "      <th>11525975</th>\n",
              "      <td>36</td>\n",
              "      <td>PHTO SCHOOL ZN SPEED VIOLATION</td>\n",
              "    </tr>\n",
              "    <tr>\n",
              "      <th>12041761</th>\n",
              "      <td>84</td>\n",
              "      <td>84-Platform lifts in low posit</td>\n",
              "    </tr>\n",
              "  </tbody>\n",
              "</table>\n",
              "</div>\n",
              "    <div class=\"colab-df-buttons\">\n",
              "\n",
              "  <div class=\"colab-df-container\">\n",
              "    <button class=\"colab-df-convert\" onclick=\"convertToInteractive('df-9112fa9a-4a96-428c-98d0-b0cb881bb52b')\"\n",
              "            title=\"Convert this dataframe to an interactive table.\"\n",
              "            style=\"display:none;\">\n",
              "\n",
              "  <svg xmlns=\"http://www.w3.org/2000/svg\" height=\"24px\" viewBox=\"0 -960 960 960\">\n",
              "    <path d=\"M120-120v-720h720v720H120Zm60-500h600v-160H180v160Zm220 220h160v-160H400v160Zm0 220h160v-160H400v160ZM180-400h160v-160H180v160Zm440 0h160v-160H620v160ZM180-180h160v-160H180v160Zm440 0h160v-160H620v160Z\"/>\n",
              "  </svg>\n",
              "    </button>\n",
              "\n",
              "  <style>\n",
              "    .colab-df-container {\n",
              "      display:flex;\n",
              "      gap: 12px;\n",
              "    }\n",
              "\n",
              "    .colab-df-convert {\n",
              "      background-color: #E8F0FE;\n",
              "      border: none;\n",
              "      border-radius: 50%;\n",
              "      cursor: pointer;\n",
              "      display: none;\n",
              "      fill: #1967D2;\n",
              "      height: 32px;\n",
              "      padding: 0 0 0 0;\n",
              "      width: 32px;\n",
              "    }\n",
              "\n",
              "    .colab-df-convert:hover {\n",
              "      background-color: #E2EBFA;\n",
              "      box-shadow: 0px 1px 2px rgba(60, 64, 67, 0.3), 0px 1px 3px 1px rgba(60, 64, 67, 0.15);\n",
              "      fill: #174EA6;\n",
              "    }\n",
              "\n",
              "    .colab-df-buttons div {\n",
              "      margin-bottom: 4px;\n",
              "    }\n",
              "\n",
              "    [theme=dark] .colab-df-convert {\n",
              "      background-color: #3B4455;\n",
              "      fill: #D2E3FC;\n",
              "    }\n",
              "\n",
              "    [theme=dark] .colab-df-convert:hover {\n",
              "      background-color: #434B5C;\n",
              "      box-shadow: 0px 1px 3px 1px rgba(0, 0, 0, 0.15);\n",
              "      filter: drop-shadow(0px 1px 2px rgba(0, 0, 0, 0.3));\n",
              "      fill: #FFFFFF;\n",
              "    }\n",
              "  </style>\n",
              "\n",
              "    <script>\n",
              "      const buttonEl =\n",
              "        document.querySelector('#df-9112fa9a-4a96-428c-98d0-b0cb881bb52b button.colab-df-convert');\n",
              "      buttonEl.style.display =\n",
              "        google.colab.kernel.accessAllowed ? 'block' : 'none';\n",
              "\n",
              "      async function convertToInteractive(key) {\n",
              "        const element = document.querySelector('#df-9112fa9a-4a96-428c-98d0-b0cb881bb52b');\n",
              "        const dataTable =\n",
              "          await google.colab.kernel.invokeFunction('convertToInteractive',\n",
              "                                                    [key], {});\n",
              "        if (!dataTable) return;\n",
              "\n",
              "        const docLinkHtml = 'Like what you see? Visit the ' +\n",
              "          '<a target=\"_blank\" href=https://colab.research.google.com/notebooks/data_table.ipynb>data table notebook</a>'\n",
              "          + ' to learn more about interactive tables.';\n",
              "        element.innerHTML = '';\n",
              "        dataTable['output_type'] = 'display_data';\n",
              "        await google.colab.output.renderOutput(dataTable, element);\n",
              "        const docLink = document.createElement('div');\n",
              "        docLink.innerHTML = docLinkHtml;\n",
              "        element.appendChild(docLink);\n",
              "      }\n",
              "    </script>\n",
              "  </div>\n",
              "\n",
              "\n",
              "<div id=\"df-6357ea5e-51f9-4cc2-8b03-426e8c16ae7b\">\n",
              "  <button class=\"colab-df-quickchart\" onclick=\"quickchart('df-6357ea5e-51f9-4cc2-8b03-426e8c16ae7b')\"\n",
              "            title=\"Suggest charts\"\n",
              "            style=\"display:none;\">\n",
              "\n",
              "<svg xmlns=\"http://www.w3.org/2000/svg\" height=\"24px\"viewBox=\"0 0 24 24\"\n",
              "     width=\"24px\">\n",
              "    <g>\n",
              "        <path d=\"M19 3H5c-1.1 0-2 .9-2 2v14c0 1.1.9 2 2 2h14c1.1 0 2-.9 2-2V5c0-1.1-.9-2-2-2zM9 17H7v-7h2v7zm4 0h-2V7h2v10zm4 0h-2v-4h2v4z\"/>\n",
              "    </g>\n",
              "</svg>\n",
              "  </button>\n",
              "\n",
              "<style>\n",
              "  .colab-df-quickchart {\n",
              "      --bg-color: #E8F0FE;\n",
              "      --fill-color: #1967D2;\n",
              "      --hover-bg-color: #E2EBFA;\n",
              "      --hover-fill-color: #174EA6;\n",
              "      --disabled-fill-color: #AAA;\n",
              "      --disabled-bg-color: #DDD;\n",
              "  }\n",
              "\n",
              "  [theme=dark] .colab-df-quickchart {\n",
              "      --bg-color: #3B4455;\n",
              "      --fill-color: #D2E3FC;\n",
              "      --hover-bg-color: #434B5C;\n",
              "      --hover-fill-color: #FFFFFF;\n",
              "      --disabled-bg-color: #3B4455;\n",
              "      --disabled-fill-color: #666;\n",
              "  }\n",
              "\n",
              "  .colab-df-quickchart {\n",
              "    background-color: var(--bg-color);\n",
              "    border: none;\n",
              "    border-radius: 50%;\n",
              "    cursor: pointer;\n",
              "    display: none;\n",
              "    fill: var(--fill-color);\n",
              "    height: 32px;\n",
              "    padding: 0;\n",
              "    width: 32px;\n",
              "  }\n",
              "\n",
              "  .colab-df-quickchart:hover {\n",
              "    background-color: var(--hover-bg-color);\n",
              "    box-shadow: 0 1px 2px rgba(60, 64, 67, 0.3), 0 1px 3px 1px rgba(60, 64, 67, 0.15);\n",
              "    fill: var(--button-hover-fill-color);\n",
              "  }\n",
              "\n",
              "  .colab-df-quickchart-complete:disabled,\n",
              "  .colab-df-quickchart-complete:disabled:hover {\n",
              "    background-color: var(--disabled-bg-color);\n",
              "    fill: var(--disabled-fill-color);\n",
              "    box-shadow: none;\n",
              "  }\n",
              "\n",
              "  .colab-df-spinner {\n",
              "    border: 2px solid var(--fill-color);\n",
              "    border-color: transparent;\n",
              "    border-bottom-color: var(--fill-color);\n",
              "    animation:\n",
              "      spin 1s steps(1) infinite;\n",
              "  }\n",
              "\n",
              "  @keyframes spin {\n",
              "    0% {\n",
              "      border-color: transparent;\n",
              "      border-bottom-color: var(--fill-color);\n",
              "      border-left-color: var(--fill-color);\n",
              "    }\n",
              "    20% {\n",
              "      border-color: transparent;\n",
              "      border-left-color: var(--fill-color);\n",
              "      border-top-color: var(--fill-color);\n",
              "    }\n",
              "    30% {\n",
              "      border-color: transparent;\n",
              "      border-left-color: var(--fill-color);\n",
              "      border-top-color: var(--fill-color);\n",
              "      border-right-color: var(--fill-color);\n",
              "    }\n",
              "    40% {\n",
              "      border-color: transparent;\n",
              "      border-right-color: var(--fill-color);\n",
              "      border-top-color: var(--fill-color);\n",
              "    }\n",
              "    60% {\n",
              "      border-color: transparent;\n",
              "      border-right-color: var(--fill-color);\n",
              "    }\n",
              "    80% {\n",
              "      border-color: transparent;\n",
              "      border-right-color: var(--fill-color);\n",
              "      border-bottom-color: var(--fill-color);\n",
              "    }\n",
              "    90% {\n",
              "      border-color: transparent;\n",
              "      border-bottom-color: var(--fill-color);\n",
              "    }\n",
              "  }\n",
              "</style>\n",
              "\n",
              "  <script>\n",
              "    async function quickchart(key) {\n",
              "      const quickchartButtonEl =\n",
              "        document.querySelector('#' + key + ' button');\n",
              "      quickchartButtonEl.disabled = true;  // To prevent multiple clicks.\n",
              "      quickchartButtonEl.classList.add('colab-df-spinner');\n",
              "      try {\n",
              "        const charts = await google.colab.kernel.invokeFunction(\n",
              "            'suggestCharts', [key], {});\n",
              "      } catch (error) {\n",
              "        console.error('Error during call to suggestCharts:', error);\n",
              "      }\n",
              "      quickchartButtonEl.classList.remove('colab-df-spinner');\n",
              "      quickchartButtonEl.classList.add('colab-df-quickchart-complete');\n",
              "    }\n",
              "    (() => {\n",
              "      let quickchartButtonEl =\n",
              "        document.querySelector('#df-6357ea5e-51f9-4cc2-8b03-426e8c16ae7b button');\n",
              "      quickchartButtonEl.style.display =\n",
              "        google.colab.kernel.accessAllowed ? 'block' : 'none';\n",
              "    })();\n",
              "  </script>\n",
              "</div>\n",
              "\n",
              "    </div>\n",
              "  </div>\n"
            ],
            "application/vnd.google.colaboratory.intrinsic+json": {
              "type": "dataframe",
              "summary": "{\n  \"name\": \"df1\",\n  \"rows\": 10,\n  \"fields\": [\n    {\n      \"column\": \"Violation Code\",\n      \"properties\": {\n        \"dtype\": \"number\",\n        \"std\": 18,\n        \"min\": 36,\n        \"max\": 84,\n        \"num_unique_values\": 4,\n        \"samples\": [\n          62,\n          84,\n          36\n        ],\n        \"semantic_type\": \"\",\n        \"description\": \"\"\n      }\n    },\n    {\n      \"column\": \"Violation Description\",\n      \"properties\": {\n        \"dtype\": \"category\",\n        \"num_unique_values\": 4,\n        \"samples\": [\n          \"62-Beyond Marked Space\",\n          \"84-Platform lifts in low posit\",\n          \"PHTO SCHOOL ZN SPEED VIOLATION\"\n        ],\n        \"semantic_type\": \"\",\n        \"description\": \"\"\n      }\n    }\n  ]\n}"
            }
          },
          "metadata": {},
          "execution_count": 17
        }
      ]
    },
    {
      "cell_type": "markdown",
      "source": [
        "3. **How many records are there in the dataset?**\n",
        "    - Determine the total number of parking violation records.\n",
        "    "
      ],
      "metadata": {
        "id": "PyEyXEez5-ly"
      }
    },
    {
      "cell_type": "code",
      "source": [
        "len(df)"
      ],
      "metadata": {
        "colab": {
          "base_uri": "https://localhost:8080/"
        },
        "id": "v5hQW56g5_iH",
        "outputId": "92285c1e-e774-4dbd-a171-1a88dc0be0a7"
      },
      "execution_count": 18,
      "outputs": [
        {
          "output_type": "execute_result",
          "data": {
            "text/plain": [
              "15435607"
            ]
          },
          "metadata": {},
          "execution_count": 18
        }
      ]
    },
    {
      "cell_type": "markdown",
      "source": [
        "### **Data Cleaning**\n",
        "\n",
        "1. **Are there any missing or null values in the dataset?**\n",
        "    - Identify columns with missing data and describe how you handled them.\n",
        "2. **Are there any duplicate records in the dataset?**\n",
        "    - Check for duplicates and describe the steps taken to remove them.\n",
        "3. **Are the data types of each column appropriate?**\n",
        "    - Verify and correct data types, especially for dates and numerical values."
      ],
      "metadata": {
        "id": "sqpUvmhL6Whe"
      }
    },
    {
      "cell_type": "markdown",
      "source": [
        "1. **Are there any missing or null values in the dataset?**\n",
        "    - Identify columns with missing data and describe how you handled them."
      ],
      "metadata": {
        "id": "X2Sz8R5P6oLC"
      }
    },
    {
      "cell_type": "code",
      "source": [
        "# Check for missing values\n",
        "missing_values = df.isna().sum()\n",
        "\n",
        "# Display columns with missing values\n",
        "columns_with_missing_values = missing_values[missing_values > 0]\n",
        "print(\"Columns with missing values:\")\n",
        "print(columns_with_missing_values)\n"
      ],
      "metadata": {
        "colab": {
          "base_uri": "https://localhost:8080/"
        },
        "id": "ssfuu4bj6pAm",
        "outputId": "4a0c2553-c151-4f50-ef73-ce2c6b958d13"
      },
      "execution_count": 20,
      "outputs": [
        {
          "output_type": "stream",
          "name": "stdout",
          "text": [
            "Columns with missing values:\n",
            "Series([], dtype: int64)\n"
          ]
        }
      ]
    },
    {
      "cell_type": "markdown",
      "source": [
        "To handle missing values, you have several options:\n",
        "\n",
        "1. Remove rows with missing values: If the number of missing values is relatively small compared to the total size of the dataset and does not significantly affect the analysis, you can remove rows containing missing values using the dropna() function.\n",
        "\n",
        "2. Fill missing values: You can fill missing values with a specific value, such as the mean, median, or mode of the column, using the fillna() function.\n",
        "\n",
        "3. Impute missing values: You can use more advanced techniques, such as imputation, to estimate missing values based on the values of other columns or external information."
      ],
      "metadata": {
        "id": "Smp3ZBsZ9bcq"
      }
    },
    {
      "cell_type": "markdown",
      "source": [
        "2. **Are there any duplicate records in the dataset?**\n",
        "    - Check for duplicates and describe the steps taken to remove them."
      ],
      "metadata": {
        "id": "wT7ya8H49hs2"
      }
    },
    {
      "cell_type": "code",
      "source": [
        "# Check for duplicate records\n",
        "duplicates = df.duplicated()\n",
        "\n",
        "# Display rows with duplicate records\n",
        "duplicate_rows = df[duplicates]\n",
        "print(\"Duplicate Rows:\")\n",
        "print(duplicate_rows)\n"
      ],
      "metadata": {
        "colab": {
          "base_uri": "https://localhost:8080/"
        },
        "id": "umhA3V-09ph3",
        "outputId": "46fb6495-8859-4c72-aad9-33a37be0e855"
      },
      "execution_count": 21,
      "outputs": [
        {
          "output_type": "stream",
          "name": "stdout",
          "text": [
            "Duplicate Rows:\n",
            "Empty DataFrame\n",
            "Columns: [Registration State, Violation Description, Vehicle Body Type, Issue Date, Summons Number]\n",
            "Index: []\n"
          ]
        }
      ]
    },
    {
      "cell_type": "markdown",
      "source": [
        "If you find duplicate records and want to remove them, you can use the drop_duplicates() function. This function removes duplicate rows from the DataFrame.\n",
        "#Remove duplicate records\n",
        "df_no_duplicates = df.drop_duplicates()\n",
        "\n",
        "#Check the shape to see how many duplicate records were removed\n",
        "original_shape = df.shape\n",
        "new_shape = df_no_duplicates.shape\n",
        "print(\"Original Shape:\", original_shape)\n",
        "print(\"Shape after removing duplicates:\", new_shape)"
      ],
      "metadata": {
        "id": "lLN1yewe_ppM"
      }
    },
    {
      "cell_type": "markdown",
      "source": [
        "3. **Are the data types of each column appropriate?**\n",
        "    - Verify and correct data types, especially for dates and numerical values."
      ],
      "metadata": {
        "id": "9tnEsVgdAJqy"
      }
    },
    {
      "cell_type": "code",
      "source": [
        "print(\"Data Types:\")\n",
        "print(df.dtypes)"
      ],
      "metadata": {
        "colab": {
          "base_uri": "https://localhost:8080/"
        },
        "id": "K4Er5fWXBwop",
        "outputId": "7c2f1e38-6c00-42a2-c4b8-624797011625"
      },
      "execution_count": 22,
      "outputs": [
        {
          "output_type": "stream",
          "name": "stdout",
          "text": [
            "Data Types:\n",
            "Registration State       object\n",
            "Violation Description    object\n",
            "Vehicle Body Type        object\n",
            "Issue Date               object\n",
            "Summons Number            int64\n",
            "dtype: object\n"
          ]
        }
      ]
    },
    {
      "cell_type": "markdown",
      "source": [
        "1. Registration State, Violation Description, Vehicle Body Type: These columns are correctly identified as object data types, which typically represent string or categorical data.\n",
        "\n",
        "2. Issue Date: This column is currently identified as an object data type, which usually indicates that it's stored as a string. To work with dates efficiently, it's better to convert this column to a datetime data type. You can do this using the pd.to_datetime() function.\n",
        "\n",
        "3. Summons Number: This column is correctly identified as an integer data type, which is appropriate for numerical identifiers."
      ],
      "metadata": {
        "id": "W85Z1B72CsK6"
      }
    },
    {
      "cell_type": "code",
      "source": [
        "# Convert 'Issue Date' to datetime\n",
        "df['Issue Date'] = pd.to_datetime(df['Issue Date'])\n",
        "print(df.dtypes)"
      ],
      "metadata": {
        "colab": {
          "base_uri": "https://localhost:8080/"
        },
        "id": "fd6wspK7C3E3",
        "outputId": "104b8381-0af1-431f-8db3-79631eeec0d3"
      },
      "execution_count": 24,
      "outputs": [
        {
          "output_type": "stream",
          "name": "stdout",
          "text": [
            "Registration State               object\n",
            "Violation Description            object\n",
            "Vehicle Body Type                object\n",
            "Issue Date               datetime64[ns]\n",
            "Summons Number                    int64\n",
            "dtype: object\n"
          ]
        }
      ]
    }
  ]
}