{
  "nbformat": 4,
  "nbformat_minor": 0,
  "metadata": {
    "colab": {
      "provenance": [],
      "gpuType": "T4",
      "include_colab_link": true
    },
    "kernelspec": {
      "name": "python3",
      "display_name": "Python 3"
    },
    "language_info": {
      "name": "python"
    },
    "accelerator": "GPU"
  },
  "cells": [
    {
      "cell_type": "markdown",
      "metadata": {
        "id": "view-in-github",
        "colab_type": "text"
      },
      "source": [
        "<a href=\"https://colab.research.google.com/github/UsmanSafni/Data_Analysis/blob/main/Details_Parkingvoilation.ipynb\" target=\"_parent\"><img src=\"https://colab.research.google.com/assets/colab-badge.svg\" alt=\"Open In Colab\"/></a>"
      ]
    },
    {
      "cell_type": "markdown",
      "source": [],
      "metadata": {
        "id": "Khd5-C508vex"
      }
    },
    {
      "cell_type": "code",
      "execution_count": 1,
      "metadata": {
        "id": "UN1VYOTx8lnT"
      },
      "outputs": [],
      "source": [
        "import pandas as pd"
      ]
    },
    {
      "cell_type": "code",
      "source": [
        "!wget https://data.rapids.ai/datasets/nyc_parking/nyc_parking_violations_2022.parquet -O /tmp/nyc_parking_violations_2022.parquet"
      ],
      "metadata": {
        "id": "jq6dIhDtIpbF",
        "outputId": "6f11e5cc-a78a-4a3d-b562-28e8776aa227",
        "colab": {
          "base_uri": "https://localhost:8080/"
        }
      },
      "execution_count": 2,
      "outputs": [
        {
          "output_type": "stream",
          "name": "stdout",
          "text": [
            "--2024-05-31 04:02:39--  https://data.rapids.ai/datasets/nyc_parking/nyc_parking_violations_2022.parquet\n",
            "Resolving data.rapids.ai (data.rapids.ai)... 13.225.4.33, 13.225.4.58, 13.225.4.53, ...\n",
            "Connecting to data.rapids.ai (data.rapids.ai)|13.225.4.33|:443... connected.\n",
            "HTTP request sent, awaiting response... 200 OK\n",
            "Length: 474211285 (452M) [binary/octet-stream]\n",
            "Saving to: ‘/tmp/nyc_parking_violations_2022.parquet’\n",
            "\n",
            "/tmp/nyc_parking_vi 100%[===================>] 452.24M  76.2MB/s    in 5.9s    \n",
            "\n",
            "2024-05-31 04:02:46 (77.2 MB/s) - ‘/tmp/nyc_parking_violations_2022.parquet’ saved [474211285/474211285]\n",
            "\n"
          ]
        }
      ]
    },
    {
      "cell_type": "code",
      "source": [
        "# read 5 columns data:\n",
        "df = pd.read_parquet(\n",
        "    \"/tmp/nyc_parking_violations_2022.parquet\",\n",
        "    columns=[\"Registration State\", \"Violation Description\", \"Vehicle Body Type\", \"Issue Date\", \"Summons Number\"]\n",
        ")\n",
        "\n",
        "# view a random sample of 10 rows:\n",
        "df.sample(10)"
      ],
      "metadata": {
        "id": "ESVet81X8pjS",
        "outputId": "bfd19363-73cb-422b-be40-068fd8ea5322",
        "colab": {
          "base_uri": "https://localhost:8080/",
          "height": 363
        }
      },
      "execution_count": 3,
      "outputs": [
        {
          "output_type": "execute_result",
          "data": {
            "text/plain": [
              "         Registration State           Violation Description Vehicle Body Type  \\\n",
              "7150370                  FL  PHTO SCHOOL ZN SPEED VIOLATION                UT   \n",
              "5297356                  NY  38-Failure to Dsplay Meter Rec              SUBN   \n",
              "13779693                 NY        74-Missing Display Plate              2DSD   \n",
              "14721178                 NY  PHTO SCHOOL ZN SPEED VIOLATION              SUBN   \n",
              "5847535                  NY              BUS LANE VIOLATION              4DSD   \n",
              "3307241                  PA  PHTO SCHOOL ZN SPEED VIOLATION                SW   \n",
              "12969334                 NY  71A-Insp Sticker Expired (NYS)              4DSD   \n",
              "748435                   IN                    50-Crosswalk              TRAC   \n",
              "12978080                 NY                 40-Fire Hydrant              SUBN   \n",
              "8194173                  NY                  14-No Standing              4DSD   \n",
              "\n",
              "          Issue Date  Summons Number  \n",
              "7150370   12/03/2021      4759299890  \n",
              "5297356   10/19/2021      8978077894  \n",
              "13779693  05/13/2022      8883493266  \n",
              "14721178  06/16/2022      4783856930  \n",
              "5847535   11/10/2021      4020782349  \n",
              "3307241   08/26/2021      4746722079  \n",
              "12969334  04/28/2022      8876771098  \n",
              "748435    07/17/2021      8945179689  \n",
              "12978080  05/07/2022      8883727071  \n",
              "8194173   01/26/2022      8913173372  "
            ],
            "text/html": [
              "\n",
              "  <div id=\"df-09a6cf4f-4a41-4854-acfc-56d3efb03850\" class=\"colab-df-container\">\n",
              "    <div>\n",
              "<style scoped>\n",
              "    .dataframe tbody tr th:only-of-type {\n",
              "        vertical-align: middle;\n",
              "    }\n",
              "\n",
              "    .dataframe tbody tr th {\n",
              "        vertical-align: top;\n",
              "    }\n",
              "\n",
              "    .dataframe thead th {\n",
              "        text-align: right;\n",
              "    }\n",
              "</style>\n",
              "<table border=\"1\" class=\"dataframe\">\n",
              "  <thead>\n",
              "    <tr style=\"text-align: right;\">\n",
              "      <th></th>\n",
              "      <th>Registration State</th>\n",
              "      <th>Violation Description</th>\n",
              "      <th>Vehicle Body Type</th>\n",
              "      <th>Issue Date</th>\n",
              "      <th>Summons Number</th>\n",
              "    </tr>\n",
              "  </thead>\n",
              "  <tbody>\n",
              "    <tr>\n",
              "      <th>7150370</th>\n",
              "      <td>FL</td>\n",
              "      <td>PHTO SCHOOL ZN SPEED VIOLATION</td>\n",
              "      <td>UT</td>\n",
              "      <td>12/03/2021</td>\n",
              "      <td>4759299890</td>\n",
              "    </tr>\n",
              "    <tr>\n",
              "      <th>5297356</th>\n",
              "      <td>NY</td>\n",
              "      <td>38-Failure to Dsplay Meter Rec</td>\n",
              "      <td>SUBN</td>\n",
              "      <td>10/19/2021</td>\n",
              "      <td>8978077894</td>\n",
              "    </tr>\n",
              "    <tr>\n",
              "      <th>13779693</th>\n",
              "      <td>NY</td>\n",
              "      <td>74-Missing Display Plate</td>\n",
              "      <td>2DSD</td>\n",
              "      <td>05/13/2022</td>\n",
              "      <td>8883493266</td>\n",
              "    </tr>\n",
              "    <tr>\n",
              "      <th>14721178</th>\n",
              "      <td>NY</td>\n",
              "      <td>PHTO SCHOOL ZN SPEED VIOLATION</td>\n",
              "      <td>SUBN</td>\n",
              "      <td>06/16/2022</td>\n",
              "      <td>4783856930</td>\n",
              "    </tr>\n",
              "    <tr>\n",
              "      <th>5847535</th>\n",
              "      <td>NY</td>\n",
              "      <td>BUS LANE VIOLATION</td>\n",
              "      <td>4DSD</td>\n",
              "      <td>11/10/2021</td>\n",
              "      <td>4020782349</td>\n",
              "    </tr>\n",
              "    <tr>\n",
              "      <th>3307241</th>\n",
              "      <td>PA</td>\n",
              "      <td>PHTO SCHOOL ZN SPEED VIOLATION</td>\n",
              "      <td>SW</td>\n",
              "      <td>08/26/2021</td>\n",
              "      <td>4746722079</td>\n",
              "    </tr>\n",
              "    <tr>\n",
              "      <th>12969334</th>\n",
              "      <td>NY</td>\n",
              "      <td>71A-Insp Sticker Expired (NYS)</td>\n",
              "      <td>4DSD</td>\n",
              "      <td>04/28/2022</td>\n",
              "      <td>8876771098</td>\n",
              "    </tr>\n",
              "    <tr>\n",
              "      <th>748435</th>\n",
              "      <td>IN</td>\n",
              "      <td>50-Crosswalk</td>\n",
              "      <td>TRAC</td>\n",
              "      <td>07/17/2021</td>\n",
              "      <td>8945179689</td>\n",
              "    </tr>\n",
              "    <tr>\n",
              "      <th>12978080</th>\n",
              "      <td>NY</td>\n",
              "      <td>40-Fire Hydrant</td>\n",
              "      <td>SUBN</td>\n",
              "      <td>05/07/2022</td>\n",
              "      <td>8883727071</td>\n",
              "    </tr>\n",
              "    <tr>\n",
              "      <th>8194173</th>\n",
              "      <td>NY</td>\n",
              "      <td>14-No Standing</td>\n",
              "      <td>4DSD</td>\n",
              "      <td>01/26/2022</td>\n",
              "      <td>8913173372</td>\n",
              "    </tr>\n",
              "  </tbody>\n",
              "</table>\n",
              "</div>\n",
              "    <div class=\"colab-df-buttons\">\n",
              "\n",
              "  <div class=\"colab-df-container\">\n",
              "    <button class=\"colab-df-convert\" onclick=\"convertToInteractive('df-09a6cf4f-4a41-4854-acfc-56d3efb03850')\"\n",
              "            title=\"Convert this dataframe to an interactive table.\"\n",
              "            style=\"display:none;\">\n",
              "\n",
              "  <svg xmlns=\"http://www.w3.org/2000/svg\" height=\"24px\" viewBox=\"0 -960 960 960\">\n",
              "    <path d=\"M120-120v-720h720v720H120Zm60-500h600v-160H180v160Zm220 220h160v-160H400v160Zm0 220h160v-160H400v160ZM180-400h160v-160H180v160Zm440 0h160v-160H620v160ZM180-180h160v-160H180v160Zm440 0h160v-160H620v160Z\"/>\n",
              "  </svg>\n",
              "    </button>\n",
              "\n",
              "  <style>\n",
              "    .colab-df-container {\n",
              "      display:flex;\n",
              "      gap: 12px;\n",
              "    }\n",
              "\n",
              "    .colab-df-convert {\n",
              "      background-color: #E8F0FE;\n",
              "      border: none;\n",
              "      border-radius: 50%;\n",
              "      cursor: pointer;\n",
              "      display: none;\n",
              "      fill: #1967D2;\n",
              "      height: 32px;\n",
              "      padding: 0 0 0 0;\n",
              "      width: 32px;\n",
              "    }\n",
              "\n",
              "    .colab-df-convert:hover {\n",
              "      background-color: #E2EBFA;\n",
              "      box-shadow: 0px 1px 2px rgba(60, 64, 67, 0.3), 0px 1px 3px 1px rgba(60, 64, 67, 0.15);\n",
              "      fill: #174EA6;\n",
              "    }\n",
              "\n",
              "    .colab-df-buttons div {\n",
              "      margin-bottom: 4px;\n",
              "    }\n",
              "\n",
              "    [theme=dark] .colab-df-convert {\n",
              "      background-color: #3B4455;\n",
              "      fill: #D2E3FC;\n",
              "    }\n",
              "\n",
              "    [theme=dark] .colab-df-convert:hover {\n",
              "      background-color: #434B5C;\n",
              "      box-shadow: 0px 1px 3px 1px rgba(0, 0, 0, 0.15);\n",
              "      filter: drop-shadow(0px 1px 2px rgba(0, 0, 0, 0.3));\n",
              "      fill: #FFFFFF;\n",
              "    }\n",
              "  </style>\n",
              "\n",
              "    <script>\n",
              "      const buttonEl =\n",
              "        document.querySelector('#df-09a6cf4f-4a41-4854-acfc-56d3efb03850 button.colab-df-convert');\n",
              "      buttonEl.style.display =\n",
              "        google.colab.kernel.accessAllowed ? 'block' : 'none';\n",
              "\n",
              "      async function convertToInteractive(key) {\n",
              "        const element = document.querySelector('#df-09a6cf4f-4a41-4854-acfc-56d3efb03850');\n",
              "        const dataTable =\n",
              "          await google.colab.kernel.invokeFunction('convertToInteractive',\n",
              "                                                    [key], {});\n",
              "        if (!dataTable) return;\n",
              "\n",
              "        const docLinkHtml = 'Like what you see? Visit the ' +\n",
              "          '<a target=\"_blank\" href=https://colab.research.google.com/notebooks/data_table.ipynb>data table notebook</a>'\n",
              "          + ' to learn more about interactive tables.';\n",
              "        element.innerHTML = '';\n",
              "        dataTable['output_type'] = 'display_data';\n",
              "        await google.colab.output.renderOutput(dataTable, element);\n",
              "        const docLink = document.createElement('div');\n",
              "        docLink.innerHTML = docLinkHtml;\n",
              "        element.appendChild(docLink);\n",
              "      }\n",
              "    </script>\n",
              "  </div>\n",
              "\n",
              "\n",
              "<div id=\"df-71b67c49-363a-4b40-9eaa-39d2caab4b35\">\n",
              "  <button class=\"colab-df-quickchart\" onclick=\"quickchart('df-71b67c49-363a-4b40-9eaa-39d2caab4b35')\"\n",
              "            title=\"Suggest charts\"\n",
              "            style=\"display:none;\">\n",
              "\n",
              "<svg xmlns=\"http://www.w3.org/2000/svg\" height=\"24px\"viewBox=\"0 0 24 24\"\n",
              "     width=\"24px\">\n",
              "    <g>\n",
              "        <path d=\"M19 3H5c-1.1 0-2 .9-2 2v14c0 1.1.9 2 2 2h14c1.1 0 2-.9 2-2V5c0-1.1-.9-2-2-2zM9 17H7v-7h2v7zm4 0h-2V7h2v10zm4 0h-2v-4h2v4z\"/>\n",
              "    </g>\n",
              "</svg>\n",
              "  </button>\n",
              "\n",
              "<style>\n",
              "  .colab-df-quickchart {\n",
              "      --bg-color: #E8F0FE;\n",
              "      --fill-color: #1967D2;\n",
              "      --hover-bg-color: #E2EBFA;\n",
              "      --hover-fill-color: #174EA6;\n",
              "      --disabled-fill-color: #AAA;\n",
              "      --disabled-bg-color: #DDD;\n",
              "  }\n",
              "\n",
              "  [theme=dark] .colab-df-quickchart {\n",
              "      --bg-color: #3B4455;\n",
              "      --fill-color: #D2E3FC;\n",
              "      --hover-bg-color: #434B5C;\n",
              "      --hover-fill-color: #FFFFFF;\n",
              "      --disabled-bg-color: #3B4455;\n",
              "      --disabled-fill-color: #666;\n",
              "  }\n",
              "\n",
              "  .colab-df-quickchart {\n",
              "    background-color: var(--bg-color);\n",
              "    border: none;\n",
              "    border-radius: 50%;\n",
              "    cursor: pointer;\n",
              "    display: none;\n",
              "    fill: var(--fill-color);\n",
              "    height: 32px;\n",
              "    padding: 0;\n",
              "    width: 32px;\n",
              "  }\n",
              "\n",
              "  .colab-df-quickchart:hover {\n",
              "    background-color: var(--hover-bg-color);\n",
              "    box-shadow: 0 1px 2px rgba(60, 64, 67, 0.3), 0 1px 3px 1px rgba(60, 64, 67, 0.15);\n",
              "    fill: var(--button-hover-fill-color);\n",
              "  }\n",
              "\n",
              "  .colab-df-quickchart-complete:disabled,\n",
              "  .colab-df-quickchart-complete:disabled:hover {\n",
              "    background-color: var(--disabled-bg-color);\n",
              "    fill: var(--disabled-fill-color);\n",
              "    box-shadow: none;\n",
              "  }\n",
              "\n",
              "  .colab-df-spinner {\n",
              "    border: 2px solid var(--fill-color);\n",
              "    border-color: transparent;\n",
              "    border-bottom-color: var(--fill-color);\n",
              "    animation:\n",
              "      spin 1s steps(1) infinite;\n",
              "  }\n",
              "\n",
              "  @keyframes spin {\n",
              "    0% {\n",
              "      border-color: transparent;\n",
              "      border-bottom-color: var(--fill-color);\n",
              "      border-left-color: var(--fill-color);\n",
              "    }\n",
              "    20% {\n",
              "      border-color: transparent;\n",
              "      border-left-color: var(--fill-color);\n",
              "      border-top-color: var(--fill-color);\n",
              "    }\n",
              "    30% {\n",
              "      border-color: transparent;\n",
              "      border-left-color: var(--fill-color);\n",
              "      border-top-color: var(--fill-color);\n",
              "      border-right-color: var(--fill-color);\n",
              "    }\n",
              "    40% {\n",
              "      border-color: transparent;\n",
              "      border-right-color: var(--fill-color);\n",
              "      border-top-color: var(--fill-color);\n",
              "    }\n",
              "    60% {\n",
              "      border-color: transparent;\n",
              "      border-right-color: var(--fill-color);\n",
              "    }\n",
              "    80% {\n",
              "      border-color: transparent;\n",
              "      border-right-color: var(--fill-color);\n",
              "      border-bottom-color: var(--fill-color);\n",
              "    }\n",
              "    90% {\n",
              "      border-color: transparent;\n",
              "      border-bottom-color: var(--fill-color);\n",
              "    }\n",
              "  }\n",
              "</style>\n",
              "\n",
              "  <script>\n",
              "    async function quickchart(key) {\n",
              "      const quickchartButtonEl =\n",
              "        document.querySelector('#' + key + ' button');\n",
              "      quickchartButtonEl.disabled = true;  // To prevent multiple clicks.\n",
              "      quickchartButtonEl.classList.add('colab-df-spinner');\n",
              "      try {\n",
              "        const charts = await google.colab.kernel.invokeFunction(\n",
              "            'suggestCharts', [key], {});\n",
              "      } catch (error) {\n",
              "        console.error('Error during call to suggestCharts:', error);\n",
              "      }\n",
              "      quickchartButtonEl.classList.remove('colab-df-spinner');\n",
              "      quickchartButtonEl.classList.add('colab-df-quickchart-complete');\n",
              "    }\n",
              "    (() => {\n",
              "      let quickchartButtonEl =\n",
              "        document.querySelector('#df-71b67c49-363a-4b40-9eaa-39d2caab4b35 button');\n",
              "      quickchartButtonEl.style.display =\n",
              "        google.colab.kernel.accessAllowed ? 'block' : 'none';\n",
              "    })();\n",
              "  </script>\n",
              "</div>\n",
              "\n",
              "    </div>\n",
              "  </div>\n"
            ],
            "application/vnd.google.colaboratory.intrinsic+json": {
              "type": "dataframe",
              "repr_error": "0"
            }
          },
          "metadata": {},
          "execution_count": 3
        }
      ]
    },
    {
      "cell_type": "markdown",
      "source": [
        "### **Data Understanding**\n",
        "\n",
        "1. **What is the time range of the dataset?**\n",
        "    - Identify the earliest and latest dates in the dataset to understand the time span covered.\n",
        "2. **What are the different violation codes and their descriptions?**\n",
        "    - List the various violation codes and what each code represents.\n",
        "3. **How many records are there in the dataset?**\n",
        "    - Determine the total number of parking violation records.\n",
        "    "
      ],
      "metadata": {
        "id": "NhV95NtqgS-V"
      }
    },
    {
      "cell_type": "markdown",
      "source": [
        "1. **What is the time range of the dataset?**\n",
        "    - Identify the earliest and latest dates in the dataset to understand the time span covered."
      ],
      "metadata": {
        "id": "VIaSCePigdSr"
      }
    },
    {
      "cell_type": "code",
      "source": [
        "sorted_df = df.sort_values(by='Issue Date')\n",
        "first_entry = sorted_df.head(1)['Issue Date']\n",
        "last_entry = sorted_df.tail(1)['Issue Date']\n",
        "\n",
        "print(\"First Entry:\")\n",
        "print(first_entry)\n",
        "\n",
        "print(\"\\nLast Entry:\")\n",
        "print(last_entry)"
      ],
      "metadata": {
        "colab": {
          "base_uri": "https://localhost:8080/"
        },
        "id": "7nZEcPiIgqFI",
        "outputId": "e6b7d4d7-73b0-4c2f-b290-906d63830581"
      },
      "execution_count": null,
      "outputs": [
        {
          "output_type": "stream",
          "name": "stdout",
          "text": [
            "First Entry:\n",
            "8245481    01/01/2021\n",
            "Name: Issue Date, dtype: object\n",
            "\n",
            "Last Entry:\n",
            "7848593    12/31/2031\n",
            "Name: Issue Date, dtype: object\n"
          ]
        }
      ]
    },
    {
      "cell_type": "markdown",
      "source": [
        "2. **What are the different violation codes and their descriptions?**\n",
        "    - List the various violation codes and what each code represents."
      ],
      "metadata": {
        "id": "hl0d8cmxgizo"
      }
    },
    {
      "cell_type": "code",
      "source": [
        "df1 = pd.read_parquet(\n",
        "    \"/tmp/nyc_parking_violations_2022.parquet\",\n",
        "    columns=[\"Violation Code\", \"Violation Description\"]\n",
        ")\n",
        "df1.sample(10)"
      ],
      "metadata": {
        "colab": {
          "base_uri": "https://localhost:8080/",
          "height": 363
        },
        "id": "Is4eTRLu478v",
        "outputId": "20d81e5a-85e2-4318-efa2-1fbc47e4837e"
      },
      "execution_count": null,
      "outputs": [
        {
          "output_type": "execute_result",
          "data": {
            "text/plain": [
              "          Violation Code           Violation Description\n",
              "9483330               36  PHTO SCHOOL ZN SPEED VIOLATION\n",
              "2008486               36  PHTO SCHOOL ZN SPEED VIOLATION\n",
              "1628047               62          62-Beyond Marked Space\n",
              "2089707               36  PHTO SCHOOL ZN SPEED VIOLATION\n",
              "6557875               71   71-Insp. Sticker Missing (NYS\n",
              "6695899               36  PHTO SCHOOL ZN SPEED VIOLATION\n",
              "8379728               36  PHTO SCHOOL ZN SPEED VIOLATION\n",
              "5929436               36  PHTO SCHOOL ZN SPEED VIOLATION\n",
              "11525975              36  PHTO SCHOOL ZN SPEED VIOLATION\n",
              "12041761              84  84-Platform lifts in low posit"
            ],
            "text/html": [
              "\n",
              "  <div id=\"df-9112fa9a-4a96-428c-98d0-b0cb881bb52b\" class=\"colab-df-container\">\n",
              "    <div>\n",
              "<style scoped>\n",
              "    .dataframe tbody tr th:only-of-type {\n",
              "        vertical-align: middle;\n",
              "    }\n",
              "\n",
              "    .dataframe tbody tr th {\n",
              "        vertical-align: top;\n",
              "    }\n",
              "\n",
              "    .dataframe thead th {\n",
              "        text-align: right;\n",
              "    }\n",
              "</style>\n",
              "<table border=\"1\" class=\"dataframe\">\n",
              "  <thead>\n",
              "    <tr style=\"text-align: right;\">\n",
              "      <th></th>\n",
              "      <th>Violation Code</th>\n",
              "      <th>Violation Description</th>\n",
              "    </tr>\n",
              "  </thead>\n",
              "  <tbody>\n",
              "    <tr>\n",
              "      <th>9483330</th>\n",
              "      <td>36</td>\n",
              "      <td>PHTO SCHOOL ZN SPEED VIOLATION</td>\n",
              "    </tr>\n",
              "    <tr>\n",
              "      <th>2008486</th>\n",
              "      <td>36</td>\n",
              "      <td>PHTO SCHOOL ZN SPEED VIOLATION</td>\n",
              "    </tr>\n",
              "    <tr>\n",
              "      <th>1628047</th>\n",
              "      <td>62</td>\n",
              "      <td>62-Beyond Marked Space</td>\n",
              "    </tr>\n",
              "    <tr>\n",
              "      <th>2089707</th>\n",
              "      <td>36</td>\n",
              "      <td>PHTO SCHOOL ZN SPEED VIOLATION</td>\n",
              "    </tr>\n",
              "    <tr>\n",
              "      <th>6557875</th>\n",
              "      <td>71</td>\n",
              "      <td>71-Insp. Sticker Missing (NYS</td>\n",
              "    </tr>\n",
              "    <tr>\n",
              "      <th>6695899</th>\n",
              "      <td>36</td>\n",
              "      <td>PHTO SCHOOL ZN SPEED VIOLATION</td>\n",
              "    </tr>\n",
              "    <tr>\n",
              "      <th>8379728</th>\n",
              "      <td>36</td>\n",
              "      <td>PHTO SCHOOL ZN SPEED VIOLATION</td>\n",
              "    </tr>\n",
              "    <tr>\n",
              "      <th>5929436</th>\n",
              "      <td>36</td>\n",
              "      <td>PHTO SCHOOL ZN SPEED VIOLATION</td>\n",
              "    </tr>\n",
              "    <tr>\n",
              "      <th>11525975</th>\n",
              "      <td>36</td>\n",
              "      <td>PHTO SCHOOL ZN SPEED VIOLATION</td>\n",
              "    </tr>\n",
              "    <tr>\n",
              "      <th>12041761</th>\n",
              "      <td>84</td>\n",
              "      <td>84-Platform lifts in low posit</td>\n",
              "    </tr>\n",
              "  </tbody>\n",
              "</table>\n",
              "</div>\n",
              "    <div class=\"colab-df-buttons\">\n",
              "\n",
              "  <div class=\"colab-df-container\">\n",
              "    <button class=\"colab-df-convert\" onclick=\"convertToInteractive('df-9112fa9a-4a96-428c-98d0-b0cb881bb52b')\"\n",
              "            title=\"Convert this dataframe to an interactive table.\"\n",
              "            style=\"display:none;\">\n",
              "\n",
              "  <svg xmlns=\"http://www.w3.org/2000/svg\" height=\"24px\" viewBox=\"0 -960 960 960\">\n",
              "    <path d=\"M120-120v-720h720v720H120Zm60-500h600v-160H180v160Zm220 220h160v-160H400v160Zm0 220h160v-160H400v160ZM180-400h160v-160H180v160Zm440 0h160v-160H620v160ZM180-180h160v-160H180v160Zm440 0h160v-160H620v160Z\"/>\n",
              "  </svg>\n",
              "    </button>\n",
              "\n",
              "  <style>\n",
              "    .colab-df-container {\n",
              "      display:flex;\n",
              "      gap: 12px;\n",
              "    }\n",
              "\n",
              "    .colab-df-convert {\n",
              "      background-color: #E8F0FE;\n",
              "      border: none;\n",
              "      border-radius: 50%;\n",
              "      cursor: pointer;\n",
              "      display: none;\n",
              "      fill: #1967D2;\n",
              "      height: 32px;\n",
              "      padding: 0 0 0 0;\n",
              "      width: 32px;\n",
              "    }\n",
              "\n",
              "    .colab-df-convert:hover {\n",
              "      background-color: #E2EBFA;\n",
              "      box-shadow: 0px 1px 2px rgba(60, 64, 67, 0.3), 0px 1px 3px 1px rgba(60, 64, 67, 0.15);\n",
              "      fill: #174EA6;\n",
              "    }\n",
              "\n",
              "    .colab-df-buttons div {\n",
              "      margin-bottom: 4px;\n",
              "    }\n",
              "\n",
              "    [theme=dark] .colab-df-convert {\n",
              "      background-color: #3B4455;\n",
              "      fill: #D2E3FC;\n",
              "    }\n",
              "\n",
              "    [theme=dark] .colab-df-convert:hover {\n",
              "      background-color: #434B5C;\n",
              "      box-shadow: 0px 1px 3px 1px rgba(0, 0, 0, 0.15);\n",
              "      filter: drop-shadow(0px 1px 2px rgba(0, 0, 0, 0.3));\n",
              "      fill: #FFFFFF;\n",
              "    }\n",
              "  </style>\n",
              "\n",
              "    <script>\n",
              "      const buttonEl =\n",
              "        document.querySelector('#df-9112fa9a-4a96-428c-98d0-b0cb881bb52b button.colab-df-convert');\n",
              "      buttonEl.style.display =\n",
              "        google.colab.kernel.accessAllowed ? 'block' : 'none';\n",
              "\n",
              "      async function convertToInteractive(key) {\n",
              "        const element = document.querySelector('#df-9112fa9a-4a96-428c-98d0-b0cb881bb52b');\n",
              "        const dataTable =\n",
              "          await google.colab.kernel.invokeFunction('convertToInteractive',\n",
              "                                                    [key], {});\n",
              "        if (!dataTable) return;\n",
              "\n",
              "        const docLinkHtml = 'Like what you see? Visit the ' +\n",
              "          '<a target=\"_blank\" href=https://colab.research.google.com/notebooks/data_table.ipynb>data table notebook</a>'\n",
              "          + ' to learn more about interactive tables.';\n",
              "        element.innerHTML = '';\n",
              "        dataTable['output_type'] = 'display_data';\n",
              "        await google.colab.output.renderOutput(dataTable, element);\n",
              "        const docLink = document.createElement('div');\n",
              "        docLink.innerHTML = docLinkHtml;\n",
              "        element.appendChild(docLink);\n",
              "      }\n",
              "    </script>\n",
              "  </div>\n",
              "\n",
              "\n",
              "<div id=\"df-6357ea5e-51f9-4cc2-8b03-426e8c16ae7b\">\n",
              "  <button class=\"colab-df-quickchart\" onclick=\"quickchart('df-6357ea5e-51f9-4cc2-8b03-426e8c16ae7b')\"\n",
              "            title=\"Suggest charts\"\n",
              "            style=\"display:none;\">\n",
              "\n",
              "<svg xmlns=\"http://www.w3.org/2000/svg\" height=\"24px\"viewBox=\"0 0 24 24\"\n",
              "     width=\"24px\">\n",
              "    <g>\n",
              "        <path d=\"M19 3H5c-1.1 0-2 .9-2 2v14c0 1.1.9 2 2 2h14c1.1 0 2-.9 2-2V5c0-1.1-.9-2-2-2zM9 17H7v-7h2v7zm4 0h-2V7h2v10zm4 0h-2v-4h2v4z\"/>\n",
              "    </g>\n",
              "</svg>\n",
              "  </button>\n",
              "\n",
              "<style>\n",
              "  .colab-df-quickchart {\n",
              "      --bg-color: #E8F0FE;\n",
              "      --fill-color: #1967D2;\n",
              "      --hover-bg-color: #E2EBFA;\n",
              "      --hover-fill-color: #174EA6;\n",
              "      --disabled-fill-color: #AAA;\n",
              "      --disabled-bg-color: #DDD;\n",
              "  }\n",
              "\n",
              "  [theme=dark] .colab-df-quickchart {\n",
              "      --bg-color: #3B4455;\n",
              "      --fill-color: #D2E3FC;\n",
              "      --hover-bg-color: #434B5C;\n",
              "      --hover-fill-color: #FFFFFF;\n",
              "      --disabled-bg-color: #3B4455;\n",
              "      --disabled-fill-color: #666;\n",
              "  }\n",
              "\n",
              "  .colab-df-quickchart {\n",
              "    background-color: var(--bg-color);\n",
              "    border: none;\n",
              "    border-radius: 50%;\n",
              "    cursor: pointer;\n",
              "    display: none;\n",
              "    fill: var(--fill-color);\n",
              "    height: 32px;\n",
              "    padding: 0;\n",
              "    width: 32px;\n",
              "  }\n",
              "\n",
              "  .colab-df-quickchart:hover {\n",
              "    background-color: var(--hover-bg-color);\n",
              "    box-shadow: 0 1px 2px rgba(60, 64, 67, 0.3), 0 1px 3px 1px rgba(60, 64, 67, 0.15);\n",
              "    fill: var(--button-hover-fill-color);\n",
              "  }\n",
              "\n",
              "  .colab-df-quickchart-complete:disabled,\n",
              "  .colab-df-quickchart-complete:disabled:hover {\n",
              "    background-color: var(--disabled-bg-color);\n",
              "    fill: var(--disabled-fill-color);\n",
              "    box-shadow: none;\n",
              "  }\n",
              "\n",
              "  .colab-df-spinner {\n",
              "    border: 2px solid var(--fill-color);\n",
              "    border-color: transparent;\n",
              "    border-bottom-color: var(--fill-color);\n",
              "    animation:\n",
              "      spin 1s steps(1) infinite;\n",
              "  }\n",
              "\n",
              "  @keyframes spin {\n",
              "    0% {\n",
              "      border-color: transparent;\n",
              "      border-bottom-color: var(--fill-color);\n",
              "      border-left-color: var(--fill-color);\n",
              "    }\n",
              "    20% {\n",
              "      border-color: transparent;\n",
              "      border-left-color: var(--fill-color);\n",
              "      border-top-color: var(--fill-color);\n",
              "    }\n",
              "    30% {\n",
              "      border-color: transparent;\n",
              "      border-left-color: var(--fill-color);\n",
              "      border-top-color: var(--fill-color);\n",
              "      border-right-color: var(--fill-color);\n",
              "    }\n",
              "    40% {\n",
              "      border-color: transparent;\n",
              "      border-right-color: var(--fill-color);\n",
              "      border-top-color: var(--fill-color);\n",
              "    }\n",
              "    60% {\n",
              "      border-color: transparent;\n",
              "      border-right-color: var(--fill-color);\n",
              "    }\n",
              "    80% {\n",
              "      border-color: transparent;\n",
              "      border-right-color: var(--fill-color);\n",
              "      border-bottom-color: var(--fill-color);\n",
              "    }\n",
              "    90% {\n",
              "      border-color: transparent;\n",
              "      border-bottom-color: var(--fill-color);\n",
              "    }\n",
              "  }\n",
              "</style>\n",
              "\n",
              "  <script>\n",
              "    async function quickchart(key) {\n",
              "      const quickchartButtonEl =\n",
              "        document.querySelector('#' + key + ' button');\n",
              "      quickchartButtonEl.disabled = true;  // To prevent multiple clicks.\n",
              "      quickchartButtonEl.classList.add('colab-df-spinner');\n",
              "      try {\n",
              "        const charts = await google.colab.kernel.invokeFunction(\n",
              "            'suggestCharts', [key], {});\n",
              "      } catch (error) {\n",
              "        console.error('Error during call to suggestCharts:', error);\n",
              "      }\n",
              "      quickchartButtonEl.classList.remove('colab-df-spinner');\n",
              "      quickchartButtonEl.classList.add('colab-df-quickchart-complete');\n",
              "    }\n",
              "    (() => {\n",
              "      let quickchartButtonEl =\n",
              "        document.querySelector('#df-6357ea5e-51f9-4cc2-8b03-426e8c16ae7b button');\n",
              "      quickchartButtonEl.style.display =\n",
              "        google.colab.kernel.accessAllowed ? 'block' : 'none';\n",
              "    })();\n",
              "  </script>\n",
              "</div>\n",
              "\n",
              "    </div>\n",
              "  </div>\n"
            ],
            "application/vnd.google.colaboratory.intrinsic+json": {
              "type": "dataframe",
              "summary": "{\n  \"name\": \"df1\",\n  \"rows\": 10,\n  \"fields\": [\n    {\n      \"column\": \"Violation Code\",\n      \"properties\": {\n        \"dtype\": \"number\",\n        \"std\": 18,\n        \"min\": 36,\n        \"max\": 84,\n        \"num_unique_values\": 4,\n        \"samples\": [\n          62,\n          84,\n          36\n        ],\n        \"semantic_type\": \"\",\n        \"description\": \"\"\n      }\n    },\n    {\n      \"column\": \"Violation Description\",\n      \"properties\": {\n        \"dtype\": \"category\",\n        \"num_unique_values\": 4,\n        \"samples\": [\n          \"62-Beyond Marked Space\",\n          \"84-Platform lifts in low posit\",\n          \"PHTO SCHOOL ZN SPEED VIOLATION\"\n        ],\n        \"semantic_type\": \"\",\n        \"description\": \"\"\n      }\n    }\n  ]\n}"
            }
          },
          "metadata": {},
          "execution_count": 17
        }
      ]
    },
    {
      "cell_type": "markdown",
      "source": [
        "3. **How many records are there in the dataset?**\n",
        "    - Determine the total number of parking violation records.\n",
        "    "
      ],
      "metadata": {
        "id": "PyEyXEez5-ly"
      }
    },
    {
      "cell_type": "code",
      "source": [
        "len(df)"
      ],
      "metadata": {
        "colab": {
          "base_uri": "https://localhost:8080/"
        },
        "id": "v5hQW56g5_iH",
        "outputId": "92285c1e-e774-4dbd-a171-1a88dc0be0a7"
      },
      "execution_count": null,
      "outputs": [
        {
          "output_type": "execute_result",
          "data": {
            "text/plain": [
              "15435607"
            ]
          },
          "metadata": {},
          "execution_count": 18
        }
      ]
    },
    {
      "cell_type": "markdown",
      "source": [
        "### **Data Cleaning**\n",
        "\n",
        "1. **Are there any missing or null values in the dataset?**\n",
        "    - Identify columns with missing data and describe how you handled them.\n",
        "2. **Are there any duplicate records in the dataset?**\n",
        "    - Check for duplicates and describe the steps taken to remove them.\n",
        "3. **Are the data types of each column appropriate?**\n",
        "    - Verify and correct data types, especially for dates and numerical values."
      ],
      "metadata": {
        "id": "sqpUvmhL6Whe"
      }
    },
    {
      "cell_type": "markdown",
      "source": [
        "1. **Are there any missing or null values in the dataset?**\n",
        "    - Identify columns with missing data and describe how you handled them."
      ],
      "metadata": {
        "id": "X2Sz8R5P6oLC"
      }
    },
    {
      "cell_type": "code",
      "source": [
        "# Check for missing values\n",
        "missing_values = df.isna().sum()\n",
        "\n",
        "# Display columns with missing values\n",
        "columns_with_missing_values = missing_values[missing_values > 0]\n",
        "print(\"Columns with missing values:\")\n",
        "print(columns_with_missing_values)\n"
      ],
      "metadata": {
        "colab": {
          "base_uri": "https://localhost:8080/"
        },
        "id": "ssfuu4bj6pAm",
        "outputId": "4a0c2553-c151-4f50-ef73-ce2c6b958d13"
      },
      "execution_count": null,
      "outputs": [
        {
          "output_type": "stream",
          "name": "stdout",
          "text": [
            "Columns with missing values:\n",
            "Series([], dtype: int64)\n"
          ]
        }
      ]
    },
    {
      "cell_type": "markdown",
      "source": [
        "To handle missing values, you have several options:\n",
        "\n",
        "1. Remove rows with missing values: If the number of missing values is relatively small compared to the total size of the dataset and does not significantly affect the analysis, you can remove rows containing missing values using the dropna() function.\n",
        "\n",
        "2. Fill missing values: You can fill missing values with a specific value, such as the mean, median, or mode of the column, using the fillna() function.\n",
        "\n",
        "3. Impute missing values: You can use more advanced techniques, such as imputation, to estimate missing values based on the values of other columns or external information."
      ],
      "metadata": {
        "id": "Smp3ZBsZ9bcq"
      }
    },
    {
      "cell_type": "markdown",
      "source": [
        "2. **Are there any duplicate records in the dataset?**\n",
        "    - Check for duplicates and describe the steps taken to remove them."
      ],
      "metadata": {
        "id": "wT7ya8H49hs2"
      }
    },
    {
      "cell_type": "code",
      "source": [
        "# Check for duplicate records\n",
        "duplicates = df.duplicated()\n",
        "\n",
        "# Display rows with duplicate records\n",
        "duplicate_rows = df[duplicates]\n",
        "print(\"Duplicate Rows:\")\n",
        "print(duplicate_rows)\n"
      ],
      "metadata": {
        "colab": {
          "base_uri": "https://localhost:8080/"
        },
        "id": "umhA3V-09ph3",
        "outputId": "46fb6495-8859-4c72-aad9-33a37be0e855"
      },
      "execution_count": null,
      "outputs": [
        {
          "output_type": "stream",
          "name": "stdout",
          "text": [
            "Duplicate Rows:\n",
            "Empty DataFrame\n",
            "Columns: [Registration State, Violation Description, Vehicle Body Type, Issue Date, Summons Number]\n",
            "Index: []\n"
          ]
        }
      ]
    },
    {
      "cell_type": "markdown",
      "source": [
        "If you find duplicate records and want to remove them, you can use the drop_duplicates() function. This function removes duplicate rows from the DataFrame.\n",
        "#Remove duplicate records\n",
        "df_no_duplicates = df.drop_duplicates()\n",
        "\n",
        "#Check the shape to see how many duplicate records were removed\n",
        "original_shape = df.shape\n",
        "new_shape = df_no_duplicates.shape\n",
        "print(\"Original Shape:\", original_shape)\n",
        "print(\"Shape after removing duplicates:\", new_shape)"
      ],
      "metadata": {
        "id": "lLN1yewe_ppM"
      }
    },
    {
      "cell_type": "markdown",
      "source": [
        "3. **Are the data types of each column appropriate?**\n",
        "    - Verify and correct data types, especially for dates and numerical values."
      ],
      "metadata": {
        "id": "9tnEsVgdAJqy"
      }
    },
    {
      "cell_type": "code",
      "source": [
        "print(\"Data Types:\")\n",
        "print(df.dtypes)"
      ],
      "metadata": {
        "colab": {
          "base_uri": "https://localhost:8080/"
        },
        "id": "K4Er5fWXBwop",
        "outputId": "7c2f1e38-6c00-42a2-c4b8-624797011625"
      },
      "execution_count": null,
      "outputs": [
        {
          "output_type": "stream",
          "name": "stdout",
          "text": [
            "Data Types:\n",
            "Registration State       object\n",
            "Violation Description    object\n",
            "Vehicle Body Type        object\n",
            "Issue Date               object\n",
            "Summons Number            int64\n",
            "dtype: object\n"
          ]
        }
      ]
    },
    {
      "cell_type": "markdown",
      "source": [
        "1. Registration State, Violation Description, Vehicle Body Type: These columns are correctly identified as object data types, which typically represent string or categorical data.\n",
        "\n",
        "2. Issue Date: This column is currently identified as an object data type, which usually indicates that it's stored as a string. To work with dates efficiently, it's better to convert this column to a datetime data type. You can do this using the pd.to_datetime() function.\n",
        "\n",
        "3. Summons Number: This column is correctly identified as an integer data type, which is appropriate for numerical identifiers."
      ],
      "metadata": {
        "id": "W85Z1B72CsK6"
      }
    },
    {
      "cell_type": "code",
      "source": [
        "# Convert 'Issue Date' to datetime\n",
        "df['Issue Date'] = pd.to_datetime(df['Issue Date'])\n",
        "print(df.dtypes)"
      ],
      "metadata": {
        "colab": {
          "base_uri": "https://localhost:8080/"
        },
        "id": "fd6wspK7C3E3",
        "outputId": "104b8381-0af1-431f-8db3-79631eeec0d3"
      },
      "execution_count": null,
      "outputs": [
        {
          "output_type": "stream",
          "name": "stdout",
          "text": [
            "Registration State               object\n",
            "Violation Description            object\n",
            "Vehicle Body Type                object\n",
            "Issue Date               datetime64[ns]\n",
            "Summons Number                    int64\n",
            "dtype: object\n"
          ]
        }
      ]
    },
    {
      "cell_type": "markdown",
      "source": [
        "### **Descriptive Analysis**\n",
        "\n",
        "1. **What are the most common types of parking violations?**\n",
        "    - Identify the top 10 most frequent violation codes and their counts.\n",
        "2. **What are the descriptive statistics for numerical columns (e.g., fine amounts)?**\n",
        "    - Provide summary statistics such as mean, median, and standard deviation.\n",
        "3. **How are violations distributed over time (e.g., monthly, yearly)?**\n",
        "    - Analyze the number of violations by month and year to identify trends."
      ],
      "metadata": {
        "id": "o2Ez-_dxx7sa"
      }
    },
    {
      "cell_type": "markdown",
      "source": [
        "1. **What are the most common types of parking violations?**\n",
        "    - Identify the top 10 most frequent violation codes and their counts."
      ],
      "metadata": {
        "id": "ciQnhCodyL-K"
      }
    },
    {
      "cell_type": "code",
      "source": [
        "# Counting the occurrences of each violation code\n",
        "violation_counts = df['Violation Description'].value_counts()\n",
        "\n",
        "# Getting the top 10 most frequent violation codes and their counts\n",
        "top_10_violations = violation_counts.head(10)\n",
        "#top_10_violations = violation_counts.head(10).reset_index(name=\"count\")\n",
        "print(\"Top 10 most frequent violation codes and their counts:\")\n",
        "print(top_10_violations)"
      ],
      "metadata": {
        "id": "5_wtTs1hyZE_",
        "outputId": "9602bfc7-b45e-4736-8545-79c69a839c37",
        "colab": {
          "base_uri": "https://localhost:8080/"
        }
      },
      "execution_count": null,
      "outputs": [
        {
          "output_type": "stream",
          "name": "stdout",
          "text": [
            "Top 10 most frequent violation codes and their counts:\n",
            "Violation Description\n",
            "PHTO SCHOOL ZN SPEED VIOLATION    4706069\n",
            "21-No Parking (street clean)      1246219\n",
            "38-Failure to Dsplay Meter Rec    1064969\n",
            "14-No Standing                     904944\n",
            "40-Fire Hydrant                    759820\n",
            "BUS LANE VIOLATION                 681897\n",
            "FAILURE TO STOP AT RED LIGHT       592554\n",
            "71A-Insp Sticker Expired (NYS)     588538\n",
            "20A-No Parking (Non-COM)           556402\n",
            "70A-Reg. Sticker Expired (NYS)     353457\n",
            "Name: count, dtype: int64\n"
          ]
        }
      ]
    },
    {
      "cell_type": "markdown",
      "source": [
        "2. **What are the descriptive statistics for numerical columns (e.g., fine amounts)?**\n",
        "    - Provide summary statistics such as mean, median, and standard deviation."
      ],
      "metadata": {
        "id": "rlaWIAt_1akI"
      }
    },
    {
      "cell_type": "code",
      "source": [
        "numerical_stats = df.describe()\n",
        "\n",
        "# Print the descriptive statistics\n",
        "print(\"Descriptive statistics for numerical columns:\")\n",
        "print(numerical_stats)"
      ],
      "metadata": {
        "id": "gYWj82yj1i2H",
        "outputId": "3f78d7df-ba69-4d86-b3f4-aabe121bd1c7",
        "colab": {
          "base_uri": "https://localhost:8080/"
        }
      },
      "execution_count": null,
      "outputs": [
        {
          "output_type": "stream",
          "name": "stdout",
          "text": [
            "Descriptive statistics for numerical columns:\n",
            "       Summons Number\n",
            "count    1.543561e+07\n",
            "mean     6.925359e+09\n",
            "std      2.304596e+09\n",
            "min      1.030415e+09\n",
            "25%      4.762182e+09\n",
            "50%      8.779595e+09\n",
            "75%      8.910182e+09\n",
            "max      9.000000e+09\n"
          ]
        }
      ]
    },
    {
      "cell_type": "markdown",
      "source": [],
      "metadata": {
        "id": "rXIWnwbU1-O5"
      }
    },
    {
      "cell_type": "markdown",
      "source": [
        "3. **How are violations distributed over time (e.g., monthly, yearly)?**\n",
        "    - Analyze the number of violations by month and year to identify trends."
      ],
      "metadata": {
        "id": "NmLs81hI2Blx"
      }
    },
    {
      "cell_type": "code",
      "source": [
        "\n",
        "# Convert 'Issue Date' column to datetime if it's not already in datetime format\n",
        "df['Issue Date'] = pd.to_datetime(df['Issue Date'])\n",
        "\n",
        "# Extract year and month from the 'Issue Date' column\n",
        "df['Year'] = df['Issue Date'].dt.year\n",
        "df['Month'] = df['Issue Date'].dt.month\n",
        "\n",
        "# Group by year and month and count the number of violations in each group\n",
        "violations_by_month_year = df.groupby(['Year', 'Month']).size().reset_index(name='Violation Count')\n",
        "violations_by_year = df.groupby(['Year']).size().reset_index(name='Violation Count1')\n",
        "# Print the resulting DataFrame\n",
        "#print(\"Violations by month and year:\")\n",
        "print(violations_by_year)"
      ],
      "metadata": {
        "id": "G8HBdiBn2ENN",
        "outputId": "889807ea-7910-47a4-ae56-22febd71359d",
        "colab": {
          "base_uri": "https://localhost:8080/"
        }
      },
      "execution_count": null,
      "outputs": [
        {
          "output_type": "stream",
          "name": "stdout",
          "text": [
            "    Year  Violation Count1\n",
            "0   1973                 2\n",
            "1   2000                88\n",
            "2   2001                 6\n",
            "3   2002                 7\n",
            "4   2003                 1\n",
            "5   2004                 1\n",
            "6   2005                 1\n",
            "7   2006                 3\n",
            "8   2007                 3\n",
            "9   2009                 2\n",
            "10  2010                 9\n",
            "11  2011                12\n",
            "12  2012                32\n",
            "13  2013                 3\n",
            "14  2014                 2\n",
            "15  2015                 5\n",
            "16  2016                 5\n",
            "17  2017                 5\n",
            "18  2018                 7\n",
            "19  2019                20\n",
            "20  2020               281\n",
            "21  2021           8063210\n",
            "22  2022           7371440\n",
            "23  2023               349\n",
            "24  2024                27\n",
            "25  2025                13\n",
            "26  2026                 3\n",
            "27  2027                16\n",
            "28  2028                 7\n",
            "29  2029                 8\n",
            "30  2030                10\n",
            "31  2031                20\n",
            "32  2032                 1\n",
            "33  2034                 1\n",
            "34  2041                 1\n",
            "35  2046                 1\n",
            "36  2061                 2\n",
            "37  2065                 1\n",
            "38  2067                 2\n"
          ]
        }
      ]
    },
    {
      "cell_type": "code",
      "source": [
        "year_values = df[\"Year\"].value_counts()\n",
        "print(year_values.tail(10))\n"
      ],
      "metadata": {
        "id": "-L5iruAB4C8H",
        "outputId": "689b90bf-863e-4335-d535-6e86e91c8f31",
        "colab": {
          "base_uri": "https://localhost:8080/"
        }
      },
      "execution_count": null,
      "outputs": [
        {
          "output_type": "stream",
          "name": "stdout",
          "text": [
            "Year\n",
            "1973    2\n",
            "2061    2\n",
            "2041    1\n",
            "2034    1\n",
            "2004    1\n",
            "2032    1\n",
            "2003    1\n",
            "2046    1\n",
            "2005    1\n",
            "2065    1\n",
            "Name: count, dtype: int64\n"
          ]
        }
      ]
    },
    {
      "cell_type": "code",
      "source": [
        "violations_by_month = df.groupby(['Month']).value_counts().reset_index(name='Violation Count2')\n",
        "print(violations_by_month)"
      ],
      "metadata": {
        "id": "MyEBtRoV6_5M",
        "outputId": "e90fbc1b-a630-45cc-9774-3f99c65d73e7",
        "colab": {
          "base_uri": "https://localhost:8080/"
        }
      },
      "execution_count": null,
      "outputs": [
        {
          "output_type": "stream",
          "name": "stdout",
          "text": [
            "          Month Registration State           Violation Description  \\\n",
            "0             1                 99                  14-No Standing   \n",
            "1             1                 99                  14-No Standing   \n",
            "2             1                 NY              BUS LANE VIOLATION   \n",
            "3             1                 NY              BUS LANE VIOLATION   \n",
            "4             1                 NY              BUS LANE VIOLATION   \n",
            "...         ...                ...                             ...   \n",
            "15435602     12                 NY                    48-Bike Lane   \n",
            "15435603     12                 NY                    48-Bike Lane   \n",
            "15435604     12                 NY                    48-Bike Lane   \n",
            "15435605     12                 NY                    48-Bike Lane   \n",
            "15435606     12                 WY  PHTO SCHOOL ZN SPEED VIOLATION   \n",
            "\n",
            "         Vehicle Body Type Issue Date  Summons Number  Year  Violation Count2  \n",
            "0                     4DSD 2022-01-05      8660022385  2022                 1  \n",
            "1                     4DSD 2022-01-06      8877365950  2022                 1  \n",
            "2                     SUBN 2022-01-04      4021928571  2022                 1  \n",
            "3                     SUBN 2022-01-04      4021928315  2022                 1  \n",
            "4                     SUBN 2022-01-04      4021928327  2022                 1  \n",
            "...                    ...        ...             ...   ...               ...  \n",
            "15435602              SUBN 2021-12-07      8817895714  2021                 1  \n",
            "15435603              SUBN 2021-12-07      8825394901  2021                 1  \n",
            "15435604              SUBN 2021-12-07      8825394937  2021                 1  \n",
            "15435605              SUBN 2021-12-07      8835048837  2021                 1  \n",
            "15435606                LL 2021-12-30      4762708872  2021                 1  \n",
            "\n",
            "[15435607 rows x 8 columns]\n"
          ]
        }
      ]
    },
    {
      "cell_type": "code",
      "source": [
        "violations_by_month = df.groupby(['Month']).size().reset_index(name='Violation Count2')\n",
        "print(violations_by_month)\n",
        "sorted_count = violations_by_month.sort_values(by='Violation Count2',ascending=False )\n",
        "print(\"sorted Count is\")\n",
        "print (sorted_count)"
      ],
      "metadata": {
        "id": "6A4niW6w83i_",
        "outputId": "b3e35f6c-705f-4e51-805f-14f77eb5f337",
        "colab": {
          "base_uri": "https://localhost:8080/"
        }
      },
      "execution_count": null,
      "outputs": [
        {
          "output_type": "stream",
          "name": "stdout",
          "text": [
            "    Month  Violation Count2\n",
            "0       1           1079322\n",
            "1       2           1097699\n",
            "2       3           1391323\n",
            "3       4           1331209\n",
            "4       5           1348415\n",
            "5       6           1376608\n",
            "6       7           1404474\n",
            "7       8           1419834\n",
            "8       9           1190965\n",
            "9      10           1346837\n",
            "10     11           1284580\n",
            "11     12           1164341\n",
            "sorted Count is\n",
            "    Month  Violation Count2\n",
            "7       8           1419834\n",
            "6       7           1404474\n",
            "2       3           1391323\n",
            "5       6           1376608\n",
            "4       5           1348415\n",
            "9      10           1346837\n",
            "3       4           1331209\n",
            "10     11           1284580\n",
            "8       9           1190965\n",
            "11     12           1164341\n",
            "1       2           1097699\n",
            "0       1           1079322\n"
          ]
        }
      ]
    },
    {
      "cell_type": "markdown",
      "source": [
        "### **Temporal Analysis**\n",
        "\n",
        "1. **What days of the week and times of day see the highest number of violations?**\n",
        "    - Determine if there are specific days or times when violations are more frequent.\n",
        "2. **Are there any noticeable trends over the years?**\n",
        "    - Examine if the number of violations has increased or decreased over the years."
      ],
      "metadata": {
        "id": "20ZUhQFiL_Ra"
      }
    },
    {
      "cell_type": "markdown",
      "source": [
        "Answers"
      ],
      "metadata": {
        "id": "7maEHOQPMJLi"
      }
    },
    {
      "cell_type": "markdown",
      "source": [
        "1. **What days of the week and times of day see the highest number of violations?**\n",
        "    - Determine if there are specific days or times when violations are more frequent."
      ],
      "metadata": {
        "id": "r8r4NDboMBQ6"
      }
    },
    {
      "cell_type": "markdown",
      "source": [],
      "metadata": {
        "id": "-776xuG2MKq9"
      }
    },
    {
      "cell_type": "code",
      "source": [
        "print(df[\"Issue Date\"])"
      ],
      "metadata": {
        "id": "OfoxvVFSMGcD",
        "outputId": "bbe9b31a-7b19-419e-f64c-41d4126c8b6b",
        "colab": {
          "base_uri": "https://localhost:8080/"
        }
      },
      "execution_count": null,
      "outputs": [
        {
          "output_type": "stream",
          "name": "stdout",
          "text": [
            "0          2021-06-25\n",
            "1          2021-06-25\n",
            "2          2021-06-17\n",
            "3          2021-06-16\n",
            "4          2021-07-04\n",
            "              ...    \n",
            "15435602   2022-06-07\n",
            "15435603   2022-06-07\n",
            "15435604   2022-06-07\n",
            "15435605   2022-06-07\n",
            "15435606   2022-06-07\n",
            "Name: Issue Date, Length: 15435607, dtype: datetime64[ns]\n"
          ]
        }
      ]
    },
    {
      "cell_type": "code",
      "source": [
        "print(df[\"Issue Date\"].dt.day_name())"
      ],
      "metadata": {
        "id": "5IGFNA8XMqTh",
        "outputId": "c77f0fff-88f1-4642-c8a8-e307e97619b4",
        "colab": {
          "base_uri": "https://localhost:8080/"
        }
      },
      "execution_count": null,
      "outputs": [
        {
          "output_type": "stream",
          "name": "stdout",
          "text": [
            "0              Friday\n",
            "1              Friday\n",
            "2            Thursday\n",
            "3           Wednesday\n",
            "4              Sunday\n",
            "              ...    \n",
            "15435602      Tuesday\n",
            "15435603      Tuesday\n",
            "15435604      Tuesday\n",
            "15435605      Tuesday\n",
            "15435606      Tuesday\n",
            "Name: Issue Date, Length: 15435607, dtype: object\n"
          ]
        }
      ]
    },
    {
      "cell_type": "code",
      "source": [
        "days = df[\"Issue Date\"].dt.day_name().value_counts()\n",
        "print(days)\n"
      ],
      "metadata": {
        "id": "W0XKMMB8M-z3",
        "outputId": "9d1f63b3-e36b-4d4a-86bf-deeb371e8eb2",
        "colab": {
          "base_uri": "https://localhost:8080/"
        }
      },
      "execution_count": null,
      "outputs": [
        {
          "output_type": "stream",
          "name": "stdout",
          "text": [
            "Issue Date\n",
            "Thursday     2913951\n",
            "Friday       2891679\n",
            "Tuesday      2809949\n",
            "Wednesday    2760088\n",
            "Monday       2488563\n",
            "Saturday     1108385\n",
            "Sunday        462992\n",
            "Name: count, dtype: int64\n"
          ]
        }
      ]
    },
    {
      "cell_type": "markdown",
      "source": [
        "2. **Are there any noticeable trends over the years?**\n",
        "    - Examine if the number of violations has increased or decreased over the years."
      ],
      "metadata": {
        "id": "jHcrryPoNh1J"
      }
    },
    {
      "cell_type": "code",
      "source": [
        "yearly_records = df[\"Issue Date\"].dt.year.value_counts() # sorts the values;\n",
        "sorted = yearly_records.sort_index() #sorts the year;alternatively we can also use sort_values() to sort count\n",
        "print(sorted)"
      ],
      "metadata": {
        "id": "gGWslUccNizd",
        "outputId": "e9707d80-3212-427c-ea19-4e1bed79287c",
        "colab": {
          "base_uri": "https://localhost:8080/"
        }
      },
      "execution_count": null,
      "outputs": [
        {
          "output_type": "stream",
          "name": "stdout",
          "text": [
            "Issue Date\n",
            "1973          2\n",
            "2000         88\n",
            "2001          6\n",
            "2002          7\n",
            "2003          1\n",
            "2004          1\n",
            "2005          1\n",
            "2006          3\n",
            "2007          3\n",
            "2009          2\n",
            "2010          9\n",
            "2011         12\n",
            "2012         32\n",
            "2013          3\n",
            "2014          2\n",
            "2015          5\n",
            "2016          5\n",
            "2017          5\n",
            "2018          7\n",
            "2019         20\n",
            "2020        281\n",
            "2021    8063210\n",
            "2022    7371440\n",
            "2023        349\n",
            "2024         27\n",
            "2025         13\n",
            "2026          3\n",
            "2027         16\n",
            "2028          7\n",
            "2029          8\n",
            "2030         10\n",
            "2031         20\n",
            "2032          1\n",
            "2034          1\n",
            "2041          1\n",
            "2046          1\n",
            "2061          2\n",
            "2065          1\n",
            "2067          2\n",
            "Name: count, dtype: int64\n"
          ]
        }
      ]
    },
    {
      "cell_type": "markdown",
      "source": [
        "### **Geospatial Analysis**\n",
        "\n",
        "1. **Which areas or neighborhoods have the highest number of parking violations?**\n",
        "    - Identify hotspots using geospatial analysis.\n",
        "2. **Are there specific streets or intersections with a high frequency of violations?**\n",
        "    - Drill down to more granular locations within the city."
      ],
      "metadata": {
        "id": "NUChb4x6PmXr"
      }
    },
    {
      "cell_type": "markdown",
      "source": [
        "Answers\n"
      ],
      "metadata": {
        "id": "ReNOu5tgP7RZ"
      }
    },
    {
      "cell_type": "markdown",
      "source": [
        "1. **Which areas or neighborhoods have the highest number of parking violations?**\n",
        "    - Identify hotspots using geospatial analysis."
      ],
      "metadata": {
        "id": "OEIr54I9P8-q"
      }
    },
    {
      "cell_type": "code",
      "source": [
        "hotspots=df[\"Registration State\"].value_counts().head(10)\n",
        "print(hotspots)\n"
      ],
      "metadata": {
        "id": "6--03r3lP_hK",
        "colab": {
          "base_uri": "https://localhost:8080/"
        },
        "outputId": "242fd578-5f83-432f-9948-da6ab7b06c2e"
      },
      "execution_count": null,
      "outputs": [
        {
          "output_type": "stream",
          "name": "stdout",
          "text": [
            "Registration State\n",
            "NY    11636477\n",
            "NJ     1412002\n",
            "PA      492026\n",
            "FL      305769\n",
            "CT      239417\n",
            "TX      178467\n",
            "IN      123649\n",
            "MA      104415\n",
            "VA       99976\n",
            "NC       89092\n",
            "Name: count, dtype: int64\n"
          ]
        }
      ]
    },
    {
      "cell_type": "markdown",
      "source": [
        "2. **Are there specific streets or intersections with a high frequency of violations?**\n",
        "    - Drill down to more granular locations within the city."
      ],
      "metadata": {
        "id": "74Qwnj-d6ZwD"
      }
    },
    {
      "cell_type": "code",
      "source": [
        "# high frequency violations\n",
        "high_freq = df[\"Violation Description\"].value_counts().head(5)\n",
        "print(high_freq)\n"
      ],
      "metadata": {
        "colab": {
          "base_uri": "https://localhost:8080/"
        },
        "id": "qtYz3GBf6bQ7",
        "outputId": "2063fd04-095e-41f5-9a36-6c33d3005275"
      },
      "execution_count": null,
      "outputs": [
        {
          "output_type": "stream",
          "name": "stdout",
          "text": [
            "Violation Description\n",
            "PHTO SCHOOL ZN SPEED VIOLATION    4706069\n",
            "21-No Parking (street clean)      1246219\n",
            "38-Failure to Dsplay Meter Rec    1064969\n",
            "14-No Standing                     904944\n",
            "40-Fire Hydrant                    759820\n",
            "Name: count, dtype: int64\n"
          ]
        }
      ]
    },
    {
      "cell_type": "code",
      "source": [
        "(df\n",
        " .groupby(\"Violation Description\")\n",
        " .size()\n",
        " .sort_values(ascending=False)\n",
        " .head(5)\n",
        ")"
      ],
      "metadata": {
        "colab": {
          "base_uri": "https://localhost:8080/"
        },
        "id": "cSCbHfGS7Ozx",
        "outputId": "6d776d28-45be-45a1-8b84-058d2779a71b"
      },
      "execution_count": null,
      "outputs": [
        {
          "output_type": "execute_result",
          "data": {
            "text/plain": [
              "Violation Description\n",
              "PHTO SCHOOL ZN SPEED VIOLATION    4706069\n",
              "21-No Parking (street clean)      1246219\n",
              "38-Failure to Dsplay Meter Rec    1064969\n",
              "14-No Standing                     904944\n",
              "40-Fire Hydrant                    759820\n",
              "dtype: int64"
            ]
          },
          "metadata": {},
          "execution_count": 10
        }
      ]
    },
    {
      "cell_type": "code",
      "source": [
        "(df\n",
        " .groupby([\"Violation Description\"])\n",
        " .agg(\"Registration State\")\n",
        "\n",
        "\n",
        " .head(5)\n",
        ")"
      ],
      "metadata": {
        "colab": {
          "base_uri": "https://localhost:8080/"
        },
        "id": "ceLCzkpK9AjO",
        "outputId": "5c10c8ce-ddbf-4955-9790-9825f8ed8871"
      },
      "execution_count": null,
      "outputs": [
        {
          "output_type": "execute_result",
          "data": {
            "text/plain": [
              "0           NY\n",
              "1           NY\n",
              "2           TX\n",
              "3           MO\n",
              "4           NY\n",
              "            ..\n",
              "14468217    NY\n",
              "14480486    NY\n",
              "14480500    NY\n",
              "15263448    NY\n",
              "15263449    NY\n",
              "Name: Registration State, Length: 752, dtype: object"
            ]
          },
          "metadata": {},
          "execution_count": 18
        }
      ]
    },
    {
      "cell_type": "code",
      "source": [
        "\n",
        "\n",
        "# Filter the DataFrame to include only rows with the specified violation\n",
        "violation_df = df[df['Violation Description'].str.contains(\"PHTO SCHOOL ZN SPEED VIOLATION\")]\n",
        "\n",
        "# Group by 'Registration State' and count the occurrences of each state\n",
        "states_with_counts = violation_df['Registration State'].value_counts().reset_index(name=\"Count\")\n",
        "#states_with_counts.columns = ['Registration State', 'Count']\n",
        "\n",
        "# Print the states along with their associated counts\n",
        "print(\"States with 'PHTO SCHOOL ZN SPEED VIOLATION' and their associated counts:\")\n",
        "print(states_with_counts.head(10))"
      ],
      "metadata": {
        "colab": {
          "base_uri": "https://localhost:8080/"
        },
        "id": "bj0ryM-8_Cvy",
        "outputId": "53e97103-f6ec-4f16-ace1-4605448f9fef"
      },
      "execution_count": null,
      "outputs": [
        {
          "output_type": "stream",
          "name": "stdout",
          "text": [
            "States with 'PHTO SCHOOL ZN SPEED VIOLATION' and their associated counts:\n",
            "  Registration State    Count\n",
            "0                 NY  3743378\n",
            "1                 NJ   356436\n",
            "2                 PA   149773\n",
            "3                 FL   115622\n",
            "4                 CT    68645\n",
            "5                 NC    31102\n",
            "6                 VA    29413\n",
            "7                 MA    25595\n",
            "8                 MD    23526\n",
            "9                 GA    22331\n"
          ]
        }
      ]
    },
    {
      "cell_type": "markdown",
      "source": [
        "### **Policy and Enforcement Analysis**\n",
        "\n",
        "1. **What are the common reasons for issuing parking violations?**\n",
        "    - Analyze the description or nature of the most common violations.\n",
        "2. **How effective are current parking policies based on violation data?**\n",
        "    - Discuss any patterns that suggest the need for policy changes.\n",
        "3. **Can any correlations be found between violation types and locations?**\n",
        "    - Explore if certain types of violations are more common in specific areas."
      ],
      "metadata": {
        "id": "EbSCWs2gCxM-"
      }
    },
    {
      "cell_type": "markdown",
      "source": [
        "Answers"
      ],
      "metadata": {
        "id": "83ExiMWSC6ZE"
      }
    },
    {
      "cell_type": "markdown",
      "source": [
        "1. **What are the common reasons for issuing parking violations?**\n",
        "    - Analyze the description or nature of the most common violations."
      ],
      "metadata": {
        "id": "ZlRaiW7uC8Ab"
      }
    },
    {
      "cell_type": "code",
      "source": [
        "common_violations = df[\"Violation Description\"].value_counts().head(10).reset_index(name=\"count\")\n",
        "print(common_violations)"
      ],
      "metadata": {
        "colab": {
          "base_uri": "https://localhost:8080/"
        },
        "id": "F0dkMeAKDfHR",
        "outputId": "58a33c8a-b5a1-4dd5-c14c-ea555095535f"
      },
      "execution_count": null,
      "outputs": [
        {
          "output_type": "stream",
          "name": "stdout",
          "text": [
            "            Violation Description    count\n",
            "0  PHTO SCHOOL ZN SPEED VIOLATION  4706069\n",
            "1    21-No Parking (street clean)  1246219\n",
            "2  38-Failure to Dsplay Meter Rec  1064969\n",
            "3                  14-No Standing   904944\n",
            "4                 40-Fire Hydrant   759820\n",
            "5              BUS LANE VIOLATION   681897\n",
            "6    FAILURE TO STOP AT RED LIGHT   592554\n",
            "7  71A-Insp Sticker Expired (NYS)   588538\n",
            "8        20A-No Parking (Non-COM)   556402\n",
            "9  70A-Reg. Sticker Expired (NYS)   353457\n"
          ]
        }
      ]
    },
    {
      "cell_type": "markdown",
      "source": [
        "2. **How effective are current parking policies based on violation data?**\n",
        "    - Discuss any patterns that suggest the need for policy changes."
      ],
      "metadata": {
        "id": "nP0e_CQhD_QF"
      }
    },
    {
      "cell_type": "markdown",
      "source": [
        "Policies are not effective enough to reduce the following Violations as they are high in numbers.\n",
        "1. PHTO SCHOOL ZN SPEED VIOLATION\n",
        "2. 21-No Parking (street clean)\n",
        "3. 38-Failure to Dsplay Meter Rec"
      ],
      "metadata": {
        "id": "viD_4AAxEjyN"
      }
    },
    {
      "cell_type": "markdown",
      "source": [
        "3. **Can any correlations be found between violation types and locations?**\n",
        "    - Explore if certain types of violations are more common in specific areas."
      ],
      "metadata": {
        "id": "IcmrcqaxECdC"
      }
    },
    {
      "cell_type": "code",
      "source": [
        "violation_cities=df[\"Registration State\"].value_counts().head(10).reset_index(name=\"counts\")\n",
        "print(violation_cities)"
      ],
      "metadata": {
        "colab": {
          "base_uri": "https://localhost:8080/"
        },
        "id": "l5W0zi0rLCIh",
        "outputId": "9caad3ac-02cc-41a7-8a47-70e791af61df"
      },
      "execution_count": null,
      "outputs": [
        {
          "output_type": "stream",
          "name": "stdout",
          "text": [
            "  Registration State    counts\n",
            "0                 NY  11636477\n",
            "1                 NJ   1412002\n",
            "2                 PA    492026\n",
            "3                 FL    305769\n",
            "4                 CT    239417\n",
            "5                 TX    178467\n",
            "6                 IN    123649\n",
            "7                 MA    104415\n",
            "8                 VA     99976\n",
            "9                 NC     89092\n"
          ]
        }
      ]
    },
    {
      "cell_type": "code",
      "source": [
        "violations_ny_df= df[df[\"Registration State\"].str.contains(\"NY\")]\n",
        "(violations_ny_df[[\"Registration State\",\"Violation Description\"]]\n",
        " .value_counts()\n",
        " .groupby([\"Registration State\"])\n",
        " .head(10)\n",
        ")"
      ],
      "metadata": {
        "colab": {
          "base_uri": "https://localhost:8080/"
        },
        "id": "ICNfw-QTMSR8",
        "outputId": "b8e623f4-2d75-4e3b-a744-acacb4fec25b"
      },
      "execution_count": null,
      "outputs": [
        {
          "output_type": "execute_result",
          "data": {
            "text/plain": [
              "Registration State  Violation Description         \n",
              "NY                  PHTO SCHOOL ZN SPEED VIOLATION    3743378\n",
              "                    21-No Parking (street clean)       898128\n",
              "                    38-Failure to Dsplay Meter Rec     791603\n",
              "                    14-No Standing                     602382\n",
              "                    71A-Insp Sticker Expired (NYS)     588441\n",
              "                    BUS LANE VIOLATION                 519177\n",
              "                    FAILURE TO STOP AT RED LIGHT       465106\n",
              "                    40-Fire Hydrant                    463623\n",
              "                    20A-No Parking (Non-COM)           368581\n",
              "                    70A-Reg. Sticker Expired (NYS)     353433\n",
              "Name: count, dtype: int64"
            ]
          },
          "metadata": {},
          "execution_count": 43
        }
      ]
    },
    {
      "cell_type": "code",
      "source": [
        "\n",
        "(df[[\"Registration State\",\"Violation Description\"]]\n",
        " .value_counts()\n",
        " .groupby(\"Registration State\")\n",
        "\n",
        " .head(1)\n",
        " .sort_index()\n",
        " .reset_index()\n",
        "\n",
        ")"
      ],
      "metadata": {
        "colab": {
          "base_uri": "https://localhost:8080/",
          "height": 423
        },
        "id": "GRQRsyl_YcqA",
        "outputId": "47ba9b60-ad8a-41db-c0ca-b3f138854e83"
      },
      "execution_count": null,
      "outputs": [
        {
          "output_type": "execute_result",
          "data": {
            "text/plain": [
              "   Registration State           Violation Description  count\n",
              "0                  99                            <NA>  17550\n",
              "1                  AB                  14-No Standing     22\n",
              "2                  AK  PHTO SCHOOL ZN SPEED VIOLATION    125\n",
              "3                  AL  PHTO SCHOOL ZN SPEED VIOLATION   3668\n",
              "4                  AR  PHTO SCHOOL ZN SPEED VIOLATION    537\n",
              "..                ...                             ...    ...\n",
              "62                 VT  PHTO SCHOOL ZN SPEED VIOLATION   3024\n",
              "63                 WA    21-No Parking (street clean)   3732\n",
              "64                 WI                  14-No Standing   1639\n",
              "65                 WV  PHTO SCHOOL ZN SPEED VIOLATION   1185\n",
              "66                 WY    21-No Parking (street clean)    138\n",
              "\n",
              "[67 rows x 3 columns]"
            ],
            "text/html": [
              "\n",
              "  <div id=\"df-f8ae8f62-6141-4c1c-94fd-439c060967c7\" class=\"colab-df-container\">\n",
              "    <div>\n",
              "<style scoped>\n",
              "    .dataframe tbody tr th:only-of-type {\n",
              "        vertical-align: middle;\n",
              "    }\n",
              "\n",
              "    .dataframe tbody tr th {\n",
              "        vertical-align: top;\n",
              "    }\n",
              "\n",
              "    .dataframe thead th {\n",
              "        text-align: right;\n",
              "    }\n",
              "</style>\n",
              "<table border=\"1\" class=\"dataframe\">\n",
              "  <thead>\n",
              "    <tr style=\"text-align: right;\">\n",
              "      <th></th>\n",
              "      <th>Registration State</th>\n",
              "      <th>Violation Description</th>\n",
              "      <th>count</th>\n",
              "    </tr>\n",
              "  </thead>\n",
              "  <tbody>\n",
              "    <tr>\n",
              "      <th>0</th>\n",
              "      <td>99</td>\n",
              "      <td>&lt;NA&gt;</td>\n",
              "      <td>17550</td>\n",
              "    </tr>\n",
              "    <tr>\n",
              "      <th>1</th>\n",
              "      <td>AB</td>\n",
              "      <td>14-No Standing</td>\n",
              "      <td>22</td>\n",
              "    </tr>\n",
              "    <tr>\n",
              "      <th>2</th>\n",
              "      <td>AK</td>\n",
              "      <td>PHTO SCHOOL ZN SPEED VIOLATION</td>\n",
              "      <td>125</td>\n",
              "    </tr>\n",
              "    <tr>\n",
              "      <th>3</th>\n",
              "      <td>AL</td>\n",
              "      <td>PHTO SCHOOL ZN SPEED VIOLATION</td>\n",
              "      <td>3668</td>\n",
              "    </tr>\n",
              "    <tr>\n",
              "      <th>4</th>\n",
              "      <td>AR</td>\n",
              "      <td>PHTO SCHOOL ZN SPEED VIOLATION</td>\n",
              "      <td>537</td>\n",
              "    </tr>\n",
              "    <tr>\n",
              "      <th>...</th>\n",
              "      <td>...</td>\n",
              "      <td>...</td>\n",
              "      <td>...</td>\n",
              "    </tr>\n",
              "    <tr>\n",
              "      <th>62</th>\n",
              "      <td>VT</td>\n",
              "      <td>PHTO SCHOOL ZN SPEED VIOLATION</td>\n",
              "      <td>3024</td>\n",
              "    </tr>\n",
              "    <tr>\n",
              "      <th>63</th>\n",
              "      <td>WA</td>\n",
              "      <td>21-No Parking (street clean)</td>\n",
              "      <td>3732</td>\n",
              "    </tr>\n",
              "    <tr>\n",
              "      <th>64</th>\n",
              "      <td>WI</td>\n",
              "      <td>14-No Standing</td>\n",
              "      <td>1639</td>\n",
              "    </tr>\n",
              "    <tr>\n",
              "      <th>65</th>\n",
              "      <td>WV</td>\n",
              "      <td>PHTO SCHOOL ZN SPEED VIOLATION</td>\n",
              "      <td>1185</td>\n",
              "    </tr>\n",
              "    <tr>\n",
              "      <th>66</th>\n",
              "      <td>WY</td>\n",
              "      <td>21-No Parking (street clean)</td>\n",
              "      <td>138</td>\n",
              "    </tr>\n",
              "  </tbody>\n",
              "</table>\n",
              "<p>67 rows × 3 columns</p>\n",
              "</div>\n",
              "    <div class=\"colab-df-buttons\">\n",
              "\n",
              "  <div class=\"colab-df-container\">\n",
              "    <button class=\"colab-df-convert\" onclick=\"convertToInteractive('df-f8ae8f62-6141-4c1c-94fd-439c060967c7')\"\n",
              "            title=\"Convert this dataframe to an interactive table.\"\n",
              "            style=\"display:none;\">\n",
              "\n",
              "  <svg xmlns=\"http://www.w3.org/2000/svg\" height=\"24px\" viewBox=\"0 -960 960 960\">\n",
              "    <path d=\"M120-120v-720h720v720H120Zm60-500h600v-160H180v160Zm220 220h160v-160H400v160Zm0 220h160v-160H400v160ZM180-400h160v-160H180v160Zm440 0h160v-160H620v160ZM180-180h160v-160H180v160Zm440 0h160v-160H620v160Z\"/>\n",
              "  </svg>\n",
              "    </button>\n",
              "\n",
              "  <style>\n",
              "    .colab-df-container {\n",
              "      display:flex;\n",
              "      gap: 12px;\n",
              "    }\n",
              "\n",
              "    .colab-df-convert {\n",
              "      background-color: #E8F0FE;\n",
              "      border: none;\n",
              "      border-radius: 50%;\n",
              "      cursor: pointer;\n",
              "      display: none;\n",
              "      fill: #1967D2;\n",
              "      height: 32px;\n",
              "      padding: 0 0 0 0;\n",
              "      width: 32px;\n",
              "    }\n",
              "\n",
              "    .colab-df-convert:hover {\n",
              "      background-color: #E2EBFA;\n",
              "      box-shadow: 0px 1px 2px rgba(60, 64, 67, 0.3), 0px 1px 3px 1px rgba(60, 64, 67, 0.15);\n",
              "      fill: #174EA6;\n",
              "    }\n",
              "\n",
              "    .colab-df-buttons div {\n",
              "      margin-bottom: 4px;\n",
              "    }\n",
              "\n",
              "    [theme=dark] .colab-df-convert {\n",
              "      background-color: #3B4455;\n",
              "      fill: #D2E3FC;\n",
              "    }\n",
              "\n",
              "    [theme=dark] .colab-df-convert:hover {\n",
              "      background-color: #434B5C;\n",
              "      box-shadow: 0px 1px 3px 1px rgba(0, 0, 0, 0.15);\n",
              "      filter: drop-shadow(0px 1px 2px rgba(0, 0, 0, 0.3));\n",
              "      fill: #FFFFFF;\n",
              "    }\n",
              "  </style>\n",
              "\n",
              "    <script>\n",
              "      const buttonEl =\n",
              "        document.querySelector('#df-f8ae8f62-6141-4c1c-94fd-439c060967c7 button.colab-df-convert');\n",
              "      buttonEl.style.display =\n",
              "        google.colab.kernel.accessAllowed ? 'block' : 'none';\n",
              "\n",
              "      async function convertToInteractive(key) {\n",
              "        const element = document.querySelector('#df-f8ae8f62-6141-4c1c-94fd-439c060967c7');\n",
              "        const dataTable =\n",
              "          await google.colab.kernel.invokeFunction('convertToInteractive',\n",
              "                                                    [key], {});\n",
              "        if (!dataTable) return;\n",
              "\n",
              "        const docLinkHtml = 'Like what you see? Visit the ' +\n",
              "          '<a target=\"_blank\" href=https://colab.research.google.com/notebooks/data_table.ipynb>data table notebook</a>'\n",
              "          + ' to learn more about interactive tables.';\n",
              "        element.innerHTML = '';\n",
              "        dataTable['output_type'] = 'display_data';\n",
              "        await google.colab.output.renderOutput(dataTable, element);\n",
              "        const docLink = document.createElement('div');\n",
              "        docLink.innerHTML = docLinkHtml;\n",
              "        element.appendChild(docLink);\n",
              "      }\n",
              "    </script>\n",
              "  </div>\n",
              "\n",
              "\n",
              "<div id=\"df-b656a048-ccd7-4bf1-a645-82407e171bed\">\n",
              "  <button class=\"colab-df-quickchart\" onclick=\"quickchart('df-b656a048-ccd7-4bf1-a645-82407e171bed')\"\n",
              "            title=\"Suggest charts\"\n",
              "            style=\"display:none;\">\n",
              "\n",
              "<svg xmlns=\"http://www.w3.org/2000/svg\" height=\"24px\"viewBox=\"0 0 24 24\"\n",
              "     width=\"24px\">\n",
              "    <g>\n",
              "        <path d=\"M19 3H5c-1.1 0-2 .9-2 2v14c0 1.1.9 2 2 2h14c1.1 0 2-.9 2-2V5c0-1.1-.9-2-2-2zM9 17H7v-7h2v7zm4 0h-2V7h2v10zm4 0h-2v-4h2v4z\"/>\n",
              "    </g>\n",
              "</svg>\n",
              "  </button>\n",
              "\n",
              "<style>\n",
              "  .colab-df-quickchart {\n",
              "      --bg-color: #E8F0FE;\n",
              "      --fill-color: #1967D2;\n",
              "      --hover-bg-color: #E2EBFA;\n",
              "      --hover-fill-color: #174EA6;\n",
              "      --disabled-fill-color: #AAA;\n",
              "      --disabled-bg-color: #DDD;\n",
              "  }\n",
              "\n",
              "  [theme=dark] .colab-df-quickchart {\n",
              "      --bg-color: #3B4455;\n",
              "      --fill-color: #D2E3FC;\n",
              "      --hover-bg-color: #434B5C;\n",
              "      --hover-fill-color: #FFFFFF;\n",
              "      --disabled-bg-color: #3B4455;\n",
              "      --disabled-fill-color: #666;\n",
              "  }\n",
              "\n",
              "  .colab-df-quickchart {\n",
              "    background-color: var(--bg-color);\n",
              "    border: none;\n",
              "    border-radius: 50%;\n",
              "    cursor: pointer;\n",
              "    display: none;\n",
              "    fill: var(--fill-color);\n",
              "    height: 32px;\n",
              "    padding: 0;\n",
              "    width: 32px;\n",
              "  }\n",
              "\n",
              "  .colab-df-quickchart:hover {\n",
              "    background-color: var(--hover-bg-color);\n",
              "    box-shadow: 0 1px 2px rgba(60, 64, 67, 0.3), 0 1px 3px 1px rgba(60, 64, 67, 0.15);\n",
              "    fill: var(--button-hover-fill-color);\n",
              "  }\n",
              "\n",
              "  .colab-df-quickchart-complete:disabled,\n",
              "  .colab-df-quickchart-complete:disabled:hover {\n",
              "    background-color: var(--disabled-bg-color);\n",
              "    fill: var(--disabled-fill-color);\n",
              "    box-shadow: none;\n",
              "  }\n",
              "\n",
              "  .colab-df-spinner {\n",
              "    border: 2px solid var(--fill-color);\n",
              "    border-color: transparent;\n",
              "    border-bottom-color: var(--fill-color);\n",
              "    animation:\n",
              "      spin 1s steps(1) infinite;\n",
              "  }\n",
              "\n",
              "  @keyframes spin {\n",
              "    0% {\n",
              "      border-color: transparent;\n",
              "      border-bottom-color: var(--fill-color);\n",
              "      border-left-color: var(--fill-color);\n",
              "    }\n",
              "    20% {\n",
              "      border-color: transparent;\n",
              "      border-left-color: var(--fill-color);\n",
              "      border-top-color: var(--fill-color);\n",
              "    }\n",
              "    30% {\n",
              "      border-color: transparent;\n",
              "      border-left-color: var(--fill-color);\n",
              "      border-top-color: var(--fill-color);\n",
              "      border-right-color: var(--fill-color);\n",
              "    }\n",
              "    40% {\n",
              "      border-color: transparent;\n",
              "      border-right-color: var(--fill-color);\n",
              "      border-top-color: var(--fill-color);\n",
              "    }\n",
              "    60% {\n",
              "      border-color: transparent;\n",
              "      border-right-color: var(--fill-color);\n",
              "    }\n",
              "    80% {\n",
              "      border-color: transparent;\n",
              "      border-right-color: var(--fill-color);\n",
              "      border-bottom-color: var(--fill-color);\n",
              "    }\n",
              "    90% {\n",
              "      border-color: transparent;\n",
              "      border-bottom-color: var(--fill-color);\n",
              "    }\n",
              "  }\n",
              "</style>\n",
              "\n",
              "  <script>\n",
              "    async function quickchart(key) {\n",
              "      const quickchartButtonEl =\n",
              "        document.querySelector('#' + key + ' button');\n",
              "      quickchartButtonEl.disabled = true;  // To prevent multiple clicks.\n",
              "      quickchartButtonEl.classList.add('colab-df-spinner');\n",
              "      try {\n",
              "        const charts = await google.colab.kernel.invokeFunction(\n",
              "            'suggestCharts', [key], {});\n",
              "      } catch (error) {\n",
              "        console.error('Error during call to suggestCharts:', error);\n",
              "      }\n",
              "      quickchartButtonEl.classList.remove('colab-df-spinner');\n",
              "      quickchartButtonEl.classList.add('colab-df-quickchart-complete');\n",
              "    }\n",
              "    (() => {\n",
              "      let quickchartButtonEl =\n",
              "        document.querySelector('#df-b656a048-ccd7-4bf1-a645-82407e171bed button');\n",
              "      quickchartButtonEl.style.display =\n",
              "        google.colab.kernel.accessAllowed ? 'block' : 'none';\n",
              "    })();\n",
              "  </script>\n",
              "</div>\n",
              "\n",
              "    </div>\n",
              "  </div>\n"
            ],
            "application/vnd.google.colaboratory.intrinsic+json": {
              "type": "dataframe",
              "summary": "{\n  \"name\": \")\",\n  \"rows\": 67,\n  \"fields\": [\n    {\n      \"column\": \"Registration State\",\n      \"properties\": {\n        \"dtype\": \"string\",\n        \"num_unique_values\": 67,\n        \"samples\": [\n          \"NC\",\n          \"GV\",\n          \"AR\"\n        ],\n        \"semantic_type\": \"\",\n        \"description\": \"\"\n      }\n    },\n    {\n      \"column\": \"Violation Description\",\n      \"properties\": {\n        \"dtype\": \"category\",\n        \"num_unique_values\": 8,\n        \"samples\": [\n          \"14-No Standing\",\n          \"21-No Parking (street clean)\",\n          \"<NA>\"\n        ],\n        \"semantic_type\": \"\",\n        \"description\": \"\"\n      }\n    },\n    {\n      \"column\": \"count\",\n      \"properties\": {\n        \"dtype\": \"number\",\n        \"std\": 458031,\n        \"min\": 1,\n        \"max\": 3743378,\n        \"num_unique_values\": 67,\n        \"samples\": [\n          31102,\n          2451,\n          537\n        ],\n        \"semantic_type\": \"\",\n        \"description\": \"\"\n      }\n    }\n  ]\n}"
            }
          },
          "metadata": {},
          "execution_count": 58
        }
      ]
    },
    {
      "cell_type": "markdown",
      "source": [
        "### **Insights and Recommendations**\n",
        "\n",
        "1. **What are the peak hours for parking violations?**\n",
        "    - Provide insights on the time of day when violations are most frequent.\n",
        "2. **What are the top recommendations to reduce parking violations based on your findings?**\n",
        "    - Suggest actionable steps or policy changes to mitigate parking violations.\n",
        "3. **How might seasonal changes affect parking violations?**\n",
        "    - Consider if there are any seasonal patterns in the data.\n",
        "4. **Are there any outlier events or anomalies in the data?**\n",
        "    - Identify and explain any unusual spikes or drops in the number of violations."
      ],
      "metadata": {
        "id": "EkoQPiCNdp5V"
      }
    },
    {
      "cell_type": "markdown",
      "source": [
        "Answers"
      ],
      "metadata": {
        "id": "_NgcOye-65Rh"
      }
    },
    {
      "cell_type": "markdown",
      "source": [
        "1. **What are the peak hours for parking violations?**\n",
        "    - Provide insights on the time of day when violations are most frequent."
      ],
      "metadata": {
        "id": "hVqJ7PR3iDys"
      }
    },
    {
      "cell_type": "markdown",
      "source": [
        "Time of the day not given"
      ],
      "metadata": {
        "id": "iUYKWr_l7ATj"
      }
    },
    {
      "cell_type": "markdown",
      "source": [
        "2. **What are the top recommendations to reduce parking violations based on your findings?**\n",
        "    - Suggest actionable steps or policy changes to mitigate parking violations."
      ],
      "metadata": {
        "id": "nKEx523SiHDd"
      }
    },
    {
      "cell_type": "markdown",
      "source": [
        "Strict parking regulations need to be implemented and actions must be taken accordingly."
      ],
      "metadata": {
        "id": "ow7A9Hs77EYg"
      }
    },
    {
      "cell_type": "markdown",
      "source": [
        "3. **How might seasonal changes affect parking violations?**\n",
        "    - Consider if there are any seasonal patterns in the data."
      ],
      "metadata": {
        "id": "-Sd0jfpg60hN"
      }
    },
    {
      "cell_type": "markdown",
      "source": [
        "July and August have the highest no of violations"
      ],
      "metadata": {
        "id": "hpm3k2rI8Vmy"
      }
    },
    {
      "cell_type": "markdown",
      "source": [
        "4. **Are there any outlier events or anomalies in the data?**\n",
        "    - Identify and explain any unusual spikes or drops in the number of violations."
      ],
      "metadata": {
        "id": "_IvJQM6l63Zd"
      }
    },
    {
      "cell_type": "markdown",
      "source": [
        "No."
      ],
      "metadata": {
        "id": "U40AA82J8f2m"
      }
    },
    {
      "cell_type": "markdown",
      "source": [
        "### **Additional Questions for Advanced Analysis**\n",
        "\n",
        "1. **What is the financial impact of parking violations on the city?**\n",
        "    - Estimate the total revenue generated from parking fines.\n",
        "2. **How do parking violations correlate with traffic congestion?**\n",
        "    - Analyze if areas with high violations also experience significant traffic issues.\n",
        "3. **What demographic factors, if any, influence parking violations?**\n",
        "    - Explore any demographic data available to see if there are correlations with violation rates.\n",
        "4. **How do weather conditions affect the number of parking violations?**\n",
        "    - Investigate if there is a relationship between weather patterns and violation frequency."
      ],
      "metadata": {
        "id": "Ch--iY8d80ZM"
      }
    },
    {
      "cell_type": "markdown",
      "source": [
        "Answers"
      ],
      "metadata": {
        "id": "9OjYTXmF82JF"
      }
    },
    {
      "cell_type": "markdown",
      "source": [
        "1. **What is the financial impact of parking violations on the city?**\n",
        "    - Estimate the total revenue generated from parking fines."
      ],
      "metadata": {
        "id": "bLWuE0_Y83YZ"
      }
    },
    {
      "cell_type": "markdown",
      "source": [
        "2. **How do parking violations correlate with traffic congestion?**\n",
        "    - Analyze if areas with high violations also experience significant traffic issues."
      ],
      "metadata": {
        "id": "Df7ACBHh85_M"
      }
    },
    {
      "cell_type": "markdown",
      "source": [
        "3. **What demographic factors, if any, influence parking violations?**\n",
        "    - Explore any demographic data available to see if there are correlations with violation rates."
      ],
      "metadata": {
        "id": "7YCmiBBp88Gv"
      }
    },
    {
      "cell_type": "markdown",
      "source": [
        "NY has the highest amount of Violations"
      ],
      "metadata": {
        "id": "jQNRnoxH9Miq"
      }
    },
    {
      "cell_type": "markdown",
      "source": [
        "4. **How do weather conditions affect the number of parking violations?**\n",
        "    - Investigate if there is a relationship between weather patterns and violation frequency."
      ],
      "metadata": {
        "id": "uG4M8MIa8-wJ"
      }
    },
    {
      "cell_type": "markdown",
      "source": [
        "Violations have high number of occurences on July and August(Summer time)"
      ],
      "metadata": {
        "id": "XRGkjiaG9Xr0"
      }
    }
  ]
}